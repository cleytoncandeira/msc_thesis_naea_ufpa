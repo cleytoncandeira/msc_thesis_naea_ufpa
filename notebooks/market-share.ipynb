{
 "cells": [
  {
   "cell_type": "code",
   "execution_count": 28,
   "metadata": {},
   "outputs": [],
   "source": [
    "from fuzzywuzzy import process\n",
    "import pandas as pd \n",
    "import numpy as np\n",
    "from pathlib import Path\n",
    "import matplotlib.pyplot as plt\n",
    "import seaborn as sns"
   ]
  },
  {
   "cell_type": "code",
   "execution_count": 29,
   "metadata": {},
   "outputs": [],
   "source": [
    "current_file_path = Path.cwd()\n",
    "root = current_file_path.parent\n",
    "\n",
    "external_path = root / 'data' / 'external_data' \n",
    "processed_path = root / 'data'/ 'processed_data'"
   ]
  },
  {
   "cell_type": "code",
   "execution_count": 30,
   "metadata": {},
   "outputs": [],
   "source": [
    "rtrs_data = pd.read_csv(processed_path / 'brazil_rtrs.csv', encoding = 'iso-8859-14', decimal=',')\n",
    "farm_branches = pd.read_csv(processed_path / 'farm_branches.csv', usecols = ['State', 'City', 'Organization'])\n",
    "trase = pd.read_excel(external_path / 'trase_soy_2-6-0.xlsx')"
   ]
  },
  {
   "cell_type": "code",
   "execution_count": 31,
   "metadata": {},
   "outputs": [],
   "source": [
    "def find_similarities(list1, list2, limit=75):\n",
    "    \"\"\"\n",
    "    Finds similar strings between two lists using FuzzyWuzzy.\n",
    "    \n",
    "    Parameters:\n",
    "    - list1: List of strings to compare with the second list.\n",
    "    - list2: List of strings against which the first list will be compared.\n",
    "    - threshold: Similarity threshold for considering a string as a match (default 75).\n",
    "    \n",
    "    Returns:\n",
    "    - A list of tuples containing the string from list1, the most similar string from list2 and the similarity score.\n",
    "    \"\"\"\n",
    "    \n",
    "    similar_results = []\n",
    "\n",
    "    for item in list1:\n",
    "        # Find the best match for 'item' in 'list2'\n",
    "        best_match, score = process.extractOne(item, list2)\n",
    "        \n",
    "        # Check if the similarity is above the defined threshold\n",
    "        if score >= limit:\n",
    "            similar_results.append(best_match)\n",
    "            \n",
    "    return similar_results"
   ]
  },
  {
   "cell_type": "code",
   "execution_count": 32,
   "metadata": {},
   "outputs": [],
   "source": [
    "#Similarity between Trase and RTRS\n",
    "amazon_states = [\n",
    "    \"ACRE\",\n",
    "    \"AMAPA\",\n",
    "    \"AMAZONAS\",\n",
    "    \"MARANHAO\",\n",
    "    \"MATO GROSSO\",\n",
    "    \"PARA\",\n",
    "    \"RONDONIA\",\n",
    "    \"RORAIMA\",\n",
    "    \"TOCANTINS\"\n",
    "]\n",
    "\n",
    "#trase_amazon = trase[trase['STATE'].isin(amazon_states)]\n",
    "rtrs_groups = find_similarities(rtrs_data['Organization'].unique().tolist(), trase['EXPORTER GROUP'].unique().tolist(), limit=93)\n",
    "rtrs_groups.append('ADM')\n",
    "rtrs_groups.append('SLC')\n",
    "trase['IS_RTRS'] = trase['EXPORTER GROUP'].apply(lambda x: 1 if x in rtrs_groups else 0)"
   ]
  },
  {
   "cell_type": "code",
   "execution_count": 33,
   "metadata": {},
   "outputs": [
    {
     "data": {
      "text/plain": [
       "(311434, 24)"
      ]
     },
     "execution_count": 33,
     "metadata": {},
     "output_type": "execute_result"
    }
   ],
   "source": [
    "trase.shape"
   ]
  },
  {
   "cell_type": "code",
   "execution_count": 34,
   "metadata": {},
   "outputs": [
    {
     "data": {
      "text/html": [
       "<div>\n",
       "<style scoped>\n",
       "    .dataframe tbody tr th:only-of-type {\n",
       "        vertical-align: middle;\n",
       "    }\n",
       "\n",
       "    .dataframe tbody tr th {\n",
       "        vertical-align: top;\n",
       "    }\n",
       "\n",
       "    .dataframe thead th {\n",
       "        text-align: right;\n",
       "    }\n",
       "</style>\n",
       "<table border=\"1\" class=\"dataframe\">\n",
       "  <thead>\n",
       "    <tr style=\"text-align: right;\">\n",
       "      <th></th>\n",
       "      <th>EXPORTER GROUP</th>\n",
       "      <th>IS_RTRS</th>\n",
       "    </tr>\n",
       "  </thead>\n",
       "  <tbody>\n",
       "    <tr>\n",
       "      <th>0</th>\n",
       "      <td>DOMESTIC CONSUMPTION</td>\n",
       "      <td>0</td>\n",
       "    </tr>\n",
       "    <tr>\n",
       "      <th>1</th>\n",
       "      <td>DOMESTIC CONSUMPTION</td>\n",
       "      <td>0</td>\n",
       "    </tr>\n",
       "    <tr>\n",
       "      <th>2</th>\n",
       "      <td>DOMESTIC CONSUMPTION</td>\n",
       "      <td>0</td>\n",
       "    </tr>\n",
       "    <tr>\n",
       "      <th>3</th>\n",
       "      <td>CARGILL</td>\n",
       "      <td>0</td>\n",
       "    </tr>\n",
       "    <tr>\n",
       "      <th>4</th>\n",
       "      <td>CARGILL</td>\n",
       "      <td>0</td>\n",
       "    </tr>\n",
       "    <tr>\n",
       "      <th>...</th>\n",
       "      <td>...</td>\n",
       "      <td>...</td>\n",
       "    </tr>\n",
       "    <tr>\n",
       "      <th>311429</th>\n",
       "      <td>SODRUGESTVO AGRONEGOCIOS SA</td>\n",
       "      <td>0</td>\n",
       "    </tr>\n",
       "    <tr>\n",
       "      <th>311430</th>\n",
       "      <td>SODRUGESTVO DO BRASIL REPRESENTACAO IMPORTACAO...</td>\n",
       "      <td>0</td>\n",
       "    </tr>\n",
       "    <tr>\n",
       "      <th>311431</th>\n",
       "      <td>USINA MANDU</td>\n",
       "      <td>0</td>\n",
       "    </tr>\n",
       "    <tr>\n",
       "      <th>311432</th>\n",
       "      <td>VOTORANTIM COMERCIAL EXPORTADORA E IMPORTADORA</td>\n",
       "      <td>0</td>\n",
       "    </tr>\n",
       "    <tr>\n",
       "      <th>311433</th>\n",
       "      <td>VOTORANTIM COMERCIAL EXPORTADORA E IMPORTADORA</td>\n",
       "      <td>0</td>\n",
       "    </tr>\n",
       "  </tbody>\n",
       "</table>\n",
       "<p>311434 rows × 2 columns</p>\n",
       "</div>"
      ],
      "text/plain": [
       "                                           EXPORTER GROUP  IS_RTRS\n",
       "0                                    DOMESTIC CONSUMPTION        0\n",
       "1                                    DOMESTIC CONSUMPTION        0\n",
       "2                                    DOMESTIC CONSUMPTION        0\n",
       "3                                                 CARGILL        0\n",
       "4                                                 CARGILL        0\n",
       "...                                                   ...      ...\n",
       "311429                        SODRUGESTVO AGRONEGOCIOS SA        0\n",
       "311430  SODRUGESTVO DO BRASIL REPRESENTACAO IMPORTACAO...        0\n",
       "311431                                        USINA MANDU        0\n",
       "311432     VOTORANTIM COMERCIAL EXPORTADORA E IMPORTADORA        0\n",
       "311433     VOTORANTIM COMERCIAL EXPORTADORA E IMPORTADORA        0\n",
       "\n",
       "[311434 rows x 2 columns]"
      ]
     },
     "execution_count": 34,
     "metadata": {},
     "output_type": "execute_result"
    }
   ],
   "source": [
    "trase[['EXPORTER GROUP', 'IS_RTRS']]"
   ]
  },
  {
   "cell_type": "code",
   "execution_count": 35,
   "metadata": {},
   "outputs": [
    {
     "data": {
      "text/plain": [
       "Index(['YEAR', 'COUNTRY OF PRODUCTION', 'BIOME', 'STATE',\n",
       "       'MUNICIPALITY OF PRODUCTION', 'LOGISTICS HUB', 'PORT OF EXPORT',\n",
       "       'EXPORTER', 'EXPORTER GROUP', 'IMPORTER', 'IMPORTER GROUP',\n",
       "       'COUNTRY OF FIRST IMPORT', 'ECONOMIC BLOC', 'TYPE',\n",
       "       'Soy deforestation exposure', 'FOB_USD',\n",
       "       'CO2_GROSS_EMISSIONS_SOY_DEFORESTATION_5_YEAR_TOTAL_EXPOSURE',\n",
       "       'SOY_EQUIVALENT_TONNES', 'LAND_USE_HA',\n",
       "       'CO2_NET_EMISSIONS_SOY_DEFORESTATION_5_YEAR_TOTAL_EXPOSURE',\n",
       "       'Soy deforestation risk', 'ZERO_DEFORESTATION_BRAZIL_SOY',\n",
       "       'TRASE_GEOCODE', 'IS_RTRS'],\n",
       "      dtype='object')"
      ]
     },
     "execution_count": 35,
     "metadata": {},
     "output_type": "execute_result"
    }
   ],
   "source": [
    "trase.columns"
   ]
  },
  {
   "cell_type": "code",
   "execution_count": 36,
   "metadata": {},
   "outputs": [],
   "source": [
    "trase = trase[['EXPORTER GROUP','Soy deforestation exposure', 'FOB_USD', 'CO2_GROSS_EMISSIONS_SOY_DEFORESTATION_5_YEAR_TOTAL_EXPOSURE',\n",
    "               'SOY_EQUIVALENT_TONNES', 'LAND_USE_HA', 'CO2_NET_EMISSIONS_SOY_DEFORESTATION_5_YEAR_TOTAL_EXPOSURE',\n",
    "               'Soy deforestation risk', 'IS_RTRS', 'STATE','MUNICIPALITY OF PRODUCTION', 'YEAR']]"
   ]
  },
  {
   "cell_type": "code",
   "execution_count": 37,
   "metadata": {},
   "outputs": [],
   "source": [
    "trase.rename(columns={'EXPORTER GROUP': 'Group', \n",
    "                      'Soy deforestation exposure': 'SoyDefExp',\n",
    "                      'FOB_USD': 'ExpFOB',\n",
    "                      'CO2_GROSS_EMISSIONS_SOY_DEFORESTATION_5_YEAR_TOTAL_EXPOSURE': 'CO2Gross',\n",
    "                      'SOY_EQUIVALENT_TONNES': 'SoyTonnes',\n",
    "                      'LAND_USE_HA': 'LandUse',\n",
    "                      'CO2_NET_EMISSIONS_SOY_DEFORESTATION_5_YEAR_TOTAL_EXPOSURE': 'CO2Net',\n",
    "                      'Soy deforestation risk': 'SoyRisk',\n",
    "                      'IS_RTRS': 'IsRTRS' ,\n",
    "                      'STATE': 'State',\n",
    "                      'MUNICIPALITY OF PRODUCTION': 'City',\n",
    "                      'YEAR': 'Year'\n",
    "                      }, inplace=True)"
   ]
  },
  {
   "cell_type": "code",
   "execution_count": 38,
   "metadata": {},
   "outputs": [],
   "source": [
    "trase['Yield'] = trase['SoyTonnes'] / trase['LandUse']"
   ]
  },
  {
   "cell_type": "code",
   "execution_count": 39,
   "metadata": {},
   "outputs": [
    {
     "data": {
      "text/html": [
       "<div>\n",
       "<style scoped>\n",
       "    .dataframe tbody tr th:only-of-type {\n",
       "        vertical-align: middle;\n",
       "    }\n",
       "\n",
       "    .dataframe tbody tr th {\n",
       "        vertical-align: top;\n",
       "    }\n",
       "\n",
       "    .dataframe thead th {\n",
       "        text-align: right;\n",
       "    }\n",
       "</style>\n",
       "<table border=\"1\" class=\"dataframe\">\n",
       "  <thead>\n",
       "    <tr style=\"text-align: right;\">\n",
       "      <th></th>\n",
       "      <th>Group</th>\n",
       "      <th>SoyDefExp</th>\n",
       "      <th>ExpFOB</th>\n",
       "      <th>CO2Gross</th>\n",
       "      <th>SoyTonnes</th>\n",
       "      <th>LandUse</th>\n",
       "      <th>CO2Net</th>\n",
       "      <th>SoyRisk</th>\n",
       "      <th>IsRTRS</th>\n",
       "      <th>State</th>\n",
       "      <th>City</th>\n",
       "      <th>Year</th>\n",
       "      <th>Yield</th>\n",
       "    </tr>\n",
       "  </thead>\n",
       "  <tbody>\n",
       "    <tr>\n",
       "      <th>0</th>\n",
       "      <td>DOMESTIC CONSUMPTION</td>\n",
       "      <td>0.0</td>\n",
       "      <td>0.000000</td>\n",
       "      <td>0.0</td>\n",
       "      <td>81.000000</td>\n",
       "      <td>27.000000</td>\n",
       "      <td>0.0</td>\n",
       "      <td>0.0</td>\n",
       "      <td>0</td>\n",
       "      <td>ACRE</td>\n",
       "      <td>CAPIXABA</td>\n",
       "      <td>2017</td>\n",
       "      <td>3.000</td>\n",
       "    </tr>\n",
       "    <tr>\n",
       "      <th>1</th>\n",
       "      <td>DOMESTIC CONSUMPTION</td>\n",
       "      <td>0.0</td>\n",
       "      <td>0.000000</td>\n",
       "      <td>0.0</td>\n",
       "      <td>1279.882771</td>\n",
       "      <td>496.078593</td>\n",
       "      <td>0.0</td>\n",
       "      <td>0.0</td>\n",
       "      <td>0</td>\n",
       "      <td>ACRE</td>\n",
       "      <td>CAPIXABA</td>\n",
       "      <td>2019</td>\n",
       "      <td>2.580</td>\n",
       "    </tr>\n",
       "    <tr>\n",
       "      <th>2</th>\n",
       "      <td>DOMESTIC CONSUMPTION</td>\n",
       "      <td>0.0</td>\n",
       "      <td>0.000000</td>\n",
       "      <td>0.0</td>\n",
       "      <td>1500.000000</td>\n",
       "      <td>480.000000</td>\n",
       "      <td>0.0</td>\n",
       "      <td>0.0</td>\n",
       "      <td>0</td>\n",
       "      <td>ACRE</td>\n",
       "      <td>CAPIXABA</td>\n",
       "      <td>2020</td>\n",
       "      <td>3.125</td>\n",
       "    </tr>\n",
       "    <tr>\n",
       "      <th>3</th>\n",
       "      <td>CARGILL</td>\n",
       "      <td>0.0</td>\n",
       "      <td>31812.773141</td>\n",
       "      <td>0.0</td>\n",
       "      <td>83.358068</td>\n",
       "      <td>26.049396</td>\n",
       "      <td>0.0</td>\n",
       "      <td>0.0</td>\n",
       "      <td>0</td>\n",
       "      <td>ACRE</td>\n",
       "      <td>CAPIXABA</td>\n",
       "      <td>2018</td>\n",
       "      <td>3.200</td>\n",
       "    </tr>\n",
       "    <tr>\n",
       "      <th>4</th>\n",
       "      <td>CARGILL</td>\n",
       "      <td>0.0</td>\n",
       "      <td>23971.251881</td>\n",
       "      <td>0.0</td>\n",
       "      <td>59.739949</td>\n",
       "      <td>18.668734</td>\n",
       "      <td>0.0</td>\n",
       "      <td>0.0</td>\n",
       "      <td>0</td>\n",
       "      <td>ACRE</td>\n",
       "      <td>CAPIXABA</td>\n",
       "      <td>2018</td>\n",
       "      <td>3.200</td>\n",
       "    </tr>\n",
       "  </tbody>\n",
       "</table>\n",
       "</div>"
      ],
      "text/plain": [
       "                  Group  SoyDefExp        ExpFOB  CO2Gross    SoyTonnes  \\\n",
       "0  DOMESTIC CONSUMPTION        0.0      0.000000       0.0    81.000000   \n",
       "1  DOMESTIC CONSUMPTION        0.0      0.000000       0.0  1279.882771   \n",
       "2  DOMESTIC CONSUMPTION        0.0      0.000000       0.0  1500.000000   \n",
       "3               CARGILL        0.0  31812.773141       0.0    83.358068   \n",
       "4               CARGILL        0.0  23971.251881       0.0    59.739949   \n",
       "\n",
       "      LandUse  CO2Net  SoyRisk  IsRTRS State      City  Year  Yield  \n",
       "0   27.000000     0.0      0.0       0  ACRE  CAPIXABA  2017  3.000  \n",
       "1  496.078593     0.0      0.0       0  ACRE  CAPIXABA  2019  2.580  \n",
       "2  480.000000     0.0      0.0       0  ACRE  CAPIXABA  2020  3.125  \n",
       "3   26.049396     0.0      0.0       0  ACRE  CAPIXABA  2018  3.200  \n",
       "4   18.668734     0.0      0.0       0  ACRE  CAPIXABA  2018  3.200  "
      ]
     },
     "execution_count": 39,
     "metadata": {},
     "output_type": "execute_result"
    }
   ],
   "source": [
    "trase.head()"
   ]
  },
  {
   "cell_type": "code",
   "execution_count": 40,
   "metadata": {},
   "outputs": [
    {
     "data": {
      "image/png": "[encoded data removed]",
      "text/plain": [
       "<Figure size 640x480 with 1 Axes>"
      ]
     },
     "metadata": {},
     "output_type": "display_data"
    }
   ],
   "source": [
    "palette = {0: 'turquoise', 1: '#8B0000'}\n",
    "\n",
    "sns.scatterplot(data=trase, x='ExpFOB', y='SoyTonnes', hue='IsRTRS', palette=palette)\n",
    "\n",
    "plt.show()"
   ]
  },
  {
   "cell_type": "code",
   "execution_count": 41,
   "metadata": {},
   "outputs": [
    {
     "data": {
      "text/html": [
       "<div>\n",
       "<style scoped>\n",
       "    .dataframe tbody tr th:only-of-type {\n",
       "        vertical-align: middle;\n",
       "    }\n",
       "\n",
       "    .dataframe tbody tr th {\n",
       "        vertical-align: top;\n",
       "    }\n",
       "\n",
       "    .dataframe thead th {\n",
       "        text-align: right;\n",
       "    }\n",
       "</style>\n",
       "<table border=\"1\" class=\"dataframe\">\n",
       "  <thead>\n",
       "    <tr style=\"text-align: right;\">\n",
       "      <th></th>\n",
       "      <th>SoyDefExp</th>\n",
       "      <th>ExpFOB</th>\n",
       "      <th>CO2Gross</th>\n",
       "      <th>SoyTonnes</th>\n",
       "      <th>LandUse</th>\n",
       "      <th>CO2Net</th>\n",
       "      <th>SoyRisk</th>\n",
       "      <th>IsRTRS</th>\n",
       "      <th>Year</th>\n",
       "      <th>Yield</th>\n",
       "    </tr>\n",
       "  </thead>\n",
       "  <tbody>\n",
       "    <tr>\n",
       "      <th>count</th>\n",
       "      <td>42434.000000</td>\n",
       "      <td>7.790600e+04</td>\n",
       "      <td>4.243100e+04</td>\n",
       "      <td>7.790600e+04</td>\n",
       "      <td>7.377100e+04</td>\n",
       "      <td>4.243400e+04</td>\n",
       "      <td>42434.000000</td>\n",
       "      <td>77906.0</td>\n",
       "      <td>77906.000000</td>\n",
       "      <td>73771.000000</td>\n",
       "    </tr>\n",
       "    <tr>\n",
       "      <th>mean</th>\n",
       "      <td>35.900147</td>\n",
       "      <td>1.774800e+06</td>\n",
       "      <td>5.410746e+03</td>\n",
       "      <td>4.287280e+05</td>\n",
       "      <td>7.441183e+03</td>\n",
       "      <td>4.748644e+03</td>\n",
       "      <td>15.835769</td>\n",
       "      <td>1.0</td>\n",
       "      <td>2013.413190</td>\n",
       "      <td>88.971722</td>\n",
       "    </tr>\n",
       "    <tr>\n",
       "      <th>std</th>\n",
       "      <td>239.876390</td>\n",
       "      <td>6.366477e+06</td>\n",
       "      <td>3.236172e+04</td>\n",
       "      <td>4.905221e+06</td>\n",
       "      <td>3.397033e+05</td>\n",
       "      <td>2.837039e+04</td>\n",
       "      <td>111.741663</td>\n",
       "      <td>0.0</td>\n",
       "      <td>5.425817</td>\n",
       "      <td>508.164572</td>\n",
       "    </tr>\n",
       "    <tr>\n",
       "      <th>min</th>\n",
       "      <td>0.000000</td>\n",
       "      <td>1.700184e-10</td>\n",
       "      <td>0.000000e+00</td>\n",
       "      <td>4.860248e-13</td>\n",
       "      <td>5.902755e+00</td>\n",
       "      <td>0.000000e+00</td>\n",
       "      <td>0.000000</td>\n",
       "      <td>1.0</td>\n",
       "      <td>2004.000000</td>\n",
       "      <td>0.002000</td>\n",
       "    </tr>\n",
       "    <tr>\n",
       "      <th>25%</th>\n",
       "      <td>0.013259</td>\n",
       "      <td>5.615469e+04</td>\n",
       "      <td>3.386653e+00</td>\n",
       "      <td>1.545641e+02</td>\n",
       "      <td>5.848655e+01</td>\n",
       "      <td>3.093106e+00</td>\n",
       "      <td>0.006405</td>\n",
       "      <td>1.0</td>\n",
       "      <td>2008.000000</td>\n",
       "      <td>2.550000</td>\n",
       "    </tr>\n",
       "    <tr>\n",
       "      <th>50%</th>\n",
       "      <td>0.353748</td>\n",
       "      <td>2.312248e+05</td>\n",
       "      <td>7.832313e+01</td>\n",
       "      <td>6.398339e+02</td>\n",
       "      <td>2.411612e+02</td>\n",
       "      <td>7.056698e+01</td>\n",
       "      <td>0.163431</td>\n",
       "      <td>1.0</td>\n",
       "      <td>2014.000000</td>\n",
       "      <td>3.000000</td>\n",
       "    </tr>\n",
       "    <tr>\n",
       "      <th>75%</th>\n",
       "      <td>4.440915</td>\n",
       "      <td>1.016539e+06</td>\n",
       "      <td>8.636250e+02</td>\n",
       "      <td>2.893867e+03</td>\n",
       "      <td>9.997530e+02</td>\n",
       "      <td>7.674043e+02</td>\n",
       "      <td>1.995764</td>\n",
       "      <td>1.0</td>\n",
       "      <td>2019.000000</td>\n",
       "      <td>3.360000</td>\n",
       "    </tr>\n",
       "    <tr>\n",
       "      <th>max</th>\n",
       "      <td>8729.993955</td>\n",
       "      <td>3.119914e+08</td>\n",
       "      <td>1.315313e+06</td>\n",
       "      <td>4.815032e+08</td>\n",
       "      <td>6.226262e+07</td>\n",
       "      <td>1.155714e+06</td>\n",
       "      <td>6686.939456</td>\n",
       "      <td>1.0</td>\n",
       "      <td>2020.000000</td>\n",
       "      <td>3986.929716</td>\n",
       "    </tr>\n",
       "  </tbody>\n",
       "</table>\n",
       "</div>"
      ],
      "text/plain": [
       "          SoyDefExp        ExpFOB      CO2Gross     SoyTonnes       LandUse  \\\n",
       "count  42434.000000  7.790600e+04  4.243100e+04  7.790600e+04  7.377100e+04   \n",
       "mean      35.900147  1.774800e+06  5.410746e+03  4.287280e+05  7.441183e+03   \n",
       "std      239.876390  6.366477e+06  3.236172e+04  4.905221e+06  3.397033e+05   \n",
       "min        0.000000  1.700184e-10  0.000000e+00  4.860248e-13  5.902755e+00   \n",
       "25%        0.013259  5.615469e+04  3.386653e+00  1.545641e+02  5.848655e+01   \n",
       "50%        0.353748  2.312248e+05  7.832313e+01  6.398339e+02  2.411612e+02   \n",
       "75%        4.440915  1.016539e+06  8.636250e+02  2.893867e+03  9.997530e+02   \n",
       "max     8729.993955  3.119914e+08  1.315313e+06  4.815032e+08  6.226262e+07   \n",
       "\n",
       "             CO2Net       SoyRisk   IsRTRS          Year         Yield  \n",
       "count  4.243400e+04  42434.000000  77906.0  77906.000000  73771.000000  \n",
       "mean   4.748644e+03     15.835769      1.0   2013.413190     88.971722  \n",
       "std    2.837039e+04    111.741663      0.0      5.425817    508.164572  \n",
       "min    0.000000e+00      0.000000      1.0   2004.000000      0.002000  \n",
       "25%    3.093106e+00      0.006405      1.0   2008.000000      2.550000  \n",
       "50%    7.056698e+01      0.163431      1.0   2014.000000      3.000000  \n",
       "75%    7.674043e+02      1.995764      1.0   2019.000000      3.360000  \n",
       "max    1.155714e+06   6686.939456      1.0   2020.000000   3986.929716  "
      ]
     },
     "execution_count": 41,
     "metadata": {},
     "output_type": "execute_result"
    }
   ],
   "source": [
    "trase[trase['IsRTRS'] == 1].describe()"
   ]
  },
  {
   "cell_type": "code",
   "execution_count": 42,
   "metadata": {},
   "outputs": [
    {
     "data": {
      "text/html": [
       "<div>\n",
       "<style scoped>\n",
       "    .dataframe tbody tr th:only-of-type {\n",
       "        vertical-align: middle;\n",
       "    }\n",
       "\n",
       "    .dataframe tbody tr th {\n",
       "        vertical-align: top;\n",
       "    }\n",
       "\n",
       "    .dataframe thead th {\n",
       "        text-align: right;\n",
       "    }\n",
       "</style>\n",
       "<table border=\"1\" class=\"dataframe\">\n",
       "  <thead>\n",
       "    <tr style=\"text-align: right;\">\n",
       "      <th></th>\n",
       "      <th>SoyDefExp</th>\n",
       "      <th>ExpFOB</th>\n",
       "      <th>CO2Gross</th>\n",
       "      <th>SoyTonnes</th>\n",
       "      <th>LandUse</th>\n",
       "      <th>CO2Net</th>\n",
       "      <th>SoyRisk</th>\n",
       "      <th>IsRTRS</th>\n",
       "      <th>Year</th>\n",
       "      <th>Yield</th>\n",
       "    </tr>\n",
       "  </thead>\n",
       "  <tbody>\n",
       "    <tr>\n",
       "      <th>count</th>\n",
       "      <td>139620.000000</td>\n",
       "      <td>2.335280e+05</td>\n",
       "      <td>1.396040e+05</td>\n",
       "      <td>2.335280e+05</td>\n",
       "      <td>2.100330e+05</td>\n",
       "      <td>1.396200e+05</td>\n",
       "      <td>139620.000000</td>\n",
       "      <td>233528.0</td>\n",
       "      <td>233528.000000</td>\n",
       "      <td>210033.000000</td>\n",
       "    </tr>\n",
       "    <tr>\n",
       "      <th>mean</th>\n",
       "      <td>26.104182</td>\n",
       "      <td>1.157381e+06</td>\n",
       "      <td>3.915315e+03</td>\n",
       "      <td>2.710223e+05</td>\n",
       "      <td>5.496631e+03</td>\n",
       "      <td>3.435406e+03</td>\n",
       "      <td>11.535527</td>\n",
       "      <td>0.0</td>\n",
       "      <td>2014.527915</td>\n",
       "      <td>50.193438</td>\n",
       "    </tr>\n",
       "    <tr>\n",
       "      <th>std</th>\n",
       "      <td>258.334712</td>\n",
       "      <td>1.150395e+07</td>\n",
       "      <td>3.697212e+04</td>\n",
       "      <td>4.052906e+06</td>\n",
       "      <td>3.527166e+05</td>\n",
       "      <td>3.256968e+04</td>\n",
       "      <td>126.070213</td>\n",
       "      <td>0.0</td>\n",
       "      <td>5.180321</td>\n",
       "      <td>380.458653</td>\n",
       "    </tr>\n",
       "    <tr>\n",
       "      <th>min</th>\n",
       "      <td>0.000000</td>\n",
       "      <td>0.000000e+00</td>\n",
       "      <td>0.000000e+00</td>\n",
       "      <td>2.153751e-26</td>\n",
       "      <td>2.550059e+00</td>\n",
       "      <td>0.000000e+00</td>\n",
       "      <td>0.000000</td>\n",
       "      <td>0.0</td>\n",
       "      <td>2004.000000</td>\n",
       "      <td>0.000720</td>\n",
       "    </tr>\n",
       "    <tr>\n",
       "      <th>25%</th>\n",
       "      <td>0.000000</td>\n",
       "      <td>2.715121e+04</td>\n",
       "      <td>0.000000e+00</td>\n",
       "      <td>9.813764e+01</td>\n",
       "      <td>3.639268e+01</td>\n",
       "      <td>0.000000e+00</td>\n",
       "      <td>0.000000</td>\n",
       "      <td>0.0</td>\n",
       "      <td>2010.000000</td>\n",
       "      <td>2.686600</td>\n",
       "    </tr>\n",
       "    <tr>\n",
       "      <th>50%</th>\n",
       "      <td>0.075577</td>\n",
       "      <td>1.086262e+05</td>\n",
       "      <td>1.756208e+01</td>\n",
       "      <td>3.875729e+02</td>\n",
       "      <td>1.381925e+02</td>\n",
       "      <td>1.586185e+01</td>\n",
       "      <td>0.036685</td>\n",
       "      <td>0.0</td>\n",
       "      <td>2016.000000</td>\n",
       "      <td>3.060000</td>\n",
       "    </tr>\n",
       "    <tr>\n",
       "      <th>75%</th>\n",
       "      <td>1.357141</td>\n",
       "      <td>5.191059e+05</td>\n",
       "      <td>2.760527e+02</td>\n",
       "      <td>1.966869e+03</td>\n",
       "      <td>6.523302e+02</td>\n",
       "      <td>2.475639e+02</td>\n",
       "      <td>0.646265</td>\n",
       "      <td>0.0</td>\n",
       "      <td>2019.000000</td>\n",
       "      <td>3.450000</td>\n",
       "    </tr>\n",
       "    <tr>\n",
       "      <th>max</th>\n",
       "      <td>24633.228956</td>\n",
       "      <td>2.319586e+09</td>\n",
       "      <td>3.323160e+06</td>\n",
       "      <td>4.448552e+08</td>\n",
       "      <td>9.350598e+07</td>\n",
       "      <td>2.871140e+06</td>\n",
       "      <td>20507.502735</td>\n",
       "      <td>0.0</td>\n",
       "      <td>2020.000000</td>\n",
       "      <td>6415.295909</td>\n",
       "    </tr>\n",
       "  </tbody>\n",
       "</table>\n",
       "</div>"
      ],
      "text/plain": [
       "           SoyDefExp        ExpFOB      CO2Gross     SoyTonnes       LandUse  \\\n",
       "count  139620.000000  2.335280e+05  1.396040e+05  2.335280e+05  2.100330e+05   \n",
       "mean       26.104182  1.157381e+06  3.915315e+03  2.710223e+05  5.496631e+03   \n",
       "std       258.334712  1.150395e+07  3.697212e+04  4.052906e+06  3.527166e+05   \n",
       "min         0.000000  0.000000e+00  0.000000e+00  2.153751e-26  2.550059e+00   \n",
       "25%         0.000000  2.715121e+04  0.000000e+00  9.813764e+01  3.639268e+01   \n",
       "50%         0.075577  1.086262e+05  1.756208e+01  3.875729e+02  1.381925e+02   \n",
       "75%         1.357141  5.191059e+05  2.760527e+02  1.966869e+03  6.523302e+02   \n",
       "max     24633.228956  2.319586e+09  3.323160e+06  4.448552e+08  9.350598e+07   \n",
       "\n",
       "             CO2Net        SoyRisk    IsRTRS           Year          Yield  \n",
       "count  1.396200e+05  139620.000000  233528.0  233528.000000  210033.000000  \n",
       "mean   3.435406e+03      11.535527       0.0    2014.527915      50.193438  \n",
       "std    3.256968e+04     126.070213       0.0       5.180321     380.458653  \n",
       "min    0.000000e+00       0.000000       0.0    2004.000000       0.000720  \n",
       "25%    0.000000e+00       0.000000       0.0    2010.000000       2.686600  \n",
       "50%    1.586185e+01       0.036685       0.0    2016.000000       3.060000  \n",
       "75%    2.475639e+02       0.646265       0.0    2019.000000       3.450000  \n",
       "max    2.871140e+06   20507.502735       0.0    2020.000000    6415.295909  "
      ]
     },
     "execution_count": 42,
     "metadata": {},
     "output_type": "execute_result"
    }
   ],
   "source": [
    "trase[trase['IsRTRS'] == 0].describe()"
   ]
  },
  {
   "cell_type": "code",
   "execution_count": 43,
   "metadata": {},
   "outputs": [],
   "source": [
    "amazon_states = [\n",
    "    \"ACRE\",\n",
    "    \"AMAPA\",\n",
    "    \"AMAZONAS\",\n",
    "    \"MARANHAO\",\n",
    "    \"MATO GROSSO\",\n",
    "    \"PARA\",\n",
    "    \"RONDONIA\",\n",
    "    \"RORAIMA\",\n",
    "    \"TOCANTINS\"\n",
    "]\n",
    "\n",
    "trase_amazon = trase[trase['State'].isin(amazon_states)]"
   ]
  },
  {
   "cell_type": "code",
   "execution_count": 44,
   "metadata": {},
   "outputs": [],
   "source": [
    "trase_consolidated_br = trase.groupby(['Group', 'IsRTRS']).agg({'SoyDefExp': 'mean', \n",
    "                                        'ExpFOB': 'mean',\n",
    "                                        'CO2Gross': 'mean',\n",
    "                                        'CO2Net': 'mean',\n",
    "                                        'SoyTonnes': 'mean', \n",
    "                                        'LandUse':'mean',\n",
    "                                        'SoyRisk': 'mean',\n",
    "                                        'Yield': 'mean',\n",
    "                                        }).reset_index()"
   ]
  },
  {
   "cell_type": "code",
   "execution_count": 45,
   "metadata": {},
   "outputs": [],
   "source": [
    "trase_consolidated_amazon = trase_amazon.groupby(['Group', 'IsRTRS']).agg({'SoyDefExp': 'mean', \n",
    "                                        'ExpFOB': 'mean',\n",
    "                                        'CO2Gross': 'mean',\n",
    "                                        'CO2Net': 'mean',\n",
    "                                        'SoyTonnes': 'mean', \n",
    "                                        'LandUse':'mean',\n",
    "                                        'SoyRisk': 'mean',\n",
    "                                        'Yield': 'mean',\n",
    "                                        }).reset_index()"
   ]
  },
  {
   "cell_type": "markdown",
   "metadata": {},
   "source": [
    "# case brasil"
   ]
  },
  {
   "cell_type": "code",
   "execution_count": 76,
   "metadata": {},
   "outputs": [],
   "source": [
    "total_exports_by_year_br = trase.groupby('Year')['SoyTonnes'].sum()"
   ]
  },
  {
   "cell_type": "code",
   "execution_count": 47,
   "metadata": {},
   "outputs": [],
   "source": [
    "trase = trase.merge(total_exports_by_year_br.rename('TotalExports'), on='Year')"
   ]
  },
  {
   "cell_type": "code",
   "execution_count": 77,
   "metadata": {},
   "outputs": [],
   "source": [
    "# Calcular a produção total por status de certificação e ano\n",
    "certified_production_by_year = trase[trase['IsRTRS'] == 1].groupby('Year')['SoyTonnes'].sum()\n",
    "non_certified_production_by_year = trase[trase['IsRTRS'] == 0].groupby('Year')['SoyTonnes'].sum()"
   ]
  },
  {
   "cell_type": "code",
   "execution_count": 78,
   "metadata": {},
   "outputs": [],
   "source": [
    "growth_rate_market = total_exports_by_year_br.pct_change().dropna()"
   ]
  },
  {
   "cell_type": "code",
   "execution_count": 79,
   "metadata": {},
   "outputs": [
    {
     "data": {
      "text/plain": [
       "[0.19293237067883373,\n",
       " -0.4590204472245941,\n",
       " 0.7442266445672592,\n",
       " 0.37035999217170024,\n",
       " -0.04958340297996722,\n",
       " -0.02037101299246602,\n",
       " 0.3403737178063331,\n",
       " -0.012403220853233643,\n",
       " 0.09175006303411148,\n",
       " 0.07352489006016816,\n",
       " -0.07121766662514195,\n",
       " 0.061917536635382575,\n",
       " 0.12554491956222513,\n",
       " -0.0369965390001028,\n",
       " -0.7471629090588002,\n",
       " 0.9118865607785933]"
      ]
     },
     "execution_count": 79,
     "metadata": {},
     "output_type": "execute_result"
    }
   ],
   "source": [
    "growth_rate_market.tolist()"
   ]
  },
  {
   "cell_type": "code",
   "execution_count": 80,
   "metadata": {},
   "outputs": [],
   "source": [
    "anos = growth_rate_market.index.tolist()\n",
    "crescimento = growth_rate_market.tolist()"
   ]
  },
  {
   "cell_type": "code",
   "execution_count": 81,
   "metadata": {},
   "outputs": [
    {
     "data": {
      "text/plain": [
       "Year\n",
       "2005    0.192932\n",
       "2006   -0.459020\n",
       "2007    0.744227\n",
       "2008    0.370360\n",
       "2009   -0.049583\n",
       "2010   -0.020371\n",
       "2011    0.340374\n",
       "2012   -0.012403\n",
       "2013    0.091750\n",
       "2014    0.073525\n",
       "2015   -0.071218\n",
       "2016    0.061918\n",
       "2017    0.125545\n",
       "2018   -0.036997\n",
       "2019   -0.747163\n",
       "2020    0.911887\n",
       "Name: SoyTonnes, dtype: float64"
      ]
     },
     "execution_count": 81,
     "metadata": {},
     "output_type": "execute_result"
    }
   ],
   "source": [
    "growth_rate_market"
   ]
  },
  {
   "cell_type": "code",
   "execution_count": 82,
   "metadata": {},
   "outputs": [
    {
     "name": "stdout",
     "output_type": "stream",
     "text": [
      "Market Expansion Effect:\n",
      "    Year     Certified  Non_certified\n",
      "0   2006 -2.194578e+08  -1.711837e+09\n",
      "1   2007  2.755880e+08   1.418370e+09\n",
      "2   2008  4.194367e+08   1.050926e+09\n",
      "3   2009 -1.106994e+08  -1.590567e+08\n",
      "4   2010 -5.005345e+07  -5.527886e+07\n",
      "5   2011  7.404799e+08   9.836367e+08\n",
      "6   2012 -4.544380e+07  -3.876762e+07\n",
      "7   2013  2.494364e+08   3.657725e+08\n",
      "8   2014  2.102019e+08   3.280354e+08\n",
      "9   2015 -2.066332e+08  -3.530462e+08\n",
      "10  2016  1.795967e+08   2.723416e+08\n",
      "11  2017  3.723876e+08   6.007078e+08\n",
      "12  2018 -1.018394e+08  -2.209209e+08\n",
      "13  2019 -1.463712e+09  -4.813434e+09\n",
      "14  2020  3.019278e+08   1.635068e+09\n",
      "\n",
      "Competitiveness Effect:\n",
      "    Year     Certified  Non_certified\n",
      "0   2006  5.897590e+08   3.617668e+09\n",
      "1   2007  8.569229e+08   1.419209e+09\n",
      "2   2008  1.813154e+09   2.156936e+09\n",
      "3   2009  2.567791e+09   2.872661e+09\n",
      "4   2010  2.225544e+09   2.945152e+09\n",
      "5   2011  2.923391e+09   2.141973e+09\n",
      "6   2012  2.764095e+09   4.025386e+09\n",
      "7   2013  2.609485e+09   4.095783e+09\n",
      "8   2014  2.691229e+09   4.629249e+09\n",
      "9   2015  3.107212e+09   4.751503e+09\n",
      "10  2016  2.786574e+09   4.512462e+09\n",
      "11  2017  2.380287e+09   5.370687e+09\n",
      "12  2018  2.060866e+09   6.663203e+09\n",
      "13  2019  1.794814e+09   6.606495e+09\n",
      "14  2020  1.010136e+09   1.114027e+09\n"
     ]
    }
   ],
   "source": [
    "# Inicializar listas para armazenar os resultados\n",
    "market_expansion_effect = []\n",
    "competitiveness_effect = []\n",
    "\n",
    "# Calcular o efeito de expansão do mercado e o efeito de competitividade\n",
    "for year in growth_rate_market.index[1:]:\n",
    "    # Efeito de expansão do mercado para certificado e não certificado\n",
    "    me_certified = growth_rate_market[year] * certified_production_by_year[year - 1]\n",
    "    me_non_certified = growth_rate_market[year] * non_certified_production_by_year[year - 1]\n",
    "\n",
    "    # Efeito de competitividade\n",
    "    ce_certified = certified_production_by_year[year] - me_certified\n",
    "    ce_non_certified = non_certified_production_by_year[year] - me_non_certified\n",
    "\n",
    "    # Armazenar os resultados\n",
    "    market_expansion_effect.append({'Year': year, 'Certified': me_certified, 'Non_certified': me_non_certified})\n",
    "    competitiveness_effect.append({'Year': year, 'Certified': ce_certified, 'Non_certified': ce_non_certified})\n",
    "\n",
    "df_market_expansion = pd.DataFrame(market_expansion_effect)\n",
    "df_competitiveness = pd.DataFrame(competitiveness_effect)\n",
    "\n",
    "# Exibir os resultados\n",
    "print(\"Market Expansion Effect:\")\n",
    "print(df_market_expansion)\n",
    "print(\"\\nCompetitiveness Effect:\")\n",
    "print(df_competitiveness)"
   ]
  },
  {
   "cell_type": "code",
   "execution_count": 83,
   "metadata": {},
   "outputs": [],
   "source": [
    "yield_trase = trase.groupby('Year').agg({'Yield': 'sum'}).reset_index()\n",
    "df_market_expansion['Yield'] = yield_trase['Yield'].copy(deep=True)\n",
    "df_competitiveness['Yield'] = yield_trase['Yield'].copy(deep=True)"
   ]
  },
  {
   "cell_type": "code",
   "execution_count": 84,
   "metadata": {},
   "outputs": [],
   "source": [
    "df_market_expansion['Year'] = df_market_expansion['Year'].apply(lambda x: 0 if x < 2012 else 1)\n",
    "df_competitiveness['Year'] = df_competitiveness['Year'].apply(lambda x: 0 if x < 2012 else 1)"
   ]
  },
  {
   "cell_type": "code",
   "execution_count": 85,
   "metadata": {},
   "outputs": [],
   "source": [
    "df_market_expansion = df_market_expansion.groupby('Year').agg({'Certified': 'sum', 'Non_certified': 'sum', 'Yield': 'sum'}).reset_index()\n",
    "df_competitiveness = df_competitiveness.groupby('Year').agg({'Certified': 'sum', 'Non_certified': 'sum', 'Yield': 'sum'}).reset_index()"
   ]
  },
  {
   "cell_type": "code",
   "execution_count": 87,
   "metadata": {},
   "outputs": [
    {
     "data": {
      "text/html": [
       "<div>\n",
       "<style scoped>\n",
       "    .dataframe tbody tr th:only-of-type {\n",
       "        vertical-align: middle;\n",
       "    }\n",
       "\n",
       "    .dataframe tbody tr th {\n",
       "        vertical-align: top;\n",
       "    }\n",
       "\n",
       "    .dataframe thead th {\n",
       "        text-align: right;\n",
       "    }\n",
       "</style>\n",
       "<table border=\"1\" class=\"dataframe\">\n",
       "  <thead>\n",
       "    <tr style=\"text-align: right;\">\n",
       "      <th></th>\n",
       "      <th>Year</th>\n",
       "      <th>Certified</th>\n",
       "      <th>Non_certified</th>\n",
       "      <th>Yield</th>\n",
       "    </tr>\n",
       "  </thead>\n",
       "  <tbody>\n",
       "    <tr>\n",
       "      <th>0</th>\n",
       "      <td>0</td>\n",
       "      <td>1.055294e+09</td>\n",
       "      <td>1.526760e+09</td>\n",
       "      <td>3.051819e+06</td>\n",
       "    </tr>\n",
       "    <tr>\n",
       "      <th>1</th>\n",
       "      <td>1</td>\n",
       "      <td>-5.040781e+08</td>\n",
       "      <td>-2.224244e+09</td>\n",
       "      <td>1.310460e+07</td>\n",
       "    </tr>\n",
       "  </tbody>\n",
       "</table>\n",
       "</div>"
      ],
      "text/plain": [
       "   Year     Certified  Non_certified         Yield\n",
       "0     0  1.055294e+09   1.526760e+09  3.051819e+06\n",
       "1     1 -5.040781e+08  -2.224244e+09  1.310460e+07"
      ]
     },
     "execution_count": 87,
     "metadata": {},
     "output_type": "execute_result"
    }
   ],
   "source": [
    "df_market_expansion"
   ]
  },
  {
   "cell_type": "code",
   "execution_count": 86,
   "metadata": {},
   "outputs": [
    {
     "data": {
      "text/html": [
       "<div>\n",
       "<style scoped>\n",
       "    .dataframe tbody tr th:only-of-type {\n",
       "        vertical-align: middle;\n",
       "    }\n",
       "\n",
       "    .dataframe tbody tr th {\n",
       "        vertical-align: top;\n",
       "    }\n",
       "\n",
       "    .dataframe thead th {\n",
       "        text-align: right;\n",
       "    }\n",
       "</style>\n",
       "<table border=\"1\" class=\"dataframe\">\n",
       "  <thead>\n",
       "    <tr style=\"text-align: right;\">\n",
       "      <th></th>\n",
       "      <th>Year</th>\n",
       "      <th>Certified</th>\n",
       "      <th>Non_certified</th>\n",
       "      <th>Yield</th>\n",
       "    </tr>\n",
       "  </thead>\n",
       "  <tbody>\n",
       "    <tr>\n",
       "      <th>0</th>\n",
       "      <td>0</td>\n",
       "      <td>1.097656e+10</td>\n",
       "      <td>1.515360e+10</td>\n",
       "      <td>3.051819e+06</td>\n",
       "    </tr>\n",
       "    <tr>\n",
       "      <th>1</th>\n",
       "      <td>1</td>\n",
       "      <td>2.120470e+10</td>\n",
       "      <td>4.176879e+10</td>\n",
       "      <td>1.310460e+07</td>\n",
       "    </tr>\n",
       "  </tbody>\n",
       "</table>\n",
       "</div>"
      ],
      "text/plain": [
       "   Year     Certified  Non_certified         Yield\n",
       "0     0  1.097656e+10   1.515360e+10  3.051819e+06\n",
       "1     1  2.120470e+10   4.176879e+10  1.310460e+07"
      ]
     },
     "execution_count": 86,
     "metadata": {},
     "output_type": "execute_result"
    }
   ],
   "source": [
    "df_competitiveness"
   ]
  },
  {
   "cell_type": "code",
   "execution_count": 88,
   "metadata": {},
   "outputs": [],
   "source": [
    "def calcular_taxa_mudanca(valor_inicial, valor_final):\n",
    "    \"\"\"\n",
    "    Calcula a taxa de mudança entre dois valores, adequado para situações onde os valores passam de positivos para negativos ou vice-versa.\n",
    "    \n",
    "    Parâmetros:\n",
    "    valor_inicial (float): O valor no início do período.\n",
    "    valor_final (float): O valor no final do período.\n",
    "    \n",
    "    Retorna:\n",
    "    float: A taxa de mudança entre os valores especificados.\n",
    "    \"\"\"\n",
    "    if valor_inicial == 0:\n",
    "        raise ValueError(\"O valor inicial deve ser diferente de zero para evitar divisão por zero.\")\n",
    "    \n",
    "    taxa_mudanca = (valor_final - valor_inicial) / abs(valor_inicial)\n",
    "    return taxa_mudanca\n"
   ]
  },
  {
   "cell_type": "code",
   "execution_count": 89,
   "metadata": {},
   "outputs": [
    {
     "name": "stdout",
     "output_type": "stream",
     "text": [
      "0.9318165253959346 1.756360864745011\n"
     ]
    }
   ],
   "source": [
    "taxa1 = calcular_taxa_mudanca(1.097656e+10, 2.120470e+10)\n",
    "taxa2 = calcular_taxa_mudanca(1.515360e+10, 4.176879e+10)\n",
    "\n",
    "print(taxa1, taxa2)"
   ]
  },
  {
   "cell_type": "code",
   "execution_count": 91,
   "metadata": {},
   "outputs": [
    {
     "name": "stdout",
     "output_type": "stream",
     "text": [
      "4531463285.470075\n"
     ]
    }
   ],
   "source": [
    "epr = (1.310460e+07/3.051819e+06)*1.055294e+09\n",
    "print(epr)"
   ]
  },
  {
   "cell_type": "markdown",
   "metadata": {},
   "source": [
    "## case amazonia"
   ]
  },
  {
   "cell_type": "code",
   "execution_count": null,
   "metadata": {},
   "outputs": [],
   "source": []
  },
  {
   "cell_type": "markdown",
   "metadata": {},
   "source": [
    "# abordagem generalista"
   ]
  },
  {
   "cell_type": "code",
   "execution_count": 54,
   "metadata": {},
   "outputs": [],
   "source": [
    "ts_general_br = trase.groupby('Year').agg({'SoyTonnes': 'sum'}).reset_index()\n",
    "ts_general_amazon = trase_amazon.groupby('Year').agg({'SoyTonnes': 'sum'}).reset_index()\n"
   ]
  },
  {
   "cell_type": "code",
   "execution_count": 55,
   "metadata": {},
   "outputs": [],
   "source": [
    "ts_general_br['Year'] = ts_general_br['Year'].apply(lambda x: 0 if x < 2012 else 1)\n",
    "ts_general_amazon['Year'] = ts_general_amazon['Year'].apply(lambda x: 0 if x < 2012 else 1)\n"
   ]
  },
  {
   "cell_type": "code",
   "execution_count": 56,
   "metadata": {},
   "outputs": [],
   "source": [
    "ts_general_split_br = ts_general_br.groupby('Year').agg({'SoyTonnes': 'sum'}).reset_index()\n",
    "ts_general_split_amazon = ts_general_amazon.groupby('Year').agg({'SoyTonnes': 'sum'}).reset_index()\n"
   ]
  },
  {
   "cell_type": "code",
   "execution_count": 57,
   "metadata": {},
   "outputs": [
    {
     "name": "stdout",
     "output_type": "stream",
     "text": [
      "   Year     SoyTonnes\n",
      "0     0  3.644660e+10\n",
      "1     1  6.024517e+10\n"
     ]
    }
   ],
   "source": [
    "print(ts_general_split_br)"
   ]
  },
  {
   "cell_type": "code",
   "execution_count": 58,
   "metadata": {},
   "outputs": [
    {
     "name": "stdout",
     "output_type": "stream",
     "text": [
      "   Year     SoyTonnes\n",
      "0     0  1.626892e+10\n",
      "1     1  2.629355e+10\n"
     ]
    }
   ],
   "source": [
    "print(ts_general_split_amazon)"
   ]
  },
  {
   "cell_type": "code",
   "execution_count": 59,
   "metadata": {},
   "outputs": [],
   "source": [
    "def calcular_taxa_crescimento(valor_inicial, valor_final, periodos):\n",
    "    taxa_crescimento = (valor_final / valor_inicial) ** (1/periodos) - 1\n",
    "    return taxa_crescimento"
   ]
  },
  {
   "cell_type": "code",
   "execution_count": 60,
   "metadata": {},
   "outputs": [
    {
     "name": "stdout",
     "output_type": "stream",
     "text": [
      "taxa de crescimento do setor total Brasil: 0.6529709218418178\n",
      "taxa de crescimento do setor total Amazônia: 0.6161828812238304\n"
     ]
    }
   ],
   "source": [
    "taxa_cresc_geral_br = calcular_taxa_crescimento(3.644660e+10, 6.024517e+10, 1)\n",
    "taxa_cresc_geral_amazon = calcular_taxa_crescimento(1.626892e+10, 2.629355e+10, 1)\n",
    "\n",
    "print(f'taxa de crescimento do setor total Brasil: {taxa_cresc_geral_br}')\n",
    "print(f'taxa de crescimento do setor total Amazônia: {taxa_cresc_geral_amazon}')"
   ]
  },
  {
   "cell_type": "markdown",
   "metadata": {},
   "source": [
    "# ver a certificação"
   ]
  },
  {
   "cell_type": "code",
   "execution_count": 61,
   "metadata": {},
   "outputs": [],
   "source": [
    "#Brasil\n",
    "\n",
    "NotRTRSBR = trase[trase['IsRTRS'] == 0]\n",
    "RTRSBR = trase[trase['IsRTRS'] == 1]\n",
    "\n",
    "#Amazônia\n",
    "NotRTRSAM = trase_amazon[trase_amazon['IsRTRS'] == 0]\n",
    "RTRSAM = trase_amazon[trase_amazon['IsRTRS'] == 1]"
   ]
  },
  {
   "cell_type": "code",
   "execution_count": 62,
   "metadata": {},
   "outputs": [],
   "source": [
    "#Brasil\n",
    "NotRTRSBR = NotRTRSBR.groupby('Year').agg({'SoyTonnes': 'sum'}).reset_index()\n",
    "RTRSBR = RTRSBR.groupby('Year').agg({'SoyTonnes': 'sum'}).reset_index()\n",
    "\n",
    "NotRTRSBR['Year'] = NotRTRSBR['Year'].apply(lambda x: 0 if x < 2012 else 1)\n",
    "RTRSBR['Year'] = RTRSBR['Year'].apply(lambda x: 0 if x < 2012 else 1)"
   ]
  },
  {
   "cell_type": "code",
   "execution_count": 63,
   "metadata": {},
   "outputs": [],
   "source": [
    "NotRTRSAM = NotRTRSAM.groupby('Year').agg({'SoyTonnes': 'sum'}).reset_index()\n",
    "RTRSAM = RTRSAM.groupby('Year').agg({'SoyTonnes': 'sum'}).reset_index()\n",
    "\n",
    "NotRTRSAM['Year'] = NotRTRSAM['Year'].apply(lambda x: 0 if x < 2012 else 1)\n",
    "RTRSAM['Year'] = RTRSAM['Year'].apply(lambda x: 0 if x < 2012 else 1)"
   ]
  },
  {
   "cell_type": "code",
   "execution_count": 64,
   "metadata": {},
   "outputs": [],
   "source": [
    "NotRTRSBR = NotRTRSBR.groupby('Year').agg({'SoyTonnes': 'sum'}).reset_index()\n",
    "RTRSBR = RTRSBR.groupby('Year').agg({'SoyTonnes': 'sum'}).reset_index()"
   ]
  },
  {
   "cell_type": "code",
   "execution_count": 65,
   "metadata": {},
   "outputs": [],
   "source": [
    "NotRTRSAM = NotRTRSAM.groupby('Year').agg({'SoyTonnes': 'sum'}).reset_index()\n",
    "RTRSAM = RTRSAM.groupby('Year').agg({'SoyTonnes': 'sum'}).reset_index()"
   ]
  },
  {
   "cell_type": "markdown",
   "metadata": {},
   "source": [
    "# final"
   ]
  },
  {
   "cell_type": "code",
   "execution_count": 66,
   "metadata": {},
   "outputs": [
    {
     "data": {
      "text/html": [
       "<div>\n",
       "<style scoped>\n",
       "    .dataframe tbody tr th:only-of-type {\n",
       "        vertical-align: middle;\n",
       "    }\n",
       "\n",
       "    .dataframe tbody tr th {\n",
       "        vertical-align: top;\n",
       "    }\n",
       "\n",
       "    .dataframe thead th {\n",
       "        text-align: right;\n",
       "    }\n",
       "</style>\n",
       "<table border=\"1\" class=\"dataframe\">\n",
       "  <thead>\n",
       "    <tr style=\"text-align: right;\">\n",
       "      <th></th>\n",
       "      <th>Year</th>\n",
       "      <th>SoyTonnes</th>\n",
       "    </tr>\n",
       "  </thead>\n",
       "  <tbody>\n",
       "    <tr>\n",
       "      <th>0</th>\n",
       "      <td>0</td>\n",
       "      <td>2.374674e+10</td>\n",
       "    </tr>\n",
       "    <tr>\n",
       "      <th>1</th>\n",
       "      <td>1</td>\n",
       "      <td>3.954455e+10</td>\n",
       "    </tr>\n",
       "  </tbody>\n",
       "</table>\n",
       "</div>"
      ],
      "text/plain": [
       "   Year     SoyTonnes\n",
       "0     0  2.374674e+10\n",
       "1     1  3.954455e+10"
      ]
     },
     "execution_count": 66,
     "metadata": {},
     "output_type": "execute_result"
    }
   ],
   "source": [
    "NotRTRSBR"
   ]
  },
  {
   "cell_type": "code",
   "execution_count": 67,
   "metadata": {},
   "outputs": [
    {
     "data": {
      "text/html": [
       "<div>\n",
       "<style scoped>\n",
       "    .dataframe tbody tr th:only-of-type {\n",
       "        vertical-align: middle;\n",
       "    }\n",
       "\n",
       "    .dataframe tbody tr th {\n",
       "        vertical-align: top;\n",
       "    }\n",
       "\n",
       "    .dataframe thead th {\n",
       "        text-align: right;\n",
       "    }\n",
       "</style>\n",
       "<table border=\"1\" class=\"dataframe\">\n",
       "  <thead>\n",
       "    <tr style=\"text-align: right;\">\n",
       "      <th></th>\n",
       "      <th>Year</th>\n",
       "      <th>SoyTonnes</th>\n",
       "    </tr>\n",
       "  </thead>\n",
       "  <tbody>\n",
       "    <tr>\n",
       "      <th>0</th>\n",
       "      <td>0</td>\n",
       "      <td>1.269986e+10</td>\n",
       "    </tr>\n",
       "    <tr>\n",
       "      <th>1</th>\n",
       "      <td>1</td>\n",
       "      <td>2.070062e+10</td>\n",
       "    </tr>\n",
       "  </tbody>\n",
       "</table>\n",
       "</div>"
      ],
      "text/plain": [
       "   Year     SoyTonnes\n",
       "0     0  1.269986e+10\n",
       "1     1  2.070062e+10"
      ]
     },
     "execution_count": 67,
     "metadata": {},
     "output_type": "execute_result"
    }
   ],
   "source": [
    "RTRSBR"
   ]
  },
  {
   "cell_type": "code",
   "execution_count": 68,
   "metadata": {},
   "outputs": [
    {
     "name": "stdout",
     "output_type": "stream",
     "text": [
      "taxa de crescimento do setor total Brasil: 0.6529709218418178\n",
      "taxa de crescimento do setor certificado Brasil: 0.6299880471123305\n",
      "taxa de crescimento do setor nao certificado Brasil: 0.6652622633675191\n"
     ]
    }
   ],
   "source": [
    "taxa_cresc_RTRS_BR = calcular_taxa_crescimento(1.269986e+10, 2.070062e+10, 1)\n",
    "taxa_cresc_NOT_RTRS_BR = calcular_taxa_crescimento(2.374674e+10, 3.954455e+10, 1)\n",
    "\n",
    "print(f'taxa de crescimento do setor total Brasil: {taxa_cresc_geral_br}')\n",
    "print(f'taxa de crescimento do setor certificado Brasil: {taxa_cresc_RTRS_BR}')\n",
    "print(f'taxa de crescimento do setor nao certificado Brasil: {taxa_cresc_NOT_RTRS_BR}')"
   ]
  },
  {
   "cell_type": "code",
   "execution_count": 70,
   "metadata": {},
   "outputs": [
    {
     "data": {
      "image/png": "[encoded data removed]",
      "text/plain": [
       "<Figure size 1500x1000 with 2 Axes>"
      ]
     },
     "metadata": {},
     "output_type": "display_data"
    }
   ],
   "source": [
    "NotRTRS = trase[trase['IsRTRS'] == 0]\n",
    "RTRS = trase[trase['IsRTRS'] == 1]\n",
    "\n",
    "ts_notrtrs = NotRTRS.groupby('Year').agg({'SoyTonnes': 'sum'}).reset_index()\n",
    "ts_rtrs = RTRS.groupby('Year').agg({'SoyTonnes': 'sum'}).reset_index()\n",
    "ts_total = pd.merge(ts_notrtrs, ts_rtrs, on='Year', how='inner')\n",
    "ts_total['Percent'] = ts_total['SoyTonnes_y'] / (ts_total['SoyTonnes_x'] + ts_total['SoyTonnes_y'])\n",
    "\n",
    "fig, (ax1, ax2) = plt.subplots(2, 1, figsize=[15,10], sharex=True)  # Gráficos compartilham o mesmo eixo X\n",
    "\n",
    "# Gráfico de linha para SoyTonnes_x e ExpFOB_y\n",
    "ax1.plot(ts_total['Year'], ts_total['SoyTonnes_x'], marker='o', color='orange', label='soja não-certificada', linewidth=2, markersize=8)\n",
    "ax1.plot(ts_total['Year'], ts_total['SoyTonnes_y'], marker='s', color='green', label='soja certificada', linewidth=2, markersize=8)\n",
    "ax1.set_ylabel('Valores de soja comercializada por tonelada', fontsize=14)  # Define o rótulo do eixo Y para os valores de SoyTonnes\n",
    "ax1.legend(loc='upper left')  # Posiciona a legenda\n",
    "ax1.grid(True, which='both', linestyle='--', linewidth=0.5)  # Adiciona grade ao gráfico\n",
    "\n",
    "# Gráfico de barras para 'percent'\n",
    "ax2.bar(ts_total['Year'], ts_total['Percent'], color='blue', alpha=0.6, label='Percentual da certificação na Produção Total')\n",
    "ax2.set_xlabel('Ano', fontsize=14)  # Define o rótulo do eixo X\n",
    "ax2.set_ylabel('Percentual (%)', fontsize=14)  # Define o rótulo do eixo Y para os valores percentuais\n",
    "ax2.legend(loc='upper right')  # Posiciona a legenda\n",
    "ax2.grid(True, which='both', linestyle='--', linewidth=0.5)  # Adiciona grade ao gráfico\n",
    "\n",
    "# Ajusta o layout para evitar sobreposição\n",
    "plt.tight_layout()\n",
    "plt.savefig('soja_tonelada_cadeia.png')\n",
    "plt.show()  # Mostra os gráficos"
   ]
  },
  {
   "cell_type": "code",
   "execution_count": null,
   "metadata": {},
   "outputs": [],
   "source": []
  }
 ],
 "metadata": {
  "kernelspec": {
   "display_name": "Python 3",
   "language": "python",
   "name": "python3"
  },
  "language_info": {
   "codemirror_mode": {
    "name": "ipython",
    "version": 3
   },
   "file_extension": ".py",
   "mimetype": "text/x-python",
   "name": "python",
   "nbconvert_exporter": "python",
   "pygments_lexer": "ipython3",
   "version": "3.10.12"
  }
 },
 "nbformat": 4,
 "nbformat_minor": 2
}
