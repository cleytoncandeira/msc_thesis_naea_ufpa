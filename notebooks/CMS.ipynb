{
 "cells": [
  {
   "cell_type": "code",
   "execution_count": 27,
   "metadata": {},
   "outputs": [],
   "source": [
    "import pandas as pd \n",
    "import numpy as np\n",
    "import yfinance as yf\n",
    "import statsmodels.api as sm\n",
    "import pmdarima as pm\n",
    "import matplotlib.pyplot as plt\n",
    "import seaborn as sns\n",
    "import plotly.express as px\n",
    "from statsmodels.tsa.statespace.sarimax import SARIMAX\n",
    "from sklearn.linear_model import LinearRegression\n",
    "from sklearn.preprocessing import StandardScaler\n",
    "from statsmodels.tsa.stattools import grangercausalitytests\n",
    "from pathlib import Path\n",
    "from datetime import datetime\n",
    "from fuzzywuzzy import process\n",
    "import statsmodels.api as sm\n",
    "from statsmodels.formula.api import ols\n"
   ]
  },
  {
   "cell_type": "code",
   "execution_count": 28,
   "metadata": {},
   "outputs": [],
   "source": [
    "current_file_path = Path.cwd()\n",
    "root = current_file_path.parent\n",
    "\n",
    "external_path = root / 'data' / 'external_data' \n",
    "processed_path = root / 'data'/ 'processed_data'"
   ]
  },
  {
   "cell_type": "code",
   "execution_count": 29,
   "metadata": {},
   "outputs": [],
   "source": [
    "rtrs_data = pd.read_csv(processed_path / 'brazil_rtrs.csv', encoding = 'iso-8859-14', decimal=',')\n",
    "farm_branches = pd.read_csv(processed_path / 'farm_branches.csv', usecols = ['State', 'City', 'Organization'])\n",
    "b3_data = pd.read_csv(external_path / 'acoes-listadas-b3.csv')\n",
    "trase = pd.read_excel(external_path / 'trase_soy_2-6-0.xlsx')"
   ]
  },
  {
   "cell_type": "code",
   "execution_count": 30,
   "metadata": {},
   "outputs": [],
   "source": [
    "def find_similarities(list1, list2, limit=75):\n",
    "    \"\"\"\n",
    "    Finds similar strings between two lists using FuzzyWuzzy.\n",
    "    \n",
    "    Parameters:\n",
    "    - list1: List of strings to compare with the second list.\n",
    "    - list2: List of strings against which the first list will be compared.\n",
    "    - threshold: Similarity threshold for considering a string as a match (default 75).\n",
    "    \n",
    "    Returns:\n",
    "    - A list of tuples containing the string from list1, the most similar string from list2 and the similarity score.\n",
    "    \"\"\"\n",
    "    \n",
    "    similar_results = []\n",
    "\n",
    "    for item in list1:\n",
    "        # Find the best match for 'item' in 'list2'\n",
    "        best_match, score = process.extractOne(item, list2)\n",
    "        \n",
    "        # Check if the similarity is above the defined threshold\n",
    "        if score >= limit:\n",
    "            similar_results.append(best_match)\n",
    "            \n",
    "    return similar_results"
   ]
  },
  {
   "cell_type": "code",
   "execution_count": 31,
   "metadata": {},
   "outputs": [],
   "source": [
    "#Similarity between Trase and RTRS\n",
    "\n",
    "amazon_states = [\n",
    "    \"ACRE\",\n",
    "    \"AMAPA\",\n",
    "    \"AMAZONAS\",\n",
    "    \"MARANHAO\",\n",
    "    \"MATO GROSSO\",\n",
    "    \"PARA\",\n",
    "    \"RONDONIA\",\n",
    "    \"RORAIMA\",\n",
    "    \"TOCANTINS\"\n",
    "]\n",
    "\n",
    "trase = trase[trase['STATE'].isin(amazon_states)]\n",
    "rtrs_groups = find_similarities(rtrs_data['Organization'].unique().tolist(), trase['EXPORTER GROUP'].unique().tolist(), limit=93)\n",
    "rtrs_groups.append('ADM')\n",
    "rtrs_groups.append('SLC')\n",
    "trase['IS_RTRS'] = trase['EXPORTER GROUP'].apply(lambda x: 1 if x in rtrs_groups else 0)"
   ]
  },
  {
   "cell_type": "code",
   "execution_count": 32,
   "metadata": {},
   "outputs": [
    {
     "data": {
      "text/html": [
       "<div>\n",
       "<style scoped>\n",
       "    .dataframe tbody tr th:only-of-type {\n",
       "        vertical-align: middle;\n",
       "    }\n",
       "\n",
       "    .dataframe tbody tr th {\n",
       "        vertical-align: top;\n",
       "    }\n",
       "\n",
       "    .dataframe thead th {\n",
       "        text-align: right;\n",
       "    }\n",
       "</style>\n",
       "<table border=\"1\" class=\"dataframe\">\n",
       "  <thead>\n",
       "    <tr style=\"text-align: right;\">\n",
       "      <th></th>\n",
       "      <th>EXPORTER GROUP</th>\n",
       "      <th>IS_RTRS</th>\n",
       "    </tr>\n",
       "  </thead>\n",
       "  <tbody>\n",
       "    <tr>\n",
       "      <th>0</th>\n",
       "      <td>DOMESTIC CONSUMPTION</td>\n",
       "      <td>0</td>\n",
       "    </tr>\n",
       "    <tr>\n",
       "      <th>1</th>\n",
       "      <td>DOMESTIC CONSUMPTION</td>\n",
       "      <td>0</td>\n",
       "    </tr>\n",
       "    <tr>\n",
       "      <th>2</th>\n",
       "      <td>DOMESTIC CONSUMPTION</td>\n",
       "      <td>0</td>\n",
       "    </tr>\n",
       "    <tr>\n",
       "      <th>3</th>\n",
       "      <td>CARGILL</td>\n",
       "      <td>0</td>\n",
       "    </tr>\n",
       "    <tr>\n",
       "      <th>4</th>\n",
       "      <td>CARGILL</td>\n",
       "      <td>0</td>\n",
       "    </tr>\n",
       "    <tr>\n",
       "      <th>...</th>\n",
       "      <td>...</td>\n",
       "      <td>...</td>\n",
       "    </tr>\n",
       "    <tr>\n",
       "      <th>283780</th>\n",
       "      <td>GIRASSOL AGRICOLA</td>\n",
       "      <td>1</td>\n",
       "    </tr>\n",
       "    <tr>\n",
       "      <th>283781</th>\n",
       "      <td>GIRASSOL AGRICOLA</td>\n",
       "      <td>1</td>\n",
       "    </tr>\n",
       "    <tr>\n",
       "      <th>283782</th>\n",
       "      <td>GIRASSOL AGRICOLA</td>\n",
       "      <td>1</td>\n",
       "    </tr>\n",
       "    <tr>\n",
       "      <th>283783</th>\n",
       "      <td>GIRASSOL AGRICOLA</td>\n",
       "      <td>1</td>\n",
       "    </tr>\n",
       "    <tr>\n",
       "      <th>283784</th>\n",
       "      <td>GIRASSOL AGRICOLA</td>\n",
       "      <td>1</td>\n",
       "    </tr>\n",
       "  </tbody>\n",
       "</table>\n",
       "<p>63843 rows × 2 columns</p>\n",
       "</div>"
      ],
      "text/plain": [
       "              EXPORTER GROUP  IS_RTRS\n",
       "0       DOMESTIC CONSUMPTION        0\n",
       "1       DOMESTIC CONSUMPTION        0\n",
       "2       DOMESTIC CONSUMPTION        0\n",
       "3                    CARGILL        0\n",
       "4                    CARGILL        0\n",
       "...                      ...      ...\n",
       "283780     GIRASSOL AGRICOLA        1\n",
       "283781     GIRASSOL AGRICOLA        1\n",
       "283782     GIRASSOL AGRICOLA        1\n",
       "283783     GIRASSOL AGRICOLA        1\n",
       "283784     GIRASSOL AGRICOLA        1\n",
       "\n",
       "[63843 rows x 2 columns]"
      ]
     },
     "execution_count": 32,
     "metadata": {},
     "output_type": "execute_result"
    }
   ],
   "source": [
    "trase[['EXPORTER GROUP', 'IS_RTRS']]"
   ]
  },
  {
   "cell_type": "code",
   "execution_count": 33,
   "metadata": {},
   "outputs": [],
   "source": [
    "trase.rename(columns={'EXPORTER GROUP': 'Group', \n",
    "                      'Soy deforestation exposure': 'SoyDefExp',\n",
    "                      'FOB_USD': 'ExpFOB',\n",
    "                      'CO2_GROSS_EMISSIONS_SOY_DEFORESTATION_5_YEAR_TOTAL_EXPOSURE': 'CO2Gross',\n",
    "                      'SOY_EQUIVALENT_TONNES': 'SoyTonnes',\n",
    "                      'LAND_USE_HA': 'LandUse',\n",
    "                      'CO2_NET_EMISSIONS_SOY_DEFORESTATION_5_YEAR_TOTAL_EXPOSURE': 'CO2Net',\n",
    "                      'Soy deforestation risk': 'SoyRisk',\n",
    "                      'IS_RTRS': 'IsRTRS' ,\n",
    "                      'STATE': 'State',\n",
    "                      'MUNICIPALITY OF PRODUCTION': 'City',\n",
    "                      'YEAR': 'Year'\n",
    "                      }, inplace=True)"
   ]
  },
  {
   "cell_type": "code",
   "execution_count": 34,
   "metadata": {},
   "outputs": [],
   "source": [
    "trase = trase.groupby(['Year', 'Group', 'IsRTRS']).agg({'SoyDefExp': 'sum', \n",
    "                                        'ExpFOB': 'sum',\n",
    "                                        'CO2Gross': 'sum',\n",
    "                                        'CO2Net': 'sum',\n",
    "                                        'SoyTonnes': 'sum', \n",
    "                                        'LandUse':'sum',\n",
    "                                        'SoyRisk': 'sum',\n",
    "                                        #'Yield': 'mean',\n",
    "                                        }).reset_index()"
   ]
  },
  {
   "cell_type": "code",
   "execution_count": 35,
   "metadata": {},
   "outputs": [],
   "source": [
    "NotRTRS = trase[trase['IsRTRS'] == 0]\n",
    "RTRS = trase[trase['IsRTRS'] == 1]"
   ]
  },
  {
   "cell_type": "code",
   "execution_count": 36,
   "metadata": {},
   "outputs": [],
   "source": [
    "ts_notrtrs = NotRTRS.groupby('Year').agg({'SoyTonnes': 'sum', 'LandUse': 'sum'}).reset_index()\n",
    "ts_notrtrs['Income'] = ts_notrtrs['SoyTonnes'] / ts_notrtrs['LandUse']\n",
    "ts_rtrs = RTRS.groupby('Year').agg({'SoyTonnes': 'sum', 'LandUse': 'sum'}).reset_index()\n",
    "ts_rtrs['Income'] = ts_rtrs['SoyTonnes'] / ts_rtrs['LandUse']"
   ]
  },
  {
   "cell_type": "code",
   "execution_count": 37,
   "metadata": {},
   "outputs": [],
   "source": [
    "def calcular_taxas_crescimento_anual(dados, coluna=None):\n",
    "    \"\"\"\n",
    "    Calcula as taxas de crescimento anual para uma coluna especificada em um DataFrame\n",
    "    ou para uma lista de valores.\n",
    "    \n",
    "    :param dados: DataFrame do pandas ou lista de valores.\n",
    "    :param coluna: (Opcional) Nome da coluna para a qual calcular as taxas de crescimento, se dados for um DataFrame.\n",
    "    :return: Uma lista contendo as taxas de crescimento anual.\n",
    "    \"\"\"\n",
    "    taxas_crescimento = []\n",
    "    \n",
    "    # Se 'dados' for um DataFrame, utiliza a coluna especificada.\n",
    "    if isinstance(dados, pd.DataFrame) and coluna is not None:\n",
    "        valores = dados[coluna].values\n",
    "    elif isinstance(dados, list):\n",
    "        valores = dados\n",
    "    else:\n",
    "        raise ValueError(\"Os dados devem ser um DataFrame do pandas com uma coluna especificada ou uma lista de valores.\")\n",
    "    \n",
    "    for i in range(1, len(valores)):\n",
    "        valor_atual = valores[i]\n",
    "        valor_anterior = valores[i - 1]\n",
    "        taxa_crescimento = ((valor_atual - valor_anterior) / valor_anterior) * 100\n",
    "        taxas_crescimento.append(taxa_crescimento)\n",
    "    \n",
    "    return taxas_crescimento"
   ]
  },
  {
   "cell_type": "code",
   "execution_count": 38,
   "metadata": {},
   "outputs": [],
   "source": [
    "ts_notrtrs['Tx_Producao'] = [None] + calcular_taxas_crescimento_anual(ts_notrtrs, 'SoyTonnes')\n",
    "ts_notrtrs['Tx_Produtividade'] = [None] + calcular_taxas_crescimento_anual(ts_notrtrs, 'Income')\n",
    "ts_rtrs['Tx_Producao'] = [None] + calcular_taxas_crescimento_anual(ts_rtrs, 'SoyTonnes')\n",
    "ts_rtrs['Tx_Produtividade'] = [None] + calcular_taxas_crescimento_anual(ts_rtrs, 'Income')\n",
    "\n",
    "ts_producao_total_cadeia = ts_notrtrs['SoyTonnes'] + ts_rtrs['SoyTonnes']\n",
    "ts_producao_total_cadeia= ts_producao_total_cadeia.to_list()\n",
    "ts_producao_tx_total_cadeia = calcular_taxas_crescimento_anual(ts_producao_total_cadeia)"
   ]
  },
  {
   "cell_type": "code",
   "execution_count": 39,
   "metadata": {},
   "outputs": [],
   "source": [
    "ts_notrtrs['MS'] = (ts_notrtrs['SoyTonnes'] / ts_producao_total_cadeia) * 100\n",
    "#ts_notrtrs = ts_notrtrs.drop(ts_notrtrs.index[-1])\n",
    "ts_rtrs['MS'] = (ts_rtrs['SoyTonnes'] / ts_producao_total_cadeia) * 100\n",
    "#ts_rtrs = ts_rtrs.drop(ts_rtrs.index[-1])"
   ]
  },
  {
   "cell_type": "code",
   "execution_count": 40,
   "metadata": {},
   "outputs": [
    {
     "data": {
      "text/html": [
       "<div>\n",
       "<style scoped>\n",
       "    .dataframe tbody tr th:only-of-type {\n",
       "        vertical-align: middle;\n",
       "    }\n",
       "\n",
       "    .dataframe tbody tr th {\n",
       "        vertical-align: top;\n",
       "    }\n",
       "\n",
       "    .dataframe thead th {\n",
       "        text-align: right;\n",
       "    }\n",
       "</style>\n",
       "<table border=\"1\" class=\"dataframe\">\n",
       "  <thead>\n",
       "    <tr style=\"text-align: right;\">\n",
       "      <th></th>\n",
       "      <th>Year</th>\n",
       "      <th>SoyTonnes</th>\n",
       "      <th>LandUse</th>\n",
       "      <th>Income</th>\n",
       "      <th>Tx_Producao</th>\n",
       "      <th>Tx_Produtividade</th>\n",
       "      <th>MS</th>\n",
       "    </tr>\n",
       "  </thead>\n",
       "  <tbody>\n",
       "    <tr>\n",
       "      <th>0</th>\n",
       "      <td>2004</td>\n",
       "      <td>5.127570e+07</td>\n",
       "      <td>1.616484e+06</td>\n",
       "      <td>31.720518</td>\n",
       "      <td>NaN</td>\n",
       "      <td>NaN</td>\n",
       "      <td>14.774816</td>\n",
       "    </tr>\n",
       "    <tr>\n",
       "      <th>1</th>\n",
       "      <td>2005</td>\n",
       "      <td>9.649110e+07</td>\n",
       "      <td>3.118201e+06</td>\n",
       "      <td>30.944475</td>\n",
       "      <td>88.180941</td>\n",
       "      <td>-2.446503</td>\n",
       "      <td>7.996101</td>\n",
       "    </tr>\n",
       "    <tr>\n",
       "      <th>2</th>\n",
       "      <td>2006</td>\n",
       "      <td>2.375114e+08</td>\n",
       "      <td>2.996724e+06</td>\n",
       "      <td>79.257026</td>\n",
       "      <td>146.148550</td>\n",
       "      <td>156.126583</td>\n",
       "      <td>41.884207</td>\n",
       "    </tr>\n",
       "    <tr>\n",
       "      <th>3</th>\n",
       "      <td>2007</td>\n",
       "      <td>8.617800e+08</td>\n",
       "      <td>6.286498e+07</td>\n",
       "      <td>13.708427</td>\n",
       "      <td>262.837253</td>\n",
       "      <td>-82.703834</td>\n",
       "      <td>67.569016</td>\n",
       "    </tr>\n",
       "    <tr>\n",
       "      <th>4</th>\n",
       "      <td>2008</td>\n",
       "      <td>2.061439e+09</td>\n",
       "      <td>2.522815e+07</td>\n",
       "      <td>81.711861</td>\n",
       "      <td>139.207158</td>\n",
       "      <td>496.070313</td>\n",
       "      <td>74.487066</td>\n",
       "    </tr>\n",
       "    <tr>\n",
       "      <th>5</th>\n",
       "      <td>2009</td>\n",
       "      <td>1.720315e+09</td>\n",
       "      <td>6.108541e+07</td>\n",
       "      <td>28.162453</td>\n",
       "      <td>-16.547869</td>\n",
       "      <td>-65.534437</td>\n",
       "      <td>57.590957</td>\n",
       "    </tr>\n",
       "    <tr>\n",
       "      <th>6</th>\n",
       "      <td>2010</td>\n",
       "      <td>1.743370e+09</td>\n",
       "      <td>2.030851e+07</td>\n",
       "      <td>85.844329</td>\n",
       "      <td>1.340186</td>\n",
       "      <td>204.818371</td>\n",
       "      <td>54.652990</td>\n",
       "    </tr>\n",
       "    <tr>\n",
       "      <th>7</th>\n",
       "      <td>2011</td>\n",
       "      <td>2.778451e+09</td>\n",
       "      <td>3.173409e+06</td>\n",
       "      <td>875.541424</td>\n",
       "      <td>59.372387</td>\n",
       "      <td>919.917605</td>\n",
       "      <td>70.731960</td>\n",
       "    </tr>\n",
       "    <tr>\n",
       "      <th>8</th>\n",
       "      <td>2012</td>\n",
       "      <td>2.005579e+09</td>\n",
       "      <td>2.125798e+07</td>\n",
       "      <td>94.344736</td>\n",
       "      <td>-27.816664</td>\n",
       "      <td>-89.224412</td>\n",
       "      <td>51.878176</td>\n",
       "    </tr>\n",
       "    <tr>\n",
       "      <th>9</th>\n",
       "      <td>2013</td>\n",
       "      <td>2.162245e+09</td>\n",
       "      <td>2.314746e+07</td>\n",
       "      <td>93.411745</td>\n",
       "      <td>7.811510</td>\n",
       "      <td>-0.988917</td>\n",
       "      <td>66.614229</td>\n",
       "    </tr>\n",
       "    <tr>\n",
       "      <th>10</th>\n",
       "      <td>2014</td>\n",
       "      <td>2.110192e+09</td>\n",
       "      <td>3.465351e+06</td>\n",
       "      <td>608.940409</td>\n",
       "      <td>-2.407336</td>\n",
       "      <td>551.888484</td>\n",
       "      <td>56.562354</td>\n",
       "    </tr>\n",
       "    <tr>\n",
       "      <th>11</th>\n",
       "      <td>2015</td>\n",
       "      <td>1.801194e+09</td>\n",
       "      <td>7.535853e+06</td>\n",
       "      <td>239.016661</td>\n",
       "      <td>-14.643113</td>\n",
       "      <td>-60.748760</td>\n",
       "      <td>50.280300</td>\n",
       "    </tr>\n",
       "    <tr>\n",
       "      <th>12</th>\n",
       "      <td>2016</td>\n",
       "      <td>2.127143e+09</td>\n",
       "      <td>3.749039e+07</td>\n",
       "      <td>56.738346</td>\n",
       "      <td>18.096233</td>\n",
       "      <td>-76.261761</td>\n",
       "      <td>57.921365</td>\n",
       "    </tr>\n",
       "    <tr>\n",
       "      <th>13</th>\n",
       "      <td>2017</td>\n",
       "      <td>1.733917e+09</td>\n",
       "      <td>5.793008e+06</td>\n",
       "      <td>299.311977</td>\n",
       "      <td>-18.486113</td>\n",
       "      <td>427.530318</td>\n",
       "      <td>43.055055</td>\n",
       "    </tr>\n",
       "    <tr>\n",
       "      <th>14</th>\n",
       "      <td>2018</td>\n",
       "      <td>1.397306e+09</td>\n",
       "      <td>1.215504e+07</td>\n",
       "      <td>114.956902</td>\n",
       "      <td>-19.413336</td>\n",
       "      <td>-61.592950</td>\n",
       "      <td>41.320781</td>\n",
       "    </tr>\n",
       "    <tr>\n",
       "      <th>15</th>\n",
       "      <td>2019</td>\n",
       "      <td>2.376332e+08</td>\n",
       "      <td>2.844078e+06</td>\n",
       "      <td>83.553678</td>\n",
       "      <td>-82.993474</td>\n",
       "      <td>-27.317388</td>\n",
       "      <td>73.469271</td>\n",
       "    </tr>\n",
       "    <tr>\n",
       "      <th>16</th>\n",
       "      <td>2020</td>\n",
       "      <td>1.076139e+07</td>\n",
       "      <td>2.816050e+06</td>\n",
       "      <td>3.821447</td>\n",
       "      <td>-95.471429</td>\n",
       "      <td>-95.426356</td>\n",
       "      <td>2.319633</td>\n",
       "    </tr>\n",
       "  </tbody>\n",
       "</table>\n",
       "</div>"
      ],
      "text/plain": [
       "    Year     SoyTonnes       LandUse      Income  Tx_Producao  \\\n",
       "0   2004  5.127570e+07  1.616484e+06   31.720518          NaN   \n",
       "1   2005  9.649110e+07  3.118201e+06   30.944475    88.180941   \n",
       "2   2006  2.375114e+08  2.996724e+06   79.257026   146.148550   \n",
       "3   2007  8.617800e+08  6.286498e+07   13.708427   262.837253   \n",
       "4   2008  2.061439e+09  2.522815e+07   81.711861   139.207158   \n",
       "5   2009  1.720315e+09  6.108541e+07   28.162453   -16.547869   \n",
       "6   2010  1.743370e+09  2.030851e+07   85.844329     1.340186   \n",
       "7   2011  2.778451e+09  3.173409e+06  875.541424    59.372387   \n",
       "8   2012  2.005579e+09  2.125798e+07   94.344736   -27.816664   \n",
       "9   2013  2.162245e+09  2.314746e+07   93.411745     7.811510   \n",
       "10  2014  2.110192e+09  3.465351e+06  608.940409    -2.407336   \n",
       "11  2015  1.801194e+09  7.535853e+06  239.016661   -14.643113   \n",
       "12  2016  2.127143e+09  3.749039e+07   56.738346    18.096233   \n",
       "13  2017  1.733917e+09  5.793008e+06  299.311977   -18.486113   \n",
       "14  2018  1.397306e+09  1.215504e+07  114.956902   -19.413336   \n",
       "15  2019  2.376332e+08  2.844078e+06   83.553678   -82.993474   \n",
       "16  2020  1.076139e+07  2.816050e+06    3.821447   -95.471429   \n",
       "\n",
       "    Tx_Produtividade         MS  \n",
       "0                NaN  14.774816  \n",
       "1          -2.446503   7.996101  \n",
       "2         156.126583  41.884207  \n",
       "3         -82.703834  67.569016  \n",
       "4         496.070313  74.487066  \n",
       "5         -65.534437  57.590957  \n",
       "6         204.818371  54.652990  \n",
       "7         919.917605  70.731960  \n",
       "8         -89.224412  51.878176  \n",
       "9          -0.988917  66.614229  \n",
       "10        551.888484  56.562354  \n",
       "11        -60.748760  50.280300  \n",
       "12        -76.261761  57.921365  \n",
       "13        427.530318  43.055055  \n",
       "14        -61.592950  41.320781  \n",
       "15        -27.317388  73.469271  \n",
       "16        -95.426356   2.319633  "
      ]
     },
     "execution_count": 40,
     "metadata": {},
     "output_type": "execute_result"
    }
   ],
   "source": [
    "ts_rtrs"
   ]
  },
  {
   "cell_type": "code",
   "execution_count": 41,
   "metadata": {},
   "outputs": [
    {
     "name": "stdout",
     "output_type": "stream",
     "text": [
      "Produção em periodo 0 da NOTRTRS: 65.81\n",
      "Produção em periodo 1 da NOTRTRS: 41.31\n",
      "Produção em periodo 0 da RTRS: 103.53\n",
      "Produção em periodo 1 da RTRS: -17.60\n",
      "Produção em periodo 0 da amazonia: -6.39\n",
      "Produção em periodo 1 da amazonia: 67.78\n",
      "Produtividade em periodo 0 da NOTRTRS: 96.68\n",
      "Produtividade em periodo 1 da NOTRTRS: 226.17\n",
      "Produtividade em periodo 0 da RTRS: 246.96\n",
      "Produtividade em periodo 1 da RTRS: 50.19\n"
     ]
    }
   ],
   "source": [
    "p0_producao_notrtrs = ts_notrtrs['Tx_Producao'].iloc[:7].mean()\n",
    "p1_producao_notrtrs = ts_notrtrs['Tx_Producao'].iloc[7:].mean()\n",
    "\n",
    "p0_producao_rtrs = ts_rtrs['Tx_Producao'].iloc[:7].mean()\n",
    "p1_producao_rtrs = ts_rtrs['Tx_Producao'].iloc[7:].mean()\n",
    "\n",
    "p0_producao_amazonia = np.mean(ts_producao_tx_total_cadeia[7:])\n",
    "p1_producao_amazonia = np.mean(ts_producao_tx_total_cadeia[:7])\n",
    "\n",
    "p0_produtividade_rtrs = ts_rtrs['Income'].iloc[7:].mean()\n",
    "p1_produtividade_rtrs = ts_rtrs['Income'].iloc[:7].mean()\n",
    "\n",
    "p0_produtividade_notrtrs = ts_notrtrs['Income'].iloc[7:].mean()\n",
    "p1_produtividade_notrtrs = ts_notrtrs['Income'].iloc[:7].mean()\n",
    "\n",
    "print(f'Produção em periodo 0 da NOTRTRS: {p0_producao_notrtrs:.2f}')\n",
    "print(f'Produção em periodo 1 da NOTRTRS: {p1_producao_notrtrs:.2f}')\n",
    "\n",
    "print(f'Produção em periodo 0 da RTRS: {p0_producao_rtrs:.2f}')\n",
    "print(f'Produção em periodo 1 da RTRS: {p1_producao_rtrs:.2f}')\n",
    "\n",
    "print(f'Produção em periodo 0 da amazonia: {p0_producao_amazonia:.2f}')\n",
    "print(f'Produção em periodo 1 da amazonia: {p1_producao_amazonia:.2f}')\n",
    "\n",
    "print(f'Produtividade em periodo 0 da NOTRTRS: {p0_produtividade_notrtrs:.2f}')\n",
    "print(f'Produtividade em periodo 1 da NOTRTRS: {p1_produtividade_notrtrs:.2f}')\n",
    "\n",
    "print(f'Produtividade em periodo 0 da RTRS: {p0_produtividade_rtrs:.2f}')\n",
    "print(f'Produtividade em periodo 1 da RTRS: {p1_produtividade_rtrs:.2f}')"
   ]
  },
  {
   "cell_type": "code",
   "execution_count": 42,
   "metadata": {},
   "outputs": [],
   "source": [
    "r = p1_producao_amazonia / p0_producao_amazonia\n",
    "\n",
    "eem_rtrs = r * p0_producao_rtrs\n",
    "\n",
    "eem_notrtrs = r * p0_producao_notrtrs"
   ]
  },
  {
   "cell_type": "code",
   "execution_count": 43,
   "metadata": {},
   "outputs": [],
   "source": [
    "ecr_rtrs = p1_producao_rtrs - p0_producao_rtrs - eem_rtrs\n",
    "ecr_notrtrs = p1_producao_notrtrs - p0_producao_notrtrs - eem_notrtrs"
   ]
  },
  {
   "cell_type": "code",
   "execution_count": 44,
   "metadata": {},
   "outputs": [],
   "source": [
    "p_rtrs = p1_produtividade_rtrs / p0_produtividade_rtrs\n",
    "p_notrtrs = p1_produtividade_notrtrs / p0_produtividade_notrtrs\n",
    "\n",
    "epr_rtrs = p_rtrs * p0_producao_rtrs\n",
    "epr_notrtrs = p_rtrs * p0_producao_notrtrs"
   ]
  },
  {
   "cell_type": "code",
   "execution_count": 45,
   "metadata": {},
   "outputs": [],
   "source": [
    "exr_rtrs =  p1_producao_rtrs - p0_producao_rtrs - epr_rtrs - eem_rtrs\n",
    "exr_notrtrs = p1_producao_notrtrs - p0_producao_notrtrs - epr_notrtrs - eem_notrtrs"
   ]
  },
  {
   "cell_type": "code",
   "execution_count": 46,
   "metadata": {},
   "outputs": [
    {
     "name": "stdout",
     "output_type": "stream",
     "text": [
      "Expansão de mercado da não RTRS: -697.96, Expansão de Mercado RTRS: -1097.96\n",
      "Efeito concorrência da não RTRS: 673.46, Efeito Concorrência da RTRS: 976.84\n",
      "Efeito produtividade da não RTRS: 13.38, Efeito produtividade da RTRS: 21.04\n",
      "Efeito externalidades diversas da não RTRS: 660.08, Efeito externalidades diversas da RTRS: 955.79\n"
     ]
    }
   ],
   "source": [
    "print(f'Expansão de mercado da não RTRS: {eem_notrtrs:.2f}, Expansão de Mercado RTRS: {eem_rtrs:.2f}')\n",
    "print(f'Efeito concorrência da não RTRS: {ecr_notrtrs:.2f}, Efeito Concorrência da RTRS: {ecr_rtrs:.2f}')\n",
    "print(f'Efeito produtividade da não RTRS: {epr_notrtrs:.2f}, Efeito produtividade da RTRS: {epr_rtrs:.2f}')\n",
    "print(f'Efeito externalidades diversas da não RTRS: {exr_notrtrs:.2f}, Efeito externalidades diversas da RTRS: {exr_rtrs:.2f}')"
   ]
  },
  {
   "cell_type": "code",
   "execution_count": 47,
   "metadata": {},
   "outputs": [
    {
     "name": "stdout",
     "output_type": "stream",
     "text": [
      "-121.12283644049796 -121.122836440498\n"
     ]
    }
   ],
   "source": [
    "V_rtrs = exr_rtrs + epr_rtrs + eem_rtrs \n",
    "print(V_rtrs, p1_producao_rtrs - p0_producao_rtrs)"
   ]
  },
  {
   "cell_type": "code",
   "execution_count": 48,
   "metadata": {},
   "outputs": [
    {
     "name": "stdout",
     "output_type": "stream",
     "text": [
      "-24.50163490334262 -24.501634903342634\n"
     ]
    }
   ],
   "source": [
    "V_notrtrs = exr_notrtrs + epr_notrtrs + eem_notrtrs \n",
    "print(V_notrtrs, p1_producao_notrtrs - p0_producao_notrtrs)"
   ]
  },
  {
   "cell_type": "markdown",
   "metadata": {},
   "source": [
    "# Mercado de Terras"
   ]
  },
  {
   "cell_type": "code",
   "execution_count": 49,
   "metadata": {},
   "outputs": [
    {
     "name": "stdout",
     "output_type": "stream",
     "text": [
      "Variação no total anual médio de terras requeridas entre os períodos 0 e 1 da RTRS: -0.3978635801834088\n"
     ]
    }
   ],
   "source": [
    "t_p_rtrs = (p1_producao_rtrs/(8 * p1_produtividade_rtrs)) - (p0_producao_rtrs/(8 * p0_produtividade_rtrs)) \n",
    "t_exr_rtrs = exr_rtrs / (8 * p1_produtividade_rtrs)\n",
    "t_em_rtrs = eem_rtrs / (8 * p1_produtividade_rtrs)\n",
    "t_pr_rtrs = epr_rtrs / (8 * p1_produtividade_rtrs)\n",
    "\n",
    "t_p_01_rtrs = t_p_rtrs + t_exr_rtrs + t_em_rtrs + t_pr_rtrs\n",
    "\n",
    "print(f'Variação no total anual médio de terras requeridas entre os períodos 0 e 1 da RTRS: {t_p_01_rtrs}')"
   ]
  },
  {
   "cell_type": "code",
   "execution_count": 53,
   "metadata": {},
   "outputs": [
    {
     "name": "stdout",
     "output_type": "stream",
     "text": [
      "-0.3978635801834088 2.3803107728891755 -2.7343554212432033 0.05240025628214632 -0.09621918811152735\n"
     ]
    }
   ],
   "source": [
    "print(t_p_01_rtrs, t_exr_rtrs, t_em_rtrs, t_pr_rtrs, t_p_rtrs)"
   ]
  },
  {
   "cell_type": "code",
   "execution_count": 57,
   "metadata": {},
   "outputs": [
    {
     "name": "stdout",
     "output_type": "stream",
     "text": [
      "Variação no total anual médio de terras requeridas entre os períodos 0 e 1 da NO RTRS: -0.07580169297986139\n"
     ]
    }
   ],
   "source": [
    "t_p_notrtrs = (p1_producao_notrtrs/(8 * p1_produtividade_notrtrs)) - (p0_producao_notrtrs/(8 * p0_produtividade_notrtrs)) \n",
    "t_exr_notrtrs = exr_notrtrs / (8 * p1_produtividade_notrtrs)\n",
    "t_em_notrtrs = eem_notrtrs / (8 * p1_produtividade_notrtrs)\n",
    "t_pr_notrtrs = epr_notrtrs / (8 * p1_produtividade_notrtrs)\n",
    "\n",
    "t_p_01_notrtrs = t_p_notrtrs + t_exr_notrtrs + t_em_notrtrs + t_pr_notrtrs\n",
    "\n",
    "print(f'Variação no total anual médio de terras requeridas entre os períodos 0 e 1 da NO RTRS: {t_p_01_notrtrs}')"
   ]
  },
  {
   "cell_type": "code",
   "execution_count": 58,
   "metadata": {},
   "outputs": [
    {
     "data": {
      "text/plain": [
       "True"
      ]
     },
     "execution_count": 58,
     "metadata": {},
     "output_type": "execute_result"
    }
   ],
   "source": [
    "t_p_01_notrtrs > t_p_01_rtrs"
   ]
  },
  {
   "cell_type": "code",
   "execution_count": 59,
   "metadata": {},
   "outputs": [
    {
     "name": "stdout",
     "output_type": "stream",
     "text": [
      "-0.07580169297986139 0.3648123746499721 -0.3857461993552762 0.007392308823148614 -0.06226017709770594\n"
     ]
    }
   ],
   "source": [
    "print(t_p_01_notrtrs, t_exr_notrtrs, t_em_notrtrs, t_pr_notrtrs, t_p_notrtrs)"
   ]
  },
  {
   "cell_type": "markdown",
   "metadata": {},
   "source": [
    "## Índice de Jevons-Bourlag"
   ]
  },
  {
   "cell_type": "code",
   "execution_count": null,
   "metadata": {},
   "outputs": [
    {
     "name": "stdout",
     "output_type": "stream",
     "text": [
      "Indice Jevons-Bourlag da RTRS: 24.28301347078063\n"
     ]
    }
   ],
   "source": [
    "ijb_rtrs = - (t_p_rtrs + t_pr_rtrs + t_exr_rtrs)/t_p_rtrs\n",
    "\n",
    "print(f'Indice Jevons-Bourlag da RTRS: {ijb_rtrs}')"
   ]
  },
  {
   "cell_type": "code",
   "execution_count": null,
   "metadata": {},
   "outputs": [
    {
     "name": "stdout",
     "output_type": "stream",
     "text": [
      "Indice Jevons-Bourlag da NO RTRS: 4.978214338982905\n"
     ]
    }
   ],
   "source": [
    "ijb_notrtrs = - (t_p_notrtrs + t_pr_notrtrs + t_exr_notrtrs)/t_p_notrtrs\n",
    "\n",
    "print(f'Indice Jevons-Bourlag da NO RTRS: {ijb_notrtrs}')"
   ]
  }
 ],
 "metadata": {
  "kernelspec": {
   "display_name": "Python 3",
   "language": "python",
   "name": "python3"
  },
  "language_info": {
   "codemirror_mode": {
    "name": "ipython",
    "version": 3
   },
   "file_extension": ".py",
   "mimetype": "text/x-python",
   "name": "python",
   "nbconvert_exporter": "python",
   "pygments_lexer": "ipython3",
   "version": "3.10.12"
  }
 },
 "nbformat": 4,
 "nbformat_minor": 2
}
