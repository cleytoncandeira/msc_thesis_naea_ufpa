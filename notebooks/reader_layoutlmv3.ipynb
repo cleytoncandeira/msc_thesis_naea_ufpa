{
 "cells": [
  {
   "cell_type": "markdown",
   "metadata": {},
   "source": [
    "## LayoutLMv3 as Audit Reports Reader\n",
    "\n",
    "A idéia desse notebook é experimentar o [LayoutLMv3](https://huggingface.co/docs/transformers/model_doc/layoutlmv3) como um leitor dos relatórios de auditoria da RTRS. \n",
    "\n",
    "A proposta do LayoutLMV3 é lidar com documentos de mascaramento unificado: texto + imagem. Geralmente aqueles arquivos com baixo dpi, formato pdf, que foram escaneados e possuem elementos tabulares, letramento não alinhado, símbolos e etc. Esses arquivos são impossíveis de serem lidos por métodos tradicionais de OCR, como o tresseract ou o EasyOCR. Ao mesmo tempo, esses arquivos também possuem uma dificuldade em serem lidos por métodos de detecção de objetos via Redes Neurais Convolucionais, pelo menos quando falamos de uma quantidade significante de arquivos, em que há necessidade de regulagem constante dos parâmetros espaciais via Pyvips e muita capacidade de processamento demandada. "
   ]
  },
  {
   "cell_type": "markdown",
   "metadata": {},
   "source": []
  }
 ],
 "metadata": {
  "language_info": {
   "name": "python"
  }
 },
 "nbformat": 4,
 "nbformat_minor": 2
}
