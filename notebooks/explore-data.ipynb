{
 "cells": [
  {
   "cell_type": "code",
   "execution_count": 2,
   "metadata": {},
   "outputs": [],
   "source": [
    "#hands-on work packages\n",
    "#%pip install plotly.express\n",
    "#%pip install seaborn\n",
    "\n",
    "import numpy as np\n",
    "import pandas as pd\n",
    "import re\n",
    "import copy\n",
    "\n",
    "#graphs\n",
    "\n",
    "import plotly.express as px\n",
    "import plotly.graph_objects as go\n",
    "import seaborn as sns"
   ]
  },
  {
   "cell_type": "code",
   "execution_count": 3,
   "metadata": {},
   "outputs": [],
   "source": [
    "brazil_database = pd.read_csv('../1_DataSource/csv_files/brazil_rtrs.csv', decimal = ',')\n",
    "farm_branches = pd.read_csv('farm_branches.csv')"
   ]
  },
  {
   "cell_type": "code",
   "execution_count": 4,
   "metadata": {},
   "outputs": [
    {
     "name": "stdout",
     "output_type": "stream",
     "text": [
      "Ncols and Nrows of Brazil Database:(128, 40)\n",
      "Ncols and Nrows of Farm Branches Database:(873, 7)\n",
      "\n"
     ]
    },
    {
     "data": {
      "text/plain": [
       "(Organization         object\n",
       " Names                object\n",
       " Year                  int64\n",
       " Links                object\n",
       " RegTag               object\n",
       " Companies            object\n",
       " Total_Production    float64\n",
       " Issue_Date           object\n",
       " Expiration_Date      object\n",
       " Total_Farm_Area      object\n",
       " n_members             int64\n",
       " Type                 object\n",
       " 1_1_criteria         object\n",
       " 1_2_criteria         object\n",
       " 1_3_criteria         object\n",
       " 2_1_criteria         object\n",
       " 2_2_criteria         object\n",
       " 2_3_criteria         object\n",
       " 2_4_criteria         object\n",
       " 2_5_criteria         object\n",
       " 3_1_criteria         object\n",
       " 3_2_criteria         object\n",
       " 3_3_criteria         object\n",
       " 3_4_criteria         object\n",
       " 4_1_criteria         object\n",
       " 4_2_criteria         object\n",
       " 4_3_criteria         object\n",
       " 4_4_criteria         object\n",
       " 4_5_criteria         object\n",
       " 5_1_criteria         object\n",
       " 5_2_criteria         object\n",
       " 5_3_criteria         object\n",
       " 5_4_criteria         object\n",
       " 5_5_criteria         object\n",
       " 5_6_criteria         object\n",
       " 5_7_criteria         object\n",
       " 5_8_criteria         object\n",
       " 5_9_criteria         object\n",
       " 5_10_criteria        object\n",
       " 5_11_criteria        object\n",
       " dtype: object,\n",
       " Unnamed: 0       int64\n",
       " Organization    object\n",
       " Name            object\n",
       " Farm            object\n",
       " Address         object\n",
       " Latitude        object\n",
       " Longitude       object\n",
       " dtype: object)"
      ]
     },
     "execution_count": 4,
     "metadata": {},
     "output_type": "execute_result"
    }
   ],
   "source": [
    "print(f'Ncols and Nrows of Brazil Database:{brazil_database.shape}\\nNcols and Nrows of Farm Branches Database:{farm_branches.shape}')\n",
    "print()\n",
    "brazil_database.dtypes, farm_branches.dtypes"
   ]
  },
  {
   "cell_type": "code",
   "execution_count": 5,
   "metadata": {},
   "outputs": [],
   "source": [
    "# Replace ',' to '.'\n",
    "\n",
    "def replace_comma(text):\n",
    "    return re.sub(r',', '.', text)\n",
    "\n",
    "brazil_database['Total_Farm_Area'] = brazil_database['Total_Farm_Area'].apply(replace_comma).astype(float)\n",
    "brazil_database['Expiration_Date'] = pd.to_datetime(brazil_database['Expiration_Date'])\n",
    "brazil_database['Issue_Date'] = pd.to_datetime(brazil_database['Issue_Date'])\n",
    "brazil_database['Income'] = brazil_database['Total_Production']/brazil_database['Total_Farm_Area']"
   ]
  },
  {
   "cell_type": "code",
   "execution_count": 11,
   "metadata": {},
   "outputs": [
    {
     "data": {
      "application/vnd.plotly.v1+json": {
       "config": {
        "plotlyServerURL": "https://plot.ly"
       },
       "data": [
        {
         "alignmentgroup": "True",
         "hovertemplate": "Year=%{x}<br>Soma do Rendimento (ton/ha) Total=%{y}<extra></extra>",
         "legendgroup": "",
         "marker": {
          "color": "rgb(53, 128, 196)",
          "line": {
           "color": "rgb(8, 48, 107)",
           "width": 1.5
          },
          "pattern": {
           "shape": ""
          }
         },
         "name": "",
         "offsetgroup": "",
         "opacity": 0.7,
         "orientation": "v",
         "showlegend": false,
         "textposition": "auto",
         "type": "bar",
         "x": [
          2018,
          2019,
          2020,
          2021,
          2022,
          2023
         ],
         "xaxis": "x",
         "y": [
          1340600.29,
          2575202.94,
          2650601.19,
          3558665.5,
          5259785.33,
          9437.4
         ],
         "yaxis": "y"
        },
        {
         "line": {
          "color": "red",
          "dash": "dash",
          "width": 2
         },
         "marker": {
          "color": "rgb(53, 128, 196)",
          "line": {
           "color": "rgb(8, 48, 107)",
           "width": 1.5
          }
         },
         "mode": "lines",
         "name": "Média Anual",
         "opacity": 0.7,
         "type": "scatter",
         "x": [
          2018,
          2019,
          2020,
          2021,
          2022,
          2023
         ],
         "y": [
          167575.03625,
          151482.52588235293,
          82831.2871875,
          114795.66129032258,
          138415.40342105264,
          4718.7
         ]
        }
       ],
       "layout": {
        "bargap": 0.1,
        "bargroupgap": 0.2,
        "barmode": "relative",
        "font": {
         "color": "rgb(50, 50, 50)",
         "family": "Arial",
         "size": 14
        },
        "legend": {
         "tracegroupgap": 0
        },
        "margin": {
         "t": 60
        },
        "paper_bgcolor": "white",
        "plot_bgcolor": "white",
        "template": {
         "data": {
          "bar": [
           {
            "error_x": {
             "color": "#2a3f5f"
            },
            "error_y": {
             "color": "#2a3f5f"
            },
            "marker": {
             "line": {
              "color": "#E5ECF6",
              "width": 0.5
             },
             "pattern": {
              "fillmode": "overlay",
              "size": 10,
              "solidity": 0.2
             }
            },
            "type": "bar"
           }
          ],
          "barpolar": [
           {
            "marker": {
             "line": {
              "color": "#E5ECF6",
              "width": 0.5
             },
             "pattern": {
              "fillmode": "overlay",
              "size": 10,
              "solidity": 0.2
             }
            },
            "type": "barpolar"
           }
          ],
          "carpet": [
           {
            "aaxis": {
             "endlinecolor": "#2a3f5f",
             "gridcolor": "white",
             "linecolor": "white",
             "minorgridcolor": "white",
             "startlinecolor": "#2a3f5f"
            },
            "baxis": {
             "endlinecolor": "#2a3f5f",
             "gridcolor": "white",
             "linecolor": "white",
             "minorgridcolor": "white",
             "startlinecolor": "#2a3f5f"
            },
            "type": "carpet"
           }
          ],
          "choropleth": [
           {
            "colorbar": {
             "outlinewidth": 0,
             "ticks": ""
            },
            "type": "choropleth"
           }
          ],
          "contour": [
           {
            "colorbar": {
             "outlinewidth": 0,
             "ticks": ""
            },
            "colorscale": [
             [
              0,
              "#0d0887"
             ],
             [
              0.1111111111111111,
              "#46039f"
             ],
             [
              0.2222222222222222,
              "#7201a8"
             ],
             [
              0.3333333333333333,
              "#9c179e"
             ],
             [
              0.4444444444444444,
              "#bd3786"
             ],
             [
              0.5555555555555556,
              "#d8576b"
             ],
             [
              0.6666666666666666,
              "#ed7953"
             ],
             [
              0.7777777777777778,
              "#fb9f3a"
             ],
             [
              0.8888888888888888,
              "#fdca26"
             ],
             [
              1,
              "#f0f921"
             ]
            ],
            "type": "contour"
           }
          ],
          "contourcarpet": [
           {
            "colorbar": {
             "outlinewidth": 0,
             "ticks": ""
            },
            "type": "contourcarpet"
           }
          ],
          "heatmap": [
           {
            "colorbar": {
             "outlinewidth": 0,
             "ticks": ""
            },
            "colorscale": [
             [
              0,
              "#0d0887"
             ],
             [
              0.1111111111111111,
              "#46039f"
             ],
             [
              0.2222222222222222,
              "#7201a8"
             ],
             [
              0.3333333333333333,
              "#9c179e"
             ],
             [
              0.4444444444444444,
              "#bd3786"
             ],
             [
              0.5555555555555556,
              "#d8576b"
             ],
             [
              0.6666666666666666,
              "#ed7953"
             ],
             [
              0.7777777777777778,
              "#fb9f3a"
             ],
             [
              0.8888888888888888,
              "#fdca26"
             ],
             [
              1,
              "#f0f921"
             ]
            ],
            "type": "heatmap"
           }
          ],
          "heatmapgl": [
           {
            "colorbar": {
             "outlinewidth": 0,
             "ticks": ""
            },
            "colorscale": [
             [
              0,
              "#0d0887"
             ],
             [
              0.1111111111111111,
              "#46039f"
             ],
             [
              0.2222222222222222,
              "#7201a8"
             ],
             [
              0.3333333333333333,
              "#9c179e"
             ],
             [
              0.4444444444444444,
              "#bd3786"
             ],
             [
              0.5555555555555556,
              "#d8576b"
             ],
             [
              0.6666666666666666,
              "#ed7953"
             ],
             [
              0.7777777777777778,
              "#fb9f3a"
             ],
             [
              0.8888888888888888,
              "#fdca26"
             ],
             [
              1,
              "#f0f921"
             ]
            ],
            "type": "heatmapgl"
           }
          ],
          "histogram": [
           {
            "marker": {
             "pattern": {
              "fillmode": "overlay",
              "size": 10,
              "solidity": 0.2
             }
            },
            "type": "histogram"
           }
          ],
          "histogram2d": [
           {
            "colorbar": {
             "outlinewidth": 0,
             "ticks": ""
            },
            "colorscale": [
             [
              0,
              "#0d0887"
             ],
             [
              0.1111111111111111,
              "#46039f"
             ],
             [
              0.2222222222222222,
              "#7201a8"
             ],
             [
              0.3333333333333333,
              "#9c179e"
             ],
             [
              0.4444444444444444,
              "#bd3786"
             ],
             [
              0.5555555555555556,
              "#d8576b"
             ],
             [
              0.6666666666666666,
              "#ed7953"
             ],
             [
              0.7777777777777778,
              "#fb9f3a"
             ],
             [
              0.8888888888888888,
              "#fdca26"
             ],
             [
              1,
              "#f0f921"
             ]
            ],
            "type": "histogram2d"
           }
          ],
          "histogram2dcontour": [
           {
            "colorbar": {
             "outlinewidth": 0,
             "ticks": ""
            },
            "colorscale": [
             [
              0,
              "#0d0887"
             ],
             [
              0.1111111111111111,
              "#46039f"
             ],
             [
              0.2222222222222222,
              "#7201a8"
             ],
             [
              0.3333333333333333,
              "#9c179e"
             ],
             [
              0.4444444444444444,
              "#bd3786"
             ],
             [
              0.5555555555555556,
              "#d8576b"
             ],
             [
              0.6666666666666666,
              "#ed7953"
             ],
             [
              0.7777777777777778,
              "#fb9f3a"
             ],
             [
              0.8888888888888888,
              "#fdca26"
             ],
             [
              1,
              "#f0f921"
             ]
            ],
            "type": "histogram2dcontour"
           }
          ],
          "mesh3d": [
           {
            "colorbar": {
             "outlinewidth": 0,
             "ticks": ""
            },
            "type": "mesh3d"
           }
          ],
          "parcoords": [
           {
            "line": {
             "colorbar": {
              "outlinewidth": 0,
              "ticks": ""
             }
            },
            "type": "parcoords"
           }
          ],
          "pie": [
           {
            "automargin": true,
            "type": "pie"
           }
          ],
          "scatter": [
           {
            "fillpattern": {
             "fillmode": "overlay",
             "size": 10,
             "solidity": 0.2
            },
            "type": "scatter"
           }
          ],
          "scatter3d": [
           {
            "line": {
             "colorbar": {
              "outlinewidth": 0,
              "ticks": ""
             }
            },
            "marker": {
             "colorbar": {
              "outlinewidth": 0,
              "ticks": ""
             }
            },
            "type": "scatter3d"
           }
          ],
          "scattercarpet": [
           {
            "marker": {
             "colorbar": {
              "outlinewidth": 0,
              "ticks": ""
             }
            },
            "type": "scattercarpet"
           }
          ],
          "scattergeo": [
           {
            "marker": {
             "colorbar": {
              "outlinewidth": 0,
              "ticks": ""
             }
            },
            "type": "scattergeo"
           }
          ],
          "scattergl": [
           {
            "marker": {
             "colorbar": {
              "outlinewidth": 0,
              "ticks": ""
             }
            },
            "type": "scattergl"
           }
          ],
          "scattermapbox": [
           {
            "marker": {
             "colorbar": {
              "outlinewidth": 0,
              "ticks": ""
             }
            },
            "type": "scattermapbox"
           }
          ],
          "scatterpolar": [
           {
            "marker": {
             "colorbar": {
              "outlinewidth": 0,
              "ticks": ""
             }
            },
            "type": "scatterpolar"
           }
          ],
          "scatterpolargl": [
           {
            "marker": {
             "colorbar": {
              "outlinewidth": 0,
              "ticks": ""
             }
            },
            "type": "scatterpolargl"
           }
          ],
          "scatterternary": [
           {
            "marker": {
             "colorbar": {
              "outlinewidth": 0,
              "ticks": ""
             }
            },
            "type": "scatterternary"
           }
          ],
          "surface": [
           {
            "colorbar": {
             "outlinewidth": 0,
             "ticks": ""
            },
            "colorscale": [
             [
              0,
              "#0d0887"
             ],
             [
              0.1111111111111111,
              "#46039f"
             ],
             [
              0.2222222222222222,
              "#7201a8"
             ],
             [
              0.3333333333333333,
              "#9c179e"
             ],
             [
              0.4444444444444444,
              "#bd3786"
             ],
             [
              0.5555555555555556,
              "#d8576b"
             ],
             [
              0.6666666666666666,
              "#ed7953"
             ],
             [
              0.7777777777777778,
              "#fb9f3a"
             ],
             [
              0.8888888888888888,
              "#fdca26"
             ],
             [
              1,
              "#f0f921"
             ]
            ],
            "type": "surface"
           }
          ],
          "table": [
           {
            "cells": {
             "fill": {
              "color": "#EBF0F8"
             },
             "line": {
              "color": "white"
             }
            },
            "header": {
             "fill": {
              "color": "#C8D4E3"
             },
             "line": {
              "color": "white"
             }
            },
            "type": "table"
           }
          ]
         },
         "layout": {
          "annotationdefaults": {
           "arrowcolor": "#2a3f5f",
           "arrowhead": 0,
           "arrowwidth": 1
          },
          "autotypenumbers": "strict",
          "coloraxis": {
           "colorbar": {
            "outlinewidth": 0,
            "ticks": ""
           }
          },
          "colorscale": {
           "diverging": [
            [
             0,
             "#8e0152"
            ],
            [
             0.1,
             "#c51b7d"
            ],
            [
             0.2,
             "#de77ae"
            ],
            [
             0.3,
             "#f1b6da"
            ],
            [
             0.4,
             "#fde0ef"
            ],
            [
             0.5,
             "#f7f7f7"
            ],
            [
             0.6,
             "#e6f5d0"
            ],
            [
             0.7,
             "#b8e186"
            ],
            [
             0.8,
             "#7fbc41"
            ],
            [
             0.9,
             "#4d9221"
            ],
            [
             1,
             "#276419"
            ]
           ],
           "sequential": [
            [
             0,
             "#0d0887"
            ],
            [
             0.1111111111111111,
             "#46039f"
            ],
            [
             0.2222222222222222,
             "#7201a8"
            ],
            [
             0.3333333333333333,
             "#9c179e"
            ],
            [
             0.4444444444444444,
             "#bd3786"
            ],
            [
             0.5555555555555556,
             "#d8576b"
            ],
            [
             0.6666666666666666,
             "#ed7953"
            ],
            [
             0.7777777777777778,
             "#fb9f3a"
            ],
            [
             0.8888888888888888,
             "#fdca26"
            ],
            [
             1,
             "#f0f921"
            ]
           ],
           "sequentialminus": [
            [
             0,
             "#0d0887"
            ],
            [
             0.1111111111111111,
             "#46039f"
            ],
            [
             0.2222222222222222,
             "#7201a8"
            ],
            [
             0.3333333333333333,
             "#9c179e"
            ],
            [
             0.4444444444444444,
             "#bd3786"
            ],
            [
             0.5555555555555556,
             "#d8576b"
            ],
            [
             0.6666666666666666,
             "#ed7953"
            ],
            [
             0.7777777777777778,
             "#fb9f3a"
            ],
            [
             0.8888888888888888,
             "#fdca26"
            ],
            [
             1,
             "#f0f921"
            ]
           ]
          },
          "colorway": [
           "#636efa",
           "#EF553B",
           "#00cc96",
           "#ab63fa",
           "#FFA15A",
           "#19d3f3",
           "#FF6692",
           "#B6E880",
           "#FF97FF",
           "#FECB52"
          ],
          "font": {
           "color": "#2a3f5f"
          },
          "geo": {
           "bgcolor": "white",
           "lakecolor": "white",
           "landcolor": "#E5ECF6",
           "showlakes": true,
           "showland": true,
           "subunitcolor": "white"
          },
          "hoverlabel": {
           "align": "left"
          },
          "hovermode": "closest",
          "mapbox": {
           "style": "light"
          },
          "paper_bgcolor": "white",
          "plot_bgcolor": "#E5ECF6",
          "polar": {
           "angularaxis": {
            "gridcolor": "white",
            "linecolor": "white",
            "ticks": ""
           },
           "bgcolor": "#E5ECF6",
           "radialaxis": {
            "gridcolor": "white",
            "linecolor": "white",
            "ticks": ""
           }
          },
          "scene": {
           "xaxis": {
            "backgroundcolor": "#E5ECF6",
            "gridcolor": "white",
            "gridwidth": 2,
            "linecolor": "white",
            "showbackground": true,
            "ticks": "",
            "zerolinecolor": "white"
           },
           "yaxis": {
            "backgroundcolor": "#E5ECF6",
            "gridcolor": "white",
            "gridwidth": 2,
            "linecolor": "white",
            "showbackground": true,
            "ticks": "",
            "zerolinecolor": "white"
           },
           "zaxis": {
            "backgroundcolor": "#E5ECF6",
            "gridcolor": "white",
            "gridwidth": 2,
            "linecolor": "white",
            "showbackground": true,
            "ticks": "",
            "zerolinecolor": "white"
           }
          },
          "shapedefaults": {
           "line": {
            "color": "#2a3f5f"
           }
          },
          "ternary": {
           "aaxis": {
            "gridcolor": "white",
            "linecolor": "white",
            "ticks": ""
           },
           "baxis": {
            "gridcolor": "white",
            "linecolor": "white",
            "ticks": ""
           },
           "bgcolor": "#E5ECF6",
           "caxis": {
            "gridcolor": "white",
            "linecolor": "white",
            "ticks": ""
           }
          },
          "title": {
           "x": 0.05
          },
          "xaxis": {
           "automargin": true,
           "gridcolor": "white",
           "linecolor": "white",
           "ticks": "",
           "title": {
            "standoff": 15
           },
           "zerolinecolor": "white",
           "zerolinewidth": 2
          },
          "yaxis": {
           "automargin": true,
           "gridcolor": "white",
           "linecolor": "white",
           "ticks": "",
           "title": {
            "standoff": 15
           },
           "zerolinecolor": "white",
           "zerolinewidth": 2
          }
         }
        },
        "title": {
         "text": "Soma do Rendimento (ton/ha) Total por Ano"
        },
        "xaxis": {
         "anchor": "y",
         "domain": [
          0,
          1
         ],
         "title": {
          "text": "Ano"
         }
        },
        "yaxis": {
         "anchor": "x",
         "domain": [
          0,
          1
         ],
         "title": {
          "text": "Soma do Rendimento (ton/ha) Total"
         }
        }
       }
      }
     },
     "metadata": {},
     "output_type": "display_data"
    }
   ],
   "source": [
    "# Agrupar os dados por ano e calcular a soma da produção\n",
    "df_grouped = brazil_database.groupby(\"Year\").agg({\"Total_Production\": \"sum\"}).reset_index()\n",
    "\n",
    "# Calcular a média anual da coluna \"Total_Production\"\n",
    "Total_Production_mean_by_year = brazil_database.groupby(\"Year\")[\"Total_Production\"].mean().reset_index()\n",
    "Total_Production_mean_by_year.columns = [\"Year\", \"Total_Production_Mean\"]\n",
    "\n",
    "# Criar o gráfico de barras usando o Plotly Express\n",
    "fig = px.bar(df_grouped, x=\"Year\", y=\"Total_Production\", labels={\"Total_Production\": \"Soma do Rendimento (ton/ha) Total\"})\n",
    "\n",
    "# Acrescentar a linha da média anual usando um gráfico de linha\n",
    "fig.add_trace(go.Scatter(x=Total_Production_mean_by_year[\"Year\"], y=Total_Production_mean_by_year[\"Total_Production_Mean\"],\n",
    "                         mode=\"lines\", line=dict(color=\"red\", width=2, dash=\"dash\"),\n",
    "                         name=\"Média Anual\"))\n",
    "\n",
    "# Personalizar a estética do gráfico\n",
    "fig.update_traces(marker_color=\"rgb(53, 128, 196)\",  # Cor das barras\n",
    "                  marker_line_color=\"rgb(8, 48, 107)\",  # Cor das linhas das barras\n",
    "                  marker_line_width=1.5,  # Espessura das linhas das barras\n",
    "                  opacity=0.7  # Opacidade das barras\n",
    "                 )\n",
    "\n",
    "fig.update_layout(\n",
    "    title=\"Soma do Rendimento (ton/ha) Total por Ano\",\n",
    "    xaxis_title=\"Ano\",\n",
    "    yaxis_title=\"Soma do Rendimento (ton/ha) Total\",\n",
    "    font=dict(\n",
    "        family=\"Arial\",\n",
    "        size=14,\n",
    "        color=\"rgb(50, 50, 50)\"\n",
    "    ),\n",
    "    plot_bgcolor=\"white\",  # Cor do fundo do gráfico\n",
    "    paper_bgcolor=\"white\",  # Cor do fundo do papel (área fora do gráfico)\n",
    "    bargap=0.1,  # Espaçamento entre as barras\n",
    "    bargroupgap=0.2  # Espaçamento entre grupos de barras\n",
    ")\n",
    "\n",
    "# Exibir o gráfico\n",
    "fig.show()"
   ]
  },
  {
   "cell_type": "code",
   "execution_count": 12,
   "metadata": {},
   "outputs": [
    {
     "data": {
      "text/html": [
       "<div>\n",
       "<style scoped>\n",
       "    .dataframe tbody tr th:only-of-type {\n",
       "        vertical-align: middle;\n",
       "    }\n",
       "\n",
       "    .dataframe tbody tr th {\n",
       "        vertical-align: top;\n",
       "    }\n",
       "\n",
       "    .dataframe thead th {\n",
       "        text-align: right;\n",
       "    }\n",
       "</style>\n",
       "<table border=\"1\" class=\"dataframe\">\n",
       "  <thead>\n",
       "    <tr style=\"text-align: right;\">\n",
       "      <th></th>\n",
       "      <th>Year</th>\n",
       "      <th>Total_Production</th>\n",
       "    </tr>\n",
       "  </thead>\n",
       "  <tbody>\n",
       "    <tr>\n",
       "      <th>0</th>\n",
       "      <td>2018</td>\n",
       "      <td>1340600.29</td>\n",
       "    </tr>\n",
       "    <tr>\n",
       "      <th>1</th>\n",
       "      <td>2019</td>\n",
       "      <td>2575202.94</td>\n",
       "    </tr>\n",
       "    <tr>\n",
       "      <th>2</th>\n",
       "      <td>2020</td>\n",
       "      <td>2650601.19</td>\n",
       "    </tr>\n",
       "    <tr>\n",
       "      <th>3</th>\n",
       "      <td>2021</td>\n",
       "      <td>3558665.50</td>\n",
       "    </tr>\n",
       "    <tr>\n",
       "      <th>4</th>\n",
       "      <td>2022</td>\n",
       "      <td>5259785.33</td>\n",
       "    </tr>\n",
       "    <tr>\n",
       "      <th>5</th>\n",
       "      <td>2023</td>\n",
       "      <td>9437.40</td>\n",
       "    </tr>\n",
       "  </tbody>\n",
       "</table>\n",
       "</div>"
      ],
      "text/plain": [
       "   Year  Total_Production\n",
       "0  2018        1340600.29\n",
       "1  2019        2575202.94\n",
       "2  2020        2650601.19\n",
       "3  2021        3558665.50\n",
       "4  2022        5259785.33\n",
       "5  2023           9437.40"
      ]
     },
     "execution_count": 12,
     "metadata": {},
     "output_type": "execute_result"
    }
   ],
   "source": [
    "df_grouped"
   ]
  },
  {
   "cell_type": "code",
   "execution_count": 7,
   "metadata": {},
   "outputs": [
    {
     "data": {
      "application/vnd.plotly.v1+json": {
       "config": {
        "plotlyServerURL": "https://plot.ly"
       },
       "data": [
        {
         "alignmentgroup": "True",
         "hovertemplate": "Year=%{x}<br>Soma da Utilização da Área Total=%{y}<extra></extra>",
         "legendgroup": "",
         "marker": {
          "color": "rgb(53, 128, 196)",
          "line": {
           "color": "rgb(8, 48, 107)",
           "width": 1.5
          },
          "pattern": {
           "shape": ""
          }
         },
         "name": "",
         "offsetgroup": "",
         "opacity": 0.7,
         "orientation": "v",
         "showlegend": false,
         "textposition": "auto",
         "type": "bar",
         "x": [
          2018,
          2019,
          2020,
          2021,
          2022,
          2023
         ],
         "xaxis": "x",
         "y": [
          377297.06,
          716480.8399999999,
          886124.1100000002,
          1149587.74,
          1487754.56,
          2647
         ],
         "yaxis": "y"
        }
       ],
       "layout": {
        "bargap": 0.1,
        "bargroupgap": 0.2,
        "barmode": "relative",
        "font": {
         "color": "rgb(50, 50, 50)",
         "family": "Arial",
         "size": 14
        },
        "legend": {
         "tracegroupgap": 0
        },
        "margin": {
         "t": 60
        },
        "paper_bgcolor": "white",
        "plot_bgcolor": "white",
        "template": {
         "data": {
          "bar": [
           {
            "error_x": {
             "color": "#2a3f5f"
            },
            "error_y": {
             "color": "#2a3f5f"
            },
            "marker": {
             "line": {
              "color": "#E5ECF6",
              "width": 0.5
             },
             "pattern": {
              "fillmode": "overlay",
              "size": 10,
              "solidity": 0.2
             }
            },
            "type": "bar"
           }
          ],
          "barpolar": [
           {
            "marker": {
             "line": {
              "color": "#E5ECF6",
              "width": 0.5
             },
             "pattern": {
              "fillmode": "overlay",
              "size": 10,
              "solidity": 0.2
             }
            },
            "type": "barpolar"
           }
          ],
          "carpet": [
           {
            "aaxis": {
             "endlinecolor": "#2a3f5f",
             "gridcolor": "white",
             "linecolor": "white",
             "minorgridcolor": "white",
             "startlinecolor": "#2a3f5f"
            },
            "baxis": {
             "endlinecolor": "#2a3f5f",
             "gridcolor": "white",
             "linecolor": "white",
             "minorgridcolor": "white",
             "startlinecolor": "#2a3f5f"
            },
            "type": "carpet"
           }
          ],
          "choropleth": [
           {
            "colorbar": {
             "outlinewidth": 0,
             "ticks": ""
            },
            "type": "choropleth"
           }
          ],
          "contour": [
           {
            "colorbar": {
             "outlinewidth": 0,
             "ticks": ""
            },
            "colorscale": [
             [
              0,
              "#0d0887"
             ],
             [
              0.1111111111111111,
              "#46039f"
             ],
             [
              0.2222222222222222,
              "#7201a8"
             ],
             [
              0.3333333333333333,
              "#9c179e"
             ],
             [
              0.4444444444444444,
              "#bd3786"
             ],
             [
              0.5555555555555556,
              "#d8576b"
             ],
             [
              0.6666666666666666,
              "#ed7953"
             ],
             [
              0.7777777777777778,
              "#fb9f3a"
             ],
             [
              0.8888888888888888,
              "#fdca26"
             ],
             [
              1,
              "#f0f921"
             ]
            ],
            "type": "contour"
           }
          ],
          "contourcarpet": [
           {
            "colorbar": {
             "outlinewidth": 0,
             "ticks": ""
            },
            "type": "contourcarpet"
           }
          ],
          "heatmap": [
           {
            "colorbar": {
             "outlinewidth": 0,
             "ticks": ""
            },
            "colorscale": [
             [
              0,
              "#0d0887"
             ],
             [
              0.1111111111111111,
              "#46039f"
             ],
             [
              0.2222222222222222,
              "#7201a8"
             ],
             [
              0.3333333333333333,
              "#9c179e"
             ],
             [
              0.4444444444444444,
              "#bd3786"
             ],
             [
              0.5555555555555556,
              "#d8576b"
             ],
             [
              0.6666666666666666,
              "#ed7953"
             ],
             [
              0.7777777777777778,
              "#fb9f3a"
             ],
             [
              0.8888888888888888,
              "#fdca26"
             ],
             [
              1,
              "#f0f921"
             ]
            ],
            "type": "heatmap"
           }
          ],
          "heatmapgl": [
           {
            "colorbar": {
             "outlinewidth": 0,
             "ticks": ""
            },
            "colorscale": [
             [
              0,
              "#0d0887"
             ],
             [
              0.1111111111111111,
              "#46039f"
             ],
             [
              0.2222222222222222,
              "#7201a8"
             ],
             [
              0.3333333333333333,
              "#9c179e"
             ],
             [
              0.4444444444444444,
              "#bd3786"
             ],
             [
              0.5555555555555556,
              "#d8576b"
             ],
             [
              0.6666666666666666,
              "#ed7953"
             ],
             [
              0.7777777777777778,
              "#fb9f3a"
             ],
             [
              0.8888888888888888,
              "#fdca26"
             ],
             [
              1,
              "#f0f921"
             ]
            ],
            "type": "heatmapgl"
           }
          ],
          "histogram": [
           {
            "marker": {
             "pattern": {
              "fillmode": "overlay",
              "size": 10,
              "solidity": 0.2
             }
            },
            "type": "histogram"
           }
          ],
          "histogram2d": [
           {
            "colorbar": {
             "outlinewidth": 0,
             "ticks": ""
            },
            "colorscale": [
             [
              0,
              "#0d0887"
             ],
             [
              0.1111111111111111,
              "#46039f"
             ],
             [
              0.2222222222222222,
              "#7201a8"
             ],
             [
              0.3333333333333333,
              "#9c179e"
             ],
             [
              0.4444444444444444,
              "#bd3786"
             ],
             [
              0.5555555555555556,
              "#d8576b"
             ],
             [
              0.6666666666666666,
              "#ed7953"
             ],
             [
              0.7777777777777778,
              "#fb9f3a"
             ],
             [
              0.8888888888888888,
              "#fdca26"
             ],
             [
              1,
              "#f0f921"
             ]
            ],
            "type": "histogram2d"
           }
          ],
          "histogram2dcontour": [
           {
            "colorbar": {
             "outlinewidth": 0,
             "ticks": ""
            },
            "colorscale": [
             [
              0,
              "#0d0887"
             ],
             [
              0.1111111111111111,
              "#46039f"
             ],
             [
              0.2222222222222222,
              "#7201a8"
             ],
             [
              0.3333333333333333,
              "#9c179e"
             ],
             [
              0.4444444444444444,
              "#bd3786"
             ],
             [
              0.5555555555555556,
              "#d8576b"
             ],
             [
              0.6666666666666666,
              "#ed7953"
             ],
             [
              0.7777777777777778,
              "#fb9f3a"
             ],
             [
              0.8888888888888888,
              "#fdca26"
             ],
             [
              1,
              "#f0f921"
             ]
            ],
            "type": "histogram2dcontour"
           }
          ],
          "mesh3d": [
           {
            "colorbar": {
             "outlinewidth": 0,
             "ticks": ""
            },
            "type": "mesh3d"
           }
          ],
          "parcoords": [
           {
            "line": {
             "colorbar": {
              "outlinewidth": 0,
              "ticks": ""
             }
            },
            "type": "parcoords"
           }
          ],
          "pie": [
           {
            "automargin": true,
            "type": "pie"
           }
          ],
          "scatter": [
           {
            "fillpattern": {
             "fillmode": "overlay",
             "size": 10,
             "solidity": 0.2
            },
            "type": "scatter"
           }
          ],
          "scatter3d": [
           {
            "line": {
             "colorbar": {
              "outlinewidth": 0,
              "ticks": ""
             }
            },
            "marker": {
             "colorbar": {
              "outlinewidth": 0,
              "ticks": ""
             }
            },
            "type": "scatter3d"
           }
          ],
          "scattercarpet": [
           {
            "marker": {
             "colorbar": {
              "outlinewidth": 0,
              "ticks": ""
             }
            },
            "type": "scattercarpet"
           }
          ],
          "scattergeo": [
           {
            "marker": {
             "colorbar": {
              "outlinewidth": 0,
              "ticks": ""
             }
            },
            "type": "scattergeo"
           }
          ],
          "scattergl": [
           {
            "marker": {
             "colorbar": {
              "outlinewidth": 0,
              "ticks": ""
             }
            },
            "type": "scattergl"
           }
          ],
          "scattermapbox": [
           {
            "marker": {
             "colorbar": {
              "outlinewidth": 0,
              "ticks": ""
             }
            },
            "type": "scattermapbox"
           }
          ],
          "scatterpolar": [
           {
            "marker": {
             "colorbar": {
              "outlinewidth": 0,
              "ticks": ""
             }
            },
            "type": "scatterpolar"
           }
          ],
          "scatterpolargl": [
           {
            "marker": {
             "colorbar": {
              "outlinewidth": 0,
              "ticks": ""
             }
            },
            "type": "scatterpolargl"
           }
          ],
          "scatterternary": [
           {
            "marker": {
             "colorbar": {
              "outlinewidth": 0,
              "ticks": ""
             }
            },
            "type": "scatterternary"
           }
          ],
          "surface": [
           {
            "colorbar": {
             "outlinewidth": 0,
             "ticks": ""
            },
            "colorscale": [
             [
              0,
              "#0d0887"
             ],
             [
              0.1111111111111111,
              "#46039f"
             ],
             [
              0.2222222222222222,
              "#7201a8"
             ],
             [
              0.3333333333333333,
              "#9c179e"
             ],
             [
              0.4444444444444444,
              "#bd3786"
             ],
             [
              0.5555555555555556,
              "#d8576b"
             ],
             [
              0.6666666666666666,
              "#ed7953"
             ],
             [
              0.7777777777777778,
              "#fb9f3a"
             ],
             [
              0.8888888888888888,
              "#fdca26"
             ],
             [
              1,
              "#f0f921"
             ]
            ],
            "type": "surface"
           }
          ],
          "table": [
           {
            "cells": {
             "fill": {
              "color": "#EBF0F8"
             },
             "line": {
              "color": "white"
             }
            },
            "header": {
             "fill": {
              "color": "#C8D4E3"
             },
             "line": {
              "color": "white"
             }
            },
            "type": "table"
           }
          ]
         },
         "layout": {
          "annotationdefaults": {
           "arrowcolor": "#2a3f5f",
           "arrowhead": 0,
           "arrowwidth": 1
          },
          "autotypenumbers": "strict",
          "coloraxis": {
           "colorbar": {
            "outlinewidth": 0,
            "ticks": ""
           }
          },
          "colorscale": {
           "diverging": [
            [
             0,
             "#8e0152"
            ],
            [
             0.1,
             "#c51b7d"
            ],
            [
             0.2,
             "#de77ae"
            ],
            [
             0.3,
             "#f1b6da"
            ],
            [
             0.4,
             "#fde0ef"
            ],
            [
             0.5,
             "#f7f7f7"
            ],
            [
             0.6,
             "#e6f5d0"
            ],
            [
             0.7,
             "#b8e186"
            ],
            [
             0.8,
             "#7fbc41"
            ],
            [
             0.9,
             "#4d9221"
            ],
            [
             1,
             "#276419"
            ]
           ],
           "sequential": [
            [
             0,
             "#0d0887"
            ],
            [
             0.1111111111111111,
             "#46039f"
            ],
            [
             0.2222222222222222,
             "#7201a8"
            ],
            [
             0.3333333333333333,
             "#9c179e"
            ],
            [
             0.4444444444444444,
             "#bd3786"
            ],
            [
             0.5555555555555556,
             "#d8576b"
            ],
            [
             0.6666666666666666,
             "#ed7953"
            ],
            [
             0.7777777777777778,
             "#fb9f3a"
            ],
            [
             0.8888888888888888,
             "#fdca26"
            ],
            [
             1,
             "#f0f921"
            ]
           ],
           "sequentialminus": [
            [
             0,
             "#0d0887"
            ],
            [
             0.1111111111111111,
             "#46039f"
            ],
            [
             0.2222222222222222,
             "#7201a8"
            ],
            [
             0.3333333333333333,
             "#9c179e"
            ],
            [
             0.4444444444444444,
             "#bd3786"
            ],
            [
             0.5555555555555556,
             "#d8576b"
            ],
            [
             0.6666666666666666,
             "#ed7953"
            ],
            [
             0.7777777777777778,
             "#fb9f3a"
            ],
            [
             0.8888888888888888,
             "#fdca26"
            ],
            [
             1,
             "#f0f921"
            ]
           ]
          },
          "colorway": [
           "#636efa",
           "#EF553B",
           "#00cc96",
           "#ab63fa",
           "#FFA15A",
           "#19d3f3",
           "#FF6692",
           "#B6E880",
           "#FF97FF",
           "#FECB52"
          ],
          "font": {
           "color": "#2a3f5f"
          },
          "geo": {
           "bgcolor": "white",
           "lakecolor": "white",
           "landcolor": "#E5ECF6",
           "showlakes": true,
           "showland": true,
           "subunitcolor": "white"
          },
          "hoverlabel": {
           "align": "left"
          },
          "hovermode": "closest",
          "mapbox": {
           "style": "light"
          },
          "paper_bgcolor": "white",
          "plot_bgcolor": "#E5ECF6",
          "polar": {
           "angularaxis": {
            "gridcolor": "white",
            "linecolor": "white",
            "ticks": ""
           },
           "bgcolor": "#E5ECF6",
           "radialaxis": {
            "gridcolor": "white",
            "linecolor": "white",
            "ticks": ""
           }
          },
          "scene": {
           "xaxis": {
            "backgroundcolor": "#E5ECF6",
            "gridcolor": "white",
            "gridwidth": 2,
            "linecolor": "white",
            "showbackground": true,
            "ticks": "",
            "zerolinecolor": "white"
           },
           "yaxis": {
            "backgroundcolor": "#E5ECF6",
            "gridcolor": "white",
            "gridwidth": 2,
            "linecolor": "white",
            "showbackground": true,
            "ticks": "",
            "zerolinecolor": "white"
           },
           "zaxis": {
            "backgroundcolor": "#E5ECF6",
            "gridcolor": "white",
            "gridwidth": 2,
            "linecolor": "white",
            "showbackground": true,
            "ticks": "",
            "zerolinecolor": "white"
           }
          },
          "shapedefaults": {
           "line": {
            "color": "#2a3f5f"
           }
          },
          "ternary": {
           "aaxis": {
            "gridcolor": "white",
            "linecolor": "white",
            "ticks": ""
           },
           "baxis": {
            "gridcolor": "white",
            "linecolor": "white",
            "ticks": ""
           },
           "bgcolor": "#E5ECF6",
           "caxis": {
            "gridcolor": "white",
            "linecolor": "white",
            "ticks": ""
           }
          },
          "title": {
           "x": 0.05
          },
          "xaxis": {
           "automargin": true,
           "gridcolor": "white",
           "linecolor": "white",
           "ticks": "",
           "title": {
            "standoff": 15
           },
           "zerolinecolor": "white",
           "zerolinewidth": 2
          },
          "yaxis": {
           "automargin": true,
           "gridcolor": "white",
           "linecolor": "white",
           "ticks": "",
           "title": {
            "standoff": 15
           },
           "zerolinecolor": "white",
           "zerolinewidth": 2
          }
         }
        },
        "title": {
         "text": "Soma da Utilização da Área Total por Ano"
        },
        "xaxis": {
         "anchor": "y",
         "domain": [
          0,
          1
         ],
         "title": {
          "text": "Ano"
         }
        },
        "yaxis": {
         "anchor": "x",
         "domain": [
          0,
          1
         ],
         "title": {
          "text": "Soma da Utilização da Área Total"
         }
        }
       }
      }
     },
     "metadata": {},
     "output_type": "display_data"
    }
   ],
   "source": [
    "df_grouped = brazil_database.groupby(\"Year\").agg({\"Total_Farm_Area\": \"sum\"}).reset_index()\n",
    "\n",
    "# Criar o gráfico usando o Plotly Express\n",
    "fig = px.bar(df_grouped, x=\"Year\", y=\"Total_Farm_Area\", labels={\"Total_Farm_Area\": \"Soma da Utilização da Área Total\"})\n",
    "\n",
    "# Personalizar a estética do gráfico\n",
    "fig.update_traces(marker_color=\"rgb(53, 128, 196)\",  # Cor das barras\n",
    "                  marker_line_color=\"rgb(8, 48, 107)\",  # Cor das linhas das barras\n",
    "                  marker_line_width=1.5,  # Espessura das linhas das barras\n",
    "                  opacity=0.7  # Opacidade das barras\n",
    "                 )\n",
    "\n",
    "fig.update_layout(\n",
    "    title=\"Soma da Utilização da Área Total por Ano\",\n",
    "    xaxis_title=\"Ano\",\n",
    "    yaxis_title=\"Soma da Utilização da Área Total\",\n",
    "    font=dict(\n",
    "        family=\"Arial\",\n",
    "        size=14,\n",
    "        color=\"rgb(50, 50, 50)\"\n",
    "    ),\n",
    "    plot_bgcolor=\"white\",  # Cor do fundo do gráfico\n",
    "    paper_bgcolor=\"white\",  # Cor do fundo do papel (área fora do gráfico)\n",
    "    bargap=0.1,  # Espaçamento entre as barras\n",
    "    bargroupgap=0.2  # Espaçamento entre grupos de barras\n",
    ")\n",
    "\n",
    "# Exibir o gráfico\n",
    "fig.show()\n",
    "\n"
   ]
  },
  {
   "cell_type": "code",
   "execution_count": 8,
   "metadata": {},
   "outputs": [
    {
     "data": {
      "application/vnd.plotly.v1+json": {
       "config": {
        "plotlyServerURL": "https://plot.ly"
       },
       "data": [
        {
         "domain": {
          "x": [
           0,
           1
          ],
          "y": [
           0,
           1
          ]
         },
         "hovertemplate": "Type=%{label}<br>Frequência da Type Categoria=%{value}<extra></extra>",
         "labels": [
          "Group",
          "Individual",
          "Multi-Site"
         ],
         "legendgroup": "",
         "name": "",
         "showlegend": true,
         "textinfo": "percent+label",
         "textposition": "inside",
         "type": "pie",
         "values": [
          63,
          41,
          24
         ]
        }
       ],
       "layout": {
        "font": {
         "color": "rgb(50, 50, 50)",
         "family": "Arial",
         "size": 14
        },
        "legend": {
         "tracegroupgap": 0
        },
        "margin": {
         "t": 60
        },
        "paper_bgcolor": "white",
        "plot_bgcolor": "white",
        "template": {
         "data": {
          "bar": [
           {
            "error_x": {
             "color": "#2a3f5f"
            },
            "error_y": {
             "color": "#2a3f5f"
            },
            "marker": {
             "line": {
              "color": "#E5ECF6",
              "width": 0.5
             },
             "pattern": {
              "fillmode": "overlay",
              "size": 10,
              "solidity": 0.2
             }
            },
            "type": "bar"
           }
          ],
          "barpolar": [
           {
            "marker": {
             "line": {
              "color": "#E5ECF6",
              "width": 0.5
             },
             "pattern": {
              "fillmode": "overlay",
              "size": 10,
              "solidity": 0.2
             }
            },
            "type": "barpolar"
           }
          ],
          "carpet": [
           {
            "aaxis": {
             "endlinecolor": "#2a3f5f",
             "gridcolor": "white",
             "linecolor": "white",
             "minorgridcolor": "white",
             "startlinecolor": "#2a3f5f"
            },
            "baxis": {
             "endlinecolor": "#2a3f5f",
             "gridcolor": "white",
             "linecolor": "white",
             "minorgridcolor": "white",
             "startlinecolor": "#2a3f5f"
            },
            "type": "carpet"
           }
          ],
          "choropleth": [
           {
            "colorbar": {
             "outlinewidth": 0,
             "ticks": ""
            },
            "type": "choropleth"
           }
          ],
          "contour": [
           {
            "colorbar": {
             "outlinewidth": 0,
             "ticks": ""
            },
            "colorscale": [
             [
              0,
              "#0d0887"
             ],
             [
              0.1111111111111111,
              "#46039f"
             ],
             [
              0.2222222222222222,
              "#7201a8"
             ],
             [
              0.3333333333333333,
              "#9c179e"
             ],
             [
              0.4444444444444444,
              "#bd3786"
             ],
             [
              0.5555555555555556,
              "#d8576b"
             ],
             [
              0.6666666666666666,
              "#ed7953"
             ],
             [
              0.7777777777777778,
              "#fb9f3a"
             ],
             [
              0.8888888888888888,
              "#fdca26"
             ],
             [
              1,
              "#f0f921"
             ]
            ],
            "type": "contour"
           }
          ],
          "contourcarpet": [
           {
            "colorbar": {
             "outlinewidth": 0,
             "ticks": ""
            },
            "type": "contourcarpet"
           }
          ],
          "heatmap": [
           {
            "colorbar": {
             "outlinewidth": 0,
             "ticks": ""
            },
            "colorscale": [
             [
              0,
              "#0d0887"
             ],
             [
              0.1111111111111111,
              "#46039f"
             ],
             [
              0.2222222222222222,
              "#7201a8"
             ],
             [
              0.3333333333333333,
              "#9c179e"
             ],
             [
              0.4444444444444444,
              "#bd3786"
             ],
             [
              0.5555555555555556,
              "#d8576b"
             ],
             [
              0.6666666666666666,
              "#ed7953"
             ],
             [
              0.7777777777777778,
              "#fb9f3a"
             ],
             [
              0.8888888888888888,
              "#fdca26"
             ],
             [
              1,
              "#f0f921"
             ]
            ],
            "type": "heatmap"
           }
          ],
          "heatmapgl": [
           {
            "colorbar": {
             "outlinewidth": 0,
             "ticks": ""
            },
            "colorscale": [
             [
              0,
              "#0d0887"
             ],
             [
              0.1111111111111111,
              "#46039f"
             ],
             [
              0.2222222222222222,
              "#7201a8"
             ],
             [
              0.3333333333333333,
              "#9c179e"
             ],
             [
              0.4444444444444444,
              "#bd3786"
             ],
             [
              0.5555555555555556,
              "#d8576b"
             ],
             [
              0.6666666666666666,
              "#ed7953"
             ],
             [
              0.7777777777777778,
              "#fb9f3a"
             ],
             [
              0.8888888888888888,
              "#fdca26"
             ],
             [
              1,
              "#f0f921"
             ]
            ],
            "type": "heatmapgl"
           }
          ],
          "histogram": [
           {
            "marker": {
             "pattern": {
              "fillmode": "overlay",
              "size": 10,
              "solidity": 0.2
             }
            },
            "type": "histogram"
           }
          ],
          "histogram2d": [
           {
            "colorbar": {
             "outlinewidth": 0,
             "ticks": ""
            },
            "colorscale": [
             [
              0,
              "#0d0887"
             ],
             [
              0.1111111111111111,
              "#46039f"
             ],
             [
              0.2222222222222222,
              "#7201a8"
             ],
             [
              0.3333333333333333,
              "#9c179e"
             ],
             [
              0.4444444444444444,
              "#bd3786"
             ],
             [
              0.5555555555555556,
              "#d8576b"
             ],
             [
              0.6666666666666666,
              "#ed7953"
             ],
             [
              0.7777777777777778,
              "#fb9f3a"
             ],
             [
              0.8888888888888888,
              "#fdca26"
             ],
             [
              1,
              "#f0f921"
             ]
            ],
            "type": "histogram2d"
           }
          ],
          "histogram2dcontour": [
           {
            "colorbar": {
             "outlinewidth": 0,
             "ticks": ""
            },
            "colorscale": [
             [
              0,
              "#0d0887"
             ],
             [
              0.1111111111111111,
              "#46039f"
             ],
             [
              0.2222222222222222,
              "#7201a8"
             ],
             [
              0.3333333333333333,
              "#9c179e"
             ],
             [
              0.4444444444444444,
              "#bd3786"
             ],
             [
              0.5555555555555556,
              "#d8576b"
             ],
             [
              0.6666666666666666,
              "#ed7953"
             ],
             [
              0.7777777777777778,
              "#fb9f3a"
             ],
             [
              0.8888888888888888,
              "#fdca26"
             ],
             [
              1,
              "#f0f921"
             ]
            ],
            "type": "histogram2dcontour"
           }
          ],
          "mesh3d": [
           {
            "colorbar": {
             "outlinewidth": 0,
             "ticks": ""
            },
            "type": "mesh3d"
           }
          ],
          "parcoords": [
           {
            "line": {
             "colorbar": {
              "outlinewidth": 0,
              "ticks": ""
             }
            },
            "type": "parcoords"
           }
          ],
          "pie": [
           {
            "automargin": true,
            "type": "pie"
           }
          ],
          "scatter": [
           {
            "fillpattern": {
             "fillmode": "overlay",
             "size": 10,
             "solidity": 0.2
            },
            "type": "scatter"
           }
          ],
          "scatter3d": [
           {
            "line": {
             "colorbar": {
              "outlinewidth": 0,
              "ticks": ""
             }
            },
            "marker": {
             "colorbar": {
              "outlinewidth": 0,
              "ticks": ""
             }
            },
            "type": "scatter3d"
           }
          ],
          "scattercarpet": [
           {
            "marker": {
             "colorbar": {
              "outlinewidth": 0,
              "ticks": ""
             }
            },
            "type": "scattercarpet"
           }
          ],
          "scattergeo": [
           {
            "marker": {
             "colorbar": {
              "outlinewidth": 0,
              "ticks": ""
             }
            },
            "type": "scattergeo"
           }
          ],
          "scattergl": [
           {
            "marker": {
             "colorbar": {
              "outlinewidth": 0,
              "ticks": ""
             }
            },
            "type": "scattergl"
           }
          ],
          "scattermapbox": [
           {
            "marker": {
             "colorbar": {
              "outlinewidth": 0,
              "ticks": ""
             }
            },
            "type": "scattermapbox"
           }
          ],
          "scatterpolar": [
           {
            "marker": {
             "colorbar": {
              "outlinewidth": 0,
              "ticks": ""
             }
            },
            "type": "scatterpolar"
           }
          ],
          "scatterpolargl": [
           {
            "marker": {
             "colorbar": {
              "outlinewidth": 0,
              "ticks": ""
             }
            },
            "type": "scatterpolargl"
           }
          ],
          "scatterternary": [
           {
            "marker": {
             "colorbar": {
              "outlinewidth": 0,
              "ticks": ""
             }
            },
            "type": "scatterternary"
           }
          ],
          "surface": [
           {
            "colorbar": {
             "outlinewidth": 0,
             "ticks": ""
            },
            "colorscale": [
             [
              0,
              "#0d0887"
             ],
             [
              0.1111111111111111,
              "#46039f"
             ],
             [
              0.2222222222222222,
              "#7201a8"
             ],
             [
              0.3333333333333333,
              "#9c179e"
             ],
             [
              0.4444444444444444,
              "#bd3786"
             ],
             [
              0.5555555555555556,
              "#d8576b"
             ],
             [
              0.6666666666666666,
              "#ed7953"
             ],
             [
              0.7777777777777778,
              "#fb9f3a"
             ],
             [
              0.8888888888888888,
              "#fdca26"
             ],
             [
              1,
              "#f0f921"
             ]
            ],
            "type": "surface"
           }
          ],
          "table": [
           {
            "cells": {
             "fill": {
              "color": "#EBF0F8"
             },
             "line": {
              "color": "white"
             }
            },
            "header": {
             "fill": {
              "color": "#C8D4E3"
             },
             "line": {
              "color": "white"
             }
            },
            "type": "table"
           }
          ]
         },
         "layout": {
          "annotationdefaults": {
           "arrowcolor": "#2a3f5f",
           "arrowhead": 0,
           "arrowwidth": 1
          },
          "autotypenumbers": "strict",
          "coloraxis": {
           "colorbar": {
            "outlinewidth": 0,
            "ticks": ""
           }
          },
          "colorscale": {
           "diverging": [
            [
             0,
             "#8e0152"
            ],
            [
             0.1,
             "#c51b7d"
            ],
            [
             0.2,
             "#de77ae"
            ],
            [
             0.3,
             "#f1b6da"
            ],
            [
             0.4,
             "#fde0ef"
            ],
            [
             0.5,
             "#f7f7f7"
            ],
            [
             0.6,
             "#e6f5d0"
            ],
            [
             0.7,
             "#b8e186"
            ],
            [
             0.8,
             "#7fbc41"
            ],
            [
             0.9,
             "#4d9221"
            ],
            [
             1,
             "#276419"
            ]
           ],
           "sequential": [
            [
             0,
             "#0d0887"
            ],
            [
             0.1111111111111111,
             "#46039f"
            ],
            [
             0.2222222222222222,
             "#7201a8"
            ],
            [
             0.3333333333333333,
             "#9c179e"
            ],
            [
             0.4444444444444444,
             "#bd3786"
            ],
            [
             0.5555555555555556,
             "#d8576b"
            ],
            [
             0.6666666666666666,
             "#ed7953"
            ],
            [
             0.7777777777777778,
             "#fb9f3a"
            ],
            [
             0.8888888888888888,
             "#fdca26"
            ],
            [
             1,
             "#f0f921"
            ]
           ],
           "sequentialminus": [
            [
             0,
             "#0d0887"
            ],
            [
             0.1111111111111111,
             "#46039f"
            ],
            [
             0.2222222222222222,
             "#7201a8"
            ],
            [
             0.3333333333333333,
             "#9c179e"
            ],
            [
             0.4444444444444444,
             "#bd3786"
            ],
            [
             0.5555555555555556,
             "#d8576b"
            ],
            [
             0.6666666666666666,
             "#ed7953"
            ],
            [
             0.7777777777777778,
             "#fb9f3a"
            ],
            [
             0.8888888888888888,
             "#fdca26"
            ],
            [
             1,
             "#f0f921"
            ]
           ]
          },
          "colorway": [
           "#636efa",
           "#EF553B",
           "#00cc96",
           "#ab63fa",
           "#FFA15A",
           "#19d3f3",
           "#FF6692",
           "#B6E880",
           "#FF97FF",
           "#FECB52"
          ],
          "font": {
           "color": "#2a3f5f"
          },
          "geo": {
           "bgcolor": "white",
           "lakecolor": "white",
           "landcolor": "#E5ECF6",
           "showlakes": true,
           "showland": true,
           "subunitcolor": "white"
          },
          "hoverlabel": {
           "align": "left"
          },
          "hovermode": "closest",
          "mapbox": {
           "style": "light"
          },
          "paper_bgcolor": "white",
          "plot_bgcolor": "#E5ECF6",
          "polar": {
           "angularaxis": {
            "gridcolor": "white",
            "linecolor": "white",
            "ticks": ""
           },
           "bgcolor": "#E5ECF6",
           "radialaxis": {
            "gridcolor": "white",
            "linecolor": "white",
            "ticks": ""
           }
          },
          "scene": {
           "xaxis": {
            "backgroundcolor": "#E5ECF6",
            "gridcolor": "white",
            "gridwidth": 2,
            "linecolor": "white",
            "showbackground": true,
            "ticks": "",
            "zerolinecolor": "white"
           },
           "yaxis": {
            "backgroundcolor": "#E5ECF6",
            "gridcolor": "white",
            "gridwidth": 2,
            "linecolor": "white",
            "showbackground": true,
            "ticks": "",
            "zerolinecolor": "white"
           },
           "zaxis": {
            "backgroundcolor": "#E5ECF6",
            "gridcolor": "white",
            "gridwidth": 2,
            "linecolor": "white",
            "showbackground": true,
            "ticks": "",
            "zerolinecolor": "white"
           }
          },
          "shapedefaults": {
           "line": {
            "color": "#2a3f5f"
           }
          },
          "ternary": {
           "aaxis": {
            "gridcolor": "white",
            "linecolor": "white",
            "ticks": ""
           },
           "baxis": {
            "gridcolor": "white",
            "linecolor": "white",
            "ticks": ""
           },
           "bgcolor": "#E5ECF6",
           "caxis": {
            "gridcolor": "white",
            "linecolor": "white",
            "ticks": ""
           }
          },
          "title": {
           "x": 0.05
          },
          "xaxis": {
           "automargin": true,
           "gridcolor": "white",
           "linecolor": "white",
           "ticks": "",
           "title": {
            "standoff": 15
           },
           "zerolinecolor": "white",
           "zerolinewidth": 2
          },
          "yaxis": {
           "automargin": true,
           "gridcolor": "white",
           "linecolor": "white",
           "ticks": "",
           "title": {
            "standoff": 15
           },
           "zerolinecolor": "white",
           "zerolinewidth": 2
          }
         }
        },
        "title": {
         "text": "Frequência das Categorias"
        }
       }
      }
     },
     "metadata": {},
     "output_type": "display_data"
    }
   ],
   "source": [
    "# Contar a frequência das categorias\n",
    "df_count = brazil_database[\"Type\"].value_counts().reset_index()\n",
    "df_count.columns = [\"Type\", \"Frequência\"]\n",
    "\n",
    "# Criar o gráfico de pizza usando o Plotly Express\n",
    "fig = px.pie(df_count, values=\"Frequência\", names=\"Type\", labels={\"Frequência\": \"Frequência da Type Categoria\"})\n",
    "\n",
    "# Personalizar a estética do gráfico\n",
    "fig.update_traces(textposition=\"inside\", textinfo=\"percent+label\")\n",
    "fig.update_layout(\n",
    "    title=\"Frequência das Categorias\",\n",
    "    font=dict(\n",
    "        family=\"Arial\",\n",
    "        size=14,\n",
    "        color=\"rgb(50, 50, 50)\"\n",
    "    ),\n",
    "    plot_bgcolor=\"white\",  # Cor do fundo do gráfico\n",
    "    paper_bgcolor=\"white\",  # Cor do fundo do papel (área fora do gráfico)\n",
    ")\n",
    "\n",
    "# Exibir o gráfico\n",
    "fig.show()"
   ]
  },
  {
   "cell_type": "code",
   "execution_count": 9,
   "metadata": {},
   "outputs": [
    {
     "data": {
      "application/vnd.plotly.v1+json": {
       "config": {
        "plotlyServerURL": "https://plot.ly"
       },
       "data": [
        {
         "alignmentgroup": "True",
         "hovertemplate": "Year=%{x}<br>Frequência da Year=%{y}<extra></extra>",
         "legendgroup": "",
         "marker": {
          "color": "rgb(53, 128, 196)",
          "line": {
           "color": "rgb(8, 48, 107)",
           "width": 1.5
          },
          "pattern": {
           "shape": ""
          }
         },
         "name": "",
         "offsetgroup": "",
         "opacity": 0.7,
         "orientation": "v",
         "showlegend": false,
         "textposition": "auto",
         "type": "bar",
         "x": [
          2022,
          2020,
          2021,
          2019,
          2018,
          2023
         ],
         "xaxis": "x",
         "y": [
          38,
          32,
          31,
          17,
          8,
          2
         ],
         "yaxis": "y"
        }
       ],
       "layout": {
        "bargap": 0.1,
        "barmode": "relative",
        "font": {
         "color": "rgb(50, 50, 50)",
         "family": "Arial",
         "size": 14
        },
        "legend": {
         "tracegroupgap": 0
        },
        "margin": {
         "t": 60
        },
        "paper_bgcolor": "white",
        "plot_bgcolor": "white",
        "template": {
         "data": {
          "bar": [
           {
            "error_x": {
             "color": "#2a3f5f"
            },
            "error_y": {
             "color": "#2a3f5f"
            },
            "marker": {
             "line": {
              "color": "#E5ECF6",
              "width": 0.5
             },
             "pattern": {
              "fillmode": "overlay",
              "size": 10,
              "solidity": 0.2
             }
            },
            "type": "bar"
           }
          ],
          "barpolar": [
           {
            "marker": {
             "line": {
              "color": "#E5ECF6",
              "width": 0.5
             },
             "pattern": {
              "fillmode": "overlay",
              "size": 10,
              "solidity": 0.2
             }
            },
            "type": "barpolar"
           }
          ],
          "carpet": [
           {
            "aaxis": {
             "endlinecolor": "#2a3f5f",
             "gridcolor": "white",
             "linecolor": "white",
             "minorgridcolor": "white",
             "startlinecolor": "#2a3f5f"
            },
            "baxis": {
             "endlinecolor": "#2a3f5f",
             "gridcolor": "white",
             "linecolor": "white",
             "minorgridcolor": "white",
             "startlinecolor": "#2a3f5f"
            },
            "type": "carpet"
           }
          ],
          "choropleth": [
           {
            "colorbar": {
             "outlinewidth": 0,
             "ticks": ""
            },
            "type": "choropleth"
           }
          ],
          "contour": [
           {
            "colorbar": {
             "outlinewidth": 0,
             "ticks": ""
            },
            "colorscale": [
             [
              0,
              "#0d0887"
             ],
             [
              0.1111111111111111,
              "#46039f"
             ],
             [
              0.2222222222222222,
              "#7201a8"
             ],
             [
              0.3333333333333333,
              "#9c179e"
             ],
             [
              0.4444444444444444,
              "#bd3786"
             ],
             [
              0.5555555555555556,
              "#d8576b"
             ],
             [
              0.6666666666666666,
              "#ed7953"
             ],
             [
              0.7777777777777778,
              "#fb9f3a"
             ],
             [
              0.8888888888888888,
              "#fdca26"
             ],
             [
              1,
              "#f0f921"
             ]
            ],
            "type": "contour"
           }
          ],
          "contourcarpet": [
           {
            "colorbar": {
             "outlinewidth": 0,
             "ticks": ""
            },
            "type": "contourcarpet"
           }
          ],
          "heatmap": [
           {
            "colorbar": {
             "outlinewidth": 0,
             "ticks": ""
            },
            "colorscale": [
             [
              0,
              "#0d0887"
             ],
             [
              0.1111111111111111,
              "#46039f"
             ],
             [
              0.2222222222222222,
              "#7201a8"
             ],
             [
              0.3333333333333333,
              "#9c179e"
             ],
             [
              0.4444444444444444,
              "#bd3786"
             ],
             [
              0.5555555555555556,
              "#d8576b"
             ],
             [
              0.6666666666666666,
              "#ed7953"
             ],
             [
              0.7777777777777778,
              "#fb9f3a"
             ],
             [
              0.8888888888888888,
              "#fdca26"
             ],
             [
              1,
              "#f0f921"
             ]
            ],
            "type": "heatmap"
           }
          ],
          "heatmapgl": [
           {
            "colorbar": {
             "outlinewidth": 0,
             "ticks": ""
            },
            "colorscale": [
             [
              0,
              "#0d0887"
             ],
             [
              0.1111111111111111,
              "#46039f"
             ],
             [
              0.2222222222222222,
              "#7201a8"
             ],
             [
              0.3333333333333333,
              "#9c179e"
             ],
             [
              0.4444444444444444,
              "#bd3786"
             ],
             [
              0.5555555555555556,
              "#d8576b"
             ],
             [
              0.6666666666666666,
              "#ed7953"
             ],
             [
              0.7777777777777778,
              "#fb9f3a"
             ],
             [
              0.8888888888888888,
              "#fdca26"
             ],
             [
              1,
              "#f0f921"
             ]
            ],
            "type": "heatmapgl"
           }
          ],
          "histogram": [
           {
            "marker": {
             "pattern": {
              "fillmode": "overlay",
              "size": 10,
              "solidity": 0.2
             }
            },
            "type": "histogram"
           }
          ],
          "histogram2d": [
           {
            "colorbar": {
             "outlinewidth": 0,
             "ticks": ""
            },
            "colorscale": [
             [
              0,
              "#0d0887"
             ],
             [
              0.1111111111111111,
              "#46039f"
             ],
             [
              0.2222222222222222,
              "#7201a8"
             ],
             [
              0.3333333333333333,
              "#9c179e"
             ],
             [
              0.4444444444444444,
              "#bd3786"
             ],
             [
              0.5555555555555556,
              "#d8576b"
             ],
             [
              0.6666666666666666,
              "#ed7953"
             ],
             [
              0.7777777777777778,
              "#fb9f3a"
             ],
             [
              0.8888888888888888,
              "#fdca26"
             ],
             [
              1,
              "#f0f921"
             ]
            ],
            "type": "histogram2d"
           }
          ],
          "histogram2dcontour": [
           {
            "colorbar": {
             "outlinewidth": 0,
             "ticks": ""
            },
            "colorscale": [
             [
              0,
              "#0d0887"
             ],
             [
              0.1111111111111111,
              "#46039f"
             ],
             [
              0.2222222222222222,
              "#7201a8"
             ],
             [
              0.3333333333333333,
              "#9c179e"
             ],
             [
              0.4444444444444444,
              "#bd3786"
             ],
             [
              0.5555555555555556,
              "#d8576b"
             ],
             [
              0.6666666666666666,
              "#ed7953"
             ],
             [
              0.7777777777777778,
              "#fb9f3a"
             ],
             [
              0.8888888888888888,
              "#fdca26"
             ],
             [
              1,
              "#f0f921"
             ]
            ],
            "type": "histogram2dcontour"
           }
          ],
          "mesh3d": [
           {
            "colorbar": {
             "outlinewidth": 0,
             "ticks": ""
            },
            "type": "mesh3d"
           }
          ],
          "parcoords": [
           {
            "line": {
             "colorbar": {
              "outlinewidth": 0,
              "ticks": ""
             }
            },
            "type": "parcoords"
           }
          ],
          "pie": [
           {
            "automargin": true,
            "type": "pie"
           }
          ],
          "scatter": [
           {
            "fillpattern": {
             "fillmode": "overlay",
             "size": 10,
             "solidity": 0.2
            },
            "type": "scatter"
           }
          ],
          "scatter3d": [
           {
            "line": {
             "colorbar": {
              "outlinewidth": 0,
              "ticks": ""
             }
            },
            "marker": {
             "colorbar": {
              "outlinewidth": 0,
              "ticks": ""
             }
            },
            "type": "scatter3d"
           }
          ],
          "scattercarpet": [
           {
            "marker": {
             "colorbar": {
              "outlinewidth": 0,
              "ticks": ""
             }
            },
            "type": "scattercarpet"
           }
          ],
          "scattergeo": [
           {
            "marker": {
             "colorbar": {
              "outlinewidth": 0,
              "ticks": ""
             }
            },
            "type": "scattergeo"
           }
          ],
          "scattergl": [
           {
            "marker": {
             "colorbar": {
              "outlinewidth": 0,
              "ticks": ""
             }
            },
            "type": "scattergl"
           }
          ],
          "scattermapbox": [
           {
            "marker": {
             "colorbar": {
              "outlinewidth": 0,
              "ticks": ""
             }
            },
            "type": "scattermapbox"
           }
          ],
          "scatterpolar": [
           {
            "marker": {
             "colorbar": {
              "outlinewidth": 0,
              "ticks": ""
             }
            },
            "type": "scatterpolar"
           }
          ],
          "scatterpolargl": [
           {
            "marker": {
             "colorbar": {
              "outlinewidth": 0,
              "ticks": ""
             }
            },
            "type": "scatterpolargl"
           }
          ],
          "scatterternary": [
           {
            "marker": {
             "colorbar": {
              "outlinewidth": 0,
              "ticks": ""
             }
            },
            "type": "scatterternary"
           }
          ],
          "surface": [
           {
            "colorbar": {
             "outlinewidth": 0,
             "ticks": ""
            },
            "colorscale": [
             [
              0,
              "#0d0887"
             ],
             [
              0.1111111111111111,
              "#46039f"
             ],
             [
              0.2222222222222222,
              "#7201a8"
             ],
             [
              0.3333333333333333,
              "#9c179e"
             ],
             [
              0.4444444444444444,
              "#bd3786"
             ],
             [
              0.5555555555555556,
              "#d8576b"
             ],
             [
              0.6666666666666666,
              "#ed7953"
             ],
             [
              0.7777777777777778,
              "#fb9f3a"
             ],
             [
              0.8888888888888888,
              "#fdca26"
             ],
             [
              1,
              "#f0f921"
             ]
            ],
            "type": "surface"
           }
          ],
          "table": [
           {
            "cells": {
             "fill": {
              "color": "#EBF0F8"
             },
             "line": {
              "color": "white"
             }
            },
            "header": {
             "fill": {
              "color": "#C8D4E3"
             },
             "line": {
              "color": "white"
             }
            },
            "type": "table"
           }
          ]
         },
         "layout": {
          "annotationdefaults": {
           "arrowcolor": "#2a3f5f",
           "arrowhead": 0,
           "arrowwidth": 1
          },
          "autotypenumbers": "strict",
          "coloraxis": {
           "colorbar": {
            "outlinewidth": 0,
            "ticks": ""
           }
          },
          "colorscale": {
           "diverging": [
            [
             0,
             "#8e0152"
            ],
            [
             0.1,
             "#c51b7d"
            ],
            [
             0.2,
             "#de77ae"
            ],
            [
             0.3,
             "#f1b6da"
            ],
            [
             0.4,
             "#fde0ef"
            ],
            [
             0.5,
             "#f7f7f7"
            ],
            [
             0.6,
             "#e6f5d0"
            ],
            [
             0.7,
             "#b8e186"
            ],
            [
             0.8,
             "#7fbc41"
            ],
            [
             0.9,
             "#4d9221"
            ],
            [
             1,
             "#276419"
            ]
           ],
           "sequential": [
            [
             0,
             "#0d0887"
            ],
            [
             0.1111111111111111,
             "#46039f"
            ],
            [
             0.2222222222222222,
             "#7201a8"
            ],
            [
             0.3333333333333333,
             "#9c179e"
            ],
            [
             0.4444444444444444,
             "#bd3786"
            ],
            [
             0.5555555555555556,
             "#d8576b"
            ],
            [
             0.6666666666666666,
             "#ed7953"
            ],
            [
             0.7777777777777778,
             "#fb9f3a"
            ],
            [
             0.8888888888888888,
             "#fdca26"
            ],
            [
             1,
             "#f0f921"
            ]
           ],
           "sequentialminus": [
            [
             0,
             "#0d0887"
            ],
            [
             0.1111111111111111,
             "#46039f"
            ],
            [
             0.2222222222222222,
             "#7201a8"
            ],
            [
             0.3333333333333333,
             "#9c179e"
            ],
            [
             0.4444444444444444,
             "#bd3786"
            ],
            [
             0.5555555555555556,
             "#d8576b"
            ],
            [
             0.6666666666666666,
             "#ed7953"
            ],
            [
             0.7777777777777778,
             "#fb9f3a"
            ],
            [
             0.8888888888888888,
             "#fdca26"
            ],
            [
             1,
             "#f0f921"
            ]
           ]
          },
          "colorway": [
           "#636efa",
           "#EF553B",
           "#00cc96",
           "#ab63fa",
           "#FFA15A",
           "#19d3f3",
           "#FF6692",
           "#B6E880",
           "#FF97FF",
           "#FECB52"
          ],
          "font": {
           "color": "#2a3f5f"
          },
          "geo": {
           "bgcolor": "white",
           "lakecolor": "white",
           "landcolor": "#E5ECF6",
           "showlakes": true,
           "showland": true,
           "subunitcolor": "white"
          },
          "hoverlabel": {
           "align": "left"
          },
          "hovermode": "closest",
          "mapbox": {
           "style": "light"
          },
          "paper_bgcolor": "white",
          "plot_bgcolor": "#E5ECF6",
          "polar": {
           "angularaxis": {
            "gridcolor": "white",
            "linecolor": "white",
            "ticks": ""
           },
           "bgcolor": "#E5ECF6",
           "radialaxis": {
            "gridcolor": "white",
            "linecolor": "white",
            "ticks": ""
           }
          },
          "scene": {
           "xaxis": {
            "backgroundcolor": "#E5ECF6",
            "gridcolor": "white",
            "gridwidth": 2,
            "linecolor": "white",
            "showbackground": true,
            "ticks": "",
            "zerolinecolor": "white"
           },
           "yaxis": {
            "backgroundcolor": "#E5ECF6",
            "gridcolor": "white",
            "gridwidth": 2,
            "linecolor": "white",
            "showbackground": true,
            "ticks": "",
            "zerolinecolor": "white"
           },
           "zaxis": {
            "backgroundcolor": "#E5ECF6",
            "gridcolor": "white",
            "gridwidth": 2,
            "linecolor": "white",
            "showbackground": true,
            "ticks": "",
            "zerolinecolor": "white"
           }
          },
          "shapedefaults": {
           "line": {
            "color": "#2a3f5f"
           }
          },
          "ternary": {
           "aaxis": {
            "gridcolor": "white",
            "linecolor": "white",
            "ticks": ""
           },
           "baxis": {
            "gridcolor": "white",
            "linecolor": "white",
            "ticks": ""
           },
           "bgcolor": "#E5ECF6",
           "caxis": {
            "gridcolor": "white",
            "linecolor": "white",
            "ticks": ""
           }
          },
          "title": {
           "x": 0.05
          },
          "xaxis": {
           "automargin": true,
           "gridcolor": "white",
           "linecolor": "white",
           "ticks": "",
           "title": {
            "standoff": 15
           },
           "zerolinecolor": "white",
           "zerolinewidth": 2
          },
          "yaxis": {
           "automargin": true,
           "gridcolor": "white",
           "linecolor": "white",
           "ticks": "",
           "title": {
            "standoff": 15
           },
           "zerolinecolor": "white",
           "zerolinewidth": 2
          }
         }
        },
        "title": {
         "text": "Certificações por Ano"
        },
        "xaxis": {
         "anchor": "y",
         "domain": [
          0,
          1
         ],
         "title": {
          "text": "Ano"
         }
        },
        "yaxis": {
         "anchor": "x",
         "domain": [
          0,
          1
         ],
         "title": {
          "text": "Frequência"
         }
        }
       }
      }
     },
     "metadata": {},
     "output_type": "display_data"
    }
   ],
   "source": [
    "# Contar a frequência das categorias\n",
    "df_count = brazil_database[\"Year\"].value_counts().reset_index()\n",
    "df_count.columns = [\"Year\", \"Frequência\"]\n",
    "\n",
    "# Criar o gráfico de barras usando o Plotly Express\n",
    "fig = px.bar(df_count, x=\"Year\", y=\"Frequência\", labels={\"Frequência\": \"Frequência da Year\"})\n",
    "\n",
    "# Personalizar a estética do gráfico\n",
    "fig.update_traces(marker_color=\"rgb(53, 128, 196)\",  # Cor das barras\n",
    "                  marker_line_color=\"rgb(8, 48, 107)\",  # Cor das linhas das barras\n",
    "                  marker_line_width=1.5,  # Espessura das linhas das barras\n",
    "                  opacity=0.7  # Opacidade das barras\n",
    "                 )\n",
    "\n",
    "fig.update_layout(\n",
    "    title=\"Certificações por Ano\",\n",
    "    xaxis_title=\"Ano\",\n",
    "    yaxis_title=\"Frequência\",\n",
    "    font=dict(\n",
    "        family=\"Arial\",\n",
    "        size=14,\n",
    "        color=\"rgb(50, 50, 50)\"\n",
    "    ),\n",
    "    plot_bgcolor=\"white\",  # Cor do fundo do gráfico\n",
    "    paper_bgcolor=\"white\",  # Cor do fundo do papel (área fora do gráfico)\n",
    "    bargap=0.1  # Espaçamento entre as barras\n",
    ")\n",
    "\n",
    "# Exibir o gráfico\n",
    "fig.show()"
   ]
  },
  {
   "cell_type": "code",
   "execution_count": 10,
   "metadata": {},
   "outputs": [
    {
     "data": {
      "text/html": [
       "<div>\n",
       "<style scoped>\n",
       "    .dataframe tbody tr th:only-of-type {\n",
       "        vertical-align: middle;\n",
       "    }\n",
       "\n",
       "    .dataframe tbody tr th {\n",
       "        vertical-align: top;\n",
       "    }\n",
       "\n",
       "    .dataframe thead th {\n",
       "        text-align: right;\n",
       "    }\n",
       "</style>\n",
       "<table border=\"1\" class=\"dataframe\">\n",
       "  <thead>\n",
       "    <tr style=\"text-align: right;\">\n",
       "      <th></th>\n",
       "      <th>Year</th>\n",
       "      <th>Frequência</th>\n",
       "    </tr>\n",
       "  </thead>\n",
       "  <tbody>\n",
       "    <tr>\n",
       "      <th>0</th>\n",
       "      <td>2022</td>\n",
       "      <td>38</td>\n",
       "    </tr>\n",
       "    <tr>\n",
       "      <th>1</th>\n",
       "      <td>2020</td>\n",
       "      <td>32</td>\n",
       "    </tr>\n",
       "    <tr>\n",
       "      <th>2</th>\n",
       "      <td>2021</td>\n",
       "      <td>31</td>\n",
       "    </tr>\n",
       "    <tr>\n",
       "      <th>3</th>\n",
       "      <td>2019</td>\n",
       "      <td>17</td>\n",
       "    </tr>\n",
       "    <tr>\n",
       "      <th>4</th>\n",
       "      <td>2018</td>\n",
       "      <td>8</td>\n",
       "    </tr>\n",
       "    <tr>\n",
       "      <th>5</th>\n",
       "      <td>2023</td>\n",
       "      <td>2</td>\n",
       "    </tr>\n",
       "  </tbody>\n",
       "</table>\n",
       "</div>"
      ],
      "text/plain": [
       "   Year  Frequência\n",
       "0  2022          38\n",
       "1  2020          32\n",
       "2  2021          31\n",
       "3  2019          17\n",
       "4  2018           8\n",
       "5  2023           2"
      ]
     },
     "execution_count": 10,
     "metadata": {},
     "output_type": "execute_result"
    }
   ],
   "source": [
    "df_count"
   ]
  },
  {
   "cell_type": "code",
   "execution_count": 13,
   "metadata": {},
   "outputs": [
    {
     "data": {
      "text/html": [
       "<div>\n",
       "<style scoped>\n",
       "    .dataframe tbody tr th:only-of-type {\n",
       "        vertical-align: middle;\n",
       "    }\n",
       "\n",
       "    .dataframe tbody tr th {\n",
       "        vertical-align: top;\n",
       "    }\n",
       "\n",
       "    .dataframe thead th {\n",
       "        text-align: right;\n",
       "    }\n",
       "</style>\n",
       "<table border=\"1\" class=\"dataframe\">\n",
       "  <thead>\n",
       "    <tr style=\"text-align: right;\">\n",
       "      <th></th>\n",
       "      <th>Organization</th>\n",
       "      <th>Names</th>\n",
       "      <th>Year</th>\n",
       "      <th>Links</th>\n",
       "      <th>RegTag</th>\n",
       "      <th>Companies</th>\n",
       "      <th>Total_Production</th>\n",
       "      <th>Issue_Date</th>\n",
       "      <th>Expiration_Date</th>\n",
       "      <th>Total_Farm_Area</th>\n",
       "      <th>...</th>\n",
       "      <th>5_3_criteria</th>\n",
       "      <th>5_4_criteria</th>\n",
       "      <th>5_5_criteria</th>\n",
       "      <th>5_6_criteria</th>\n",
       "      <th>5_7_criteria</th>\n",
       "      <th>5_8_criteria</th>\n",
       "      <th>5_9_criteria</th>\n",
       "      <th>5_10_criteria</th>\n",
       "      <th>5_11_criteria</th>\n",
       "      <th>Income</th>\n",
       "    </tr>\n",
       "  </thead>\n",
       "  <tbody>\n",
       "    <tr>\n",
       "      <th>0</th>\n",
       "      <td>Cataratas do Iguaçu Produtos Orgânicos</td>\n",
       "      <td>Cataratas do Iguaçu Produtos Orgânicos LTDA - ...</td>\n",
       "      <td>2022</td>\n",
       "      <td>https://responsiblesoy.org/wp-content/uploads/...</td>\n",
       "      <td>FCID RTRS 2065 376</td>\n",
       "      <td>FoodChain Id Certificadora Ltda</td>\n",
       "      <td>1207.00</td>\n",
       "      <td>2022-10-28</td>\n",
       "      <td>2022-10-27</td>\n",
       "      <td>664.10</td>\n",
       "      <td>...</td>\n",
       "      <td>A qualidade do solo é preservada em todas faze...</td>\n",
       "      <td>As quatro fazendas não possuem um plano de Man...</td>\n",
       "      <td>Verificado que a propriedade auditadas utiliza...</td>\n",
       "      <td>As fazendas não utilizam nenhum agroquímico li...</td>\n",
       "      <td>Nas propriedades auditadas são utilizados prod...</td>\n",
       "      <td>Verificado que caso ocorra algum surto de nova...</td>\n",
       "      <td>As fazendas seguem o documento Uso e Aplicação...</td>\n",
       "      <td>As áreas vizinhas possuem o mesmo tipo de prod...</td>\n",
       "      <td>Verificado que as sementes adquiridas pelas fa...</td>\n",
       "      <td>1.817497</td>\n",
       "    </tr>\n",
       "    <tr>\n",
       "      <th>1</th>\n",
       "      <td>Fundação de Apoio à Pesquisa do Corredor de Ex...</td>\n",
       "      <td>Fundação de Apoio à Pesquisa do Corredor de Ex...</td>\n",
       "      <td>2022</td>\n",
       "      <td>https://responsiblesoy.org/wp-content/uploads/...</td>\n",
       "      <td>RTRS CUC AGR COC 0110</td>\n",
       "      <td>Control Union</td>\n",
       "      <td>220845.00</td>\n",
       "      <td>2023-03-31</td>\n",
       "      <td>2028-03-30</td>\n",
       "      <td>46596.00</td>\n",
       "      <td>...</td>\n",
       "      <td>São realizadas análises de solo visando o acom...</td>\n",
       "      <td>As fazenda não possuem documentado de MIC – Ma...</td>\n",
       "      <td>O setor de planejamento das fazendas realiza a...</td>\n",
       "      <td>As fazendas não utilizam nenhum agroquímico li...</td>\n",
       "      <td>Verificado nas fazendas auditadas que o uso de...</td>\n",
       "      <td>De acordo com relatos dos responsáveis pelas f...</td>\n",
       "      <td>As fazendas auditadas possuem procedimento doc...</td>\n",
       "      <td>O sistema de produção adotado pelas fazendas é...</td>\n",
       "      <td>Verificado que todas as sementes utilizadas na...</td>\n",
       "      <td>4.739570</td>\n",
       "    </tr>\n",
       "    <tr>\n",
       "      <th>2</th>\n",
       "      <td>Fazenda Santa Cruz</td>\n",
       "      <td>Fazenda Santa Cruz</td>\n",
       "      <td>2023</td>\n",
       "      <td>https://responsiblesoy.org/wp-content/uploads/...</td>\n",
       "      <td>RTRS GC FORM IT 016</td>\n",
       "      <td>Gênesis Certificações</td>\n",
       "      <td>333.00</td>\n",
       "      <td>2022-06-05</td>\n",
       "      <td>2027-06-05</td>\n",
       "      <td>118.00</td>\n",
       "      <td>...</td>\n",
       "      <td>Evidenciado análise de solo realizada em 2021,...</td>\n",
       "      <td>Evidenciado através de avaliação documental, o...</td>\n",
       "      <td>Evidenciado através de avaliação documental qu...</td>\n",
       "      <td>Evidenciado através de avaliação documental da...</td>\n",
       "      <td>Evidenciado através de avaliação documental Pr...</td>\n",
       "      <td>Não há evidencias de surtos de pragas nas regi...</td>\n",
       "      <td>Evidenciado através de avaliação documental o ...</td>\n",
       "      <td>Apesar de evidenciado através de avaliação doc...</td>\n",
       "      <td>Conforme evidencias apresentadas, todas as sem...</td>\n",
       "      <td>2.822034</td>\n",
       "    </tr>\n",
       "    <tr>\n",
       "      <th>3</th>\n",
       "      <td>Serra da Pintura</td>\n",
       "      <td>Serra da Pintura</td>\n",
       "      <td>2023</td>\n",
       "      <td>https://responsiblesoy.org/wp-content/uploads/...</td>\n",
       "      <td>RTRS FCID AGR 2167</td>\n",
       "      <td>FoodChain Id Certificadora Ltda</td>\n",
       "      <td>9104.40</td>\n",
       "      <td>2023-09-03</td>\n",
       "      <td>2028-08-03</td>\n",
       "      <td>2529.00</td>\n",
       "      <td>...</td>\n",
       "      <td>São realizadas análises de solo com agricultur...</td>\n",
       "      <td>Indicador não aplicável para a auditoria inici...</td>\n",
       "      <td>Os registros de uso dos agroquímicos são reali...</td>\n",
       "      <td>A fazenda não utiliza produtos listados nas Co...</td>\n",
       "      <td>Indicador não aplicável para a auditoria inici...</td>\n",
       "      <td>Indicador não aplicável para a auditoria inici...</td>\n",
       "      <td>São realizados registros das condições meteoro...</td>\n",
       "      <td>Fazenda realiza integração agricultura, pecuária.</td>\n",
       "      <td>Indicador não aplicável para a auditoria inici...</td>\n",
       "      <td>3.600000</td>\n",
       "    </tr>\n",
       "    <tr>\n",
       "      <th>4</th>\n",
       "      <td>Tecnosol Consultoria Rural</td>\n",
       "      <td>Tecnosol Consultoria Rural LTDA</td>\n",
       "      <td>2022</td>\n",
       "      <td>https://responsiblesoy.org/wp-content/uploads/...</td>\n",
       "      <td>RTRS FCID AGR 2101</td>\n",
       "      <td>FoodChain Id Certificadora Ltda</td>\n",
       "      <td>29293.00</td>\n",
       "      <td>2023-02-20</td>\n",
       "      <td>2028-02-19</td>\n",
       "      <td>7753.00</td>\n",
       "      <td>...</td>\n",
       "      <td>A qualidade do solo é preservada em todas faze...</td>\n",
       "      <td>As quatro fazendas não possuem um plano de Man...</td>\n",
       "      <td>Verificado que as quatro propriedades auditada...</td>\n",
       "      <td>As fazendas não utilizam nenhum agroquímico li...</td>\n",
       "      <td>Nas propriedades auditadas são utilizados prod...</td>\n",
       "      <td>Verificado que caso ocorra algum surto de nova...</td>\n",
       "      <td>As fazendas seguem o documento Uso e Aplicação...</td>\n",
       "      <td>As áreas vizinhas possuem o mesmo tipo de prod...</td>\n",
       "      <td>Verificado que as sementes adquiridas pelas fa...</td>\n",
       "      <td>3.778279</td>\n",
       "    </tr>\n",
       "    <tr>\n",
       "      <th>...</th>\n",
       "      <td>...</td>\n",
       "      <td>...</td>\n",
       "      <td>...</td>\n",
       "      <td>...</td>\n",
       "      <td>...</td>\n",
       "      <td>...</td>\n",
       "      <td>...</td>\n",
       "      <td>...</td>\n",
       "      <td>...</td>\n",
       "      <td>...</td>\n",
       "      <td>...</td>\n",
       "      <td>...</td>\n",
       "      <td>...</td>\n",
       "      <td>...</td>\n",
       "      <td>...</td>\n",
       "      <td>...</td>\n",
       "      <td>...</td>\n",
       "      <td>...</td>\n",
       "      <td>...</td>\n",
       "      <td>...</td>\n",
       "      <td>...</td>\n",
       "    </tr>\n",
       "    <tr>\n",
       "      <th>123</th>\n",
       "      <td>Cerquality Consultoria em Sustentabilidade e C...</td>\n",
       "      <td>CerQualiti Grupo III 2018</td>\n",
       "      <td>2018</td>\n",
       "      <td>https://responsiblesoy.org/wp-content/uploads/...</td>\n",
       "      <td>RTRS CUC AGR 0067 17 12 2018</td>\n",
       "      <td>Control Union</td>\n",
       "      <td>417461.01</td>\n",
       "      <td>2018-12-17</td>\n",
       "      <td>2022-10-24</td>\n",
       "      <td>108763.00</td>\n",
       "      <td>...</td>\n",
       "      <td>Técnicas como plantio direto, rotação de cultu...</td>\n",
       "      <td>É realizado monitoramento integrado de pragas ...</td>\n",
       "      <td>As aplicações de agroquímicos contêm informaçõ...</td>\n",
       "      <td>Nenhuma evidência do uso de agroquímicos lista...</td>\n",
       "      <td>Produtos para controle biológicos são utilizad...</td>\n",
       "      <td>Foi apresentado procedimento escrito para um e...</td>\n",
       "      <td>São utilizadas medidas que analisam as condiçõ...</td>\n",
       "      <td>Todas as áreas vizinhas têm o mesmo tipo de si...</td>\n",
       "      <td>A origem das sementes pode ser comprovada atra...</td>\n",
       "      <td>3.838263</td>\n",
       "    </tr>\n",
       "    <tr>\n",
       "      <th>124</th>\n",
       "      <td>Associação Clube Amigos da Terra</td>\n",
       "      <td>Associação Amigos da Terra - Grupo III</td>\n",
       "      <td>2018</td>\n",
       "      <td>https://responsiblesoy.org/wp-content/uploads/...</td>\n",
       "      <td>RTRS CUC AGR 0059</td>\n",
       "      <td>Control Union</td>\n",
       "      <td>58578.93</td>\n",
       "      <td>2018-02-22</td>\n",
       "      <td>2023-02-21</td>\n",
       "      <td>16025.30</td>\n",
       "      <td>...</td>\n",
       "      <td>Técnicas como plantio direto, rotação de cultu...</td>\n",
       "      <td>As aplicações de defensivos agrícolas são feit...</td>\n",
       "      <td>O armazenamento, coleta e descarte de embalage...</td>\n",
       "      <td>Nenhuma evidência do uso de agroquímicos lista...</td>\n",
       "      <td>Informação disponível sobre as exigências para...</td>\n",
       "      <td>Para identificar e monitorar as novas espécies...</td>\n",
       "      <td>As condições atmosféricas como vento, umidade ...</td>\n",
       "      <td>Todas as áreas vizinhas têm o mesmo tipo de si...</td>\n",
       "      <td>As sementes compradas são oriundas de fontes l...</td>\n",
       "      <td>3.655403</td>\n",
       "    </tr>\n",
       "    <tr>\n",
       "      <th>125</th>\n",
       "      <td>Amaggi</td>\n",
       "      <td>Amaggi Commodities</td>\n",
       "      <td>2018</td>\n",
       "      <td>https://responsiblesoy.org/wp-content/uploads/...</td>\n",
       "      <td>RTRS CERTID AGR COC 0010</td>\n",
       "      <td>Cert Id Certificadora</td>\n",
       "      <td>405980.10</td>\n",
       "      <td>2017-11-28</td>\n",
       "      <td>2022-11-27</td>\n",
       "      <td>122765.20</td>\n",
       "      <td>...</td>\n",
       "      <td>O monitoramento da qualidade do solo é feito m...</td>\n",
       "      <td>As fazendas possuem plano MIC – Manejo Integra...</td>\n",
       "      <td>Todas as fazendas auditadas registram o uso de...</td>\n",
       "      <td>As fazendas não utilizam nenhum agroquímico li...</td>\n",
       "      <td>Nem todas as fazendas utilizam agentes de cont...</td>\n",
       "      <td>Caso ocorra algum surto de novas pragas, as fa...</td>\n",
       "      <td>As medidas implementadas pelas fazendas para p...</td>\n",
       "      <td>Os sistemas de produção adotados pelas fazenda...</td>\n",
       "      <td>Nenhuma das fazendas produz suas próprias seme...</td>\n",
       "      <td>3.306964</td>\n",
       "    </tr>\n",
       "    <tr>\n",
       "      <th>126</th>\n",
       "      <td>Amaggi</td>\n",
       "      <td>Amaggi Commodities EU RED</td>\n",
       "      <td>2018</td>\n",
       "      <td>https://responsiblesoy.org/wp-content/uploads/...</td>\n",
       "      <td>RTRS CERTID AGR COC BFLS 0009</td>\n",
       "      <td>Cert Id Certificadora</td>\n",
       "      <td>104787.90</td>\n",
       "      <td>2017-11-28</td>\n",
       "      <td>2022-11-27</td>\n",
       "      <td>31232.00</td>\n",
       "      <td>...</td>\n",
       "      <td>O monitoramento da qualidade do solo é feito a...</td>\n",
       "      <td>A fazenda possui um plano MIC – Manejo Integra...</td>\n",
       "      <td>O setor de planejamento da empresa realiza as ...</td>\n",
       "      <td>A fazenda não utiliza nenhum agroquímico lista...</td>\n",
       "      <td>Verificado que há o conhecimento sobre uso de ...</td>\n",
       "      <td>Caso ocorra algum surto de novas pragas, as fa...</td>\n",
       "      <td>As medidas implementadas pela fazenda para pre...</td>\n",
       "      <td>O sistema de produção adotado pelas fazendas é...</td>\n",
       "      <td>A fazenda adquire sementes de fontes legalment...</td>\n",
       "      <td>3.355145</td>\n",
       "    </tr>\n",
       "    <tr>\n",
       "      <th>127</th>\n",
       "      <td>Fundação de Apoio à Pesquisa do Corredor de Ex...</td>\n",
       "      <td>FAPCEN Grupo III</td>\n",
       "      <td>2020</td>\n",
       "      <td>https://responsiblesoy.org/wp-content/uploads/...</td>\n",
       "      <td>RTRS CERTID AGR COC BFLS 0009</td>\n",
       "      <td>Cert Id Certificadora</td>\n",
       "      <td>125279.21</td>\n",
       "      <td>2020-01-20</td>\n",
       "      <td>2025-01-19</td>\n",
       "      <td>35698.05</td>\n",
       "      <td>...</td>\n",
       "      <td>As fazendas adotam boas práticas agrícolas, re...</td>\n",
       "      <td>As fazendas utilizam produtos adequados para c...</td>\n",
       "      <td>Armazenamento e transporte de agroquímicos e s...</td>\n",
       "      <td>Foram verificados os registros de aplicação re...</td>\n",
       "      <td>Existe o uso de agentes de controle biológico ...</td>\n",
       "      <td>Apresentado metodologia destinadas a identific...</td>\n",
       "      <td>Foram apresentados procedimentos de controle d...</td>\n",
       "      <td>Todas as áreas vizinhas utilizam o mesmo tipo ...</td>\n",
       "      <td>As sementes compradas são oriundas de fontes l...</td>\n",
       "      <td>3.509413</td>\n",
       "    </tr>\n",
       "  </tbody>\n",
       "</table>\n",
       "<p>128 rows × 41 columns</p>\n",
       "</div>"
      ],
      "text/plain": [
       "                                          Organization  \\\n",
       "0               Cataratas do Iguaçu Produtos Orgânicos   \n",
       "1    Fundação de Apoio à Pesquisa do Corredor de Ex...   \n",
       "2                                   Fazenda Santa Cruz   \n",
       "3                                     Serra da Pintura   \n",
       "4                           Tecnosol Consultoria Rural   \n",
       "..                                                 ...   \n",
       "123  Cerquality Consultoria em Sustentabilidade e C...   \n",
       "124                  Associação Clube Amigos da Terra    \n",
       "125                                             Amaggi   \n",
       "126                                             Amaggi   \n",
       "127  Fundação de Apoio à Pesquisa do Corredor de Ex...   \n",
       "\n",
       "                                                 Names  Year  \\\n",
       "0    Cataratas do Iguaçu Produtos Orgânicos LTDA - ...  2022   \n",
       "1    Fundação de Apoio à Pesquisa do Corredor de Ex...  2022   \n",
       "2                                   Fazenda Santa Cruz  2023   \n",
       "3                                     Serra da Pintura  2023   \n",
       "4                      Tecnosol Consultoria Rural LTDA  2022   \n",
       "..                                                 ...   ...   \n",
       "123                          CerQualiti Grupo III 2018  2018   \n",
       "124             Associação Amigos da Terra - Grupo III  2018   \n",
       "125                                 Amaggi Commodities  2018   \n",
       "126                          Amaggi Commodities EU RED  2018   \n",
       "127                                   FAPCEN Grupo III  2020   \n",
       "\n",
       "                                                 Links  \\\n",
       "0    https://responsiblesoy.org/wp-content/uploads/...   \n",
       "1    https://responsiblesoy.org/wp-content/uploads/...   \n",
       "2    https://responsiblesoy.org/wp-content/uploads/...   \n",
       "3    https://responsiblesoy.org/wp-content/uploads/...   \n",
       "4    https://responsiblesoy.org/wp-content/uploads/...   \n",
       "..                                                 ...   \n",
       "123  https://responsiblesoy.org/wp-content/uploads/...   \n",
       "124  https://responsiblesoy.org/wp-content/uploads/...   \n",
       "125  https://responsiblesoy.org/wp-content/uploads/...   \n",
       "126  https://responsiblesoy.org/wp-content/uploads/...   \n",
       "127  https://responsiblesoy.org/wp-content/uploads/...   \n",
       "\n",
       "                            RegTag                        Companies  \\\n",
       "0               FCID RTRS 2065 376  FoodChain Id Certificadora Ltda   \n",
       "1            RTRS CUC AGR COC 0110                    Control Union   \n",
       "2              RTRS GC FORM IT 016            Gênesis Certificações   \n",
       "3               RTRS FCID AGR 2167  FoodChain Id Certificadora Ltda   \n",
       "4               RTRS FCID AGR 2101  FoodChain Id Certificadora Ltda   \n",
       "..                             ...                              ...   \n",
       "123   RTRS CUC AGR 0067 17 12 2018                    Control Union   \n",
       "124              RTRS CUC AGR 0059                    Control Union   \n",
       "125       RTRS CERTID AGR COC 0010            Cert Id Certificadora   \n",
       "126  RTRS CERTID AGR COC BFLS 0009            Cert Id Certificadora   \n",
       "127  RTRS CERTID AGR COC BFLS 0009            Cert Id Certificadora   \n",
       "\n",
       "     Total_Production Issue_Date Expiration_Date  Total_Farm_Area  ...  \\\n",
       "0             1207.00 2022-10-28      2022-10-27           664.10  ...   \n",
       "1           220845.00 2023-03-31      2028-03-30         46596.00  ...   \n",
       "2              333.00 2022-06-05      2027-06-05           118.00  ...   \n",
       "3             9104.40 2023-09-03      2028-08-03          2529.00  ...   \n",
       "4            29293.00 2023-02-20      2028-02-19          7753.00  ...   \n",
       "..                ...        ...             ...              ...  ...   \n",
       "123         417461.01 2018-12-17      2022-10-24        108763.00  ...   \n",
       "124          58578.93 2018-02-22      2023-02-21         16025.30  ...   \n",
       "125         405980.10 2017-11-28      2022-11-27        122765.20  ...   \n",
       "126         104787.90 2017-11-28      2022-11-27         31232.00  ...   \n",
       "127         125279.21 2020-01-20      2025-01-19         35698.05  ...   \n",
       "\n",
       "                                          5_3_criteria  \\\n",
       "0    A qualidade do solo é preservada em todas faze...   \n",
       "1    São realizadas análises de solo visando o acom...   \n",
       "2    Evidenciado análise de solo realizada em 2021,...   \n",
       "3    São realizadas análises de solo com agricultur...   \n",
       "4    A qualidade do solo é preservada em todas faze...   \n",
       "..                                                 ...   \n",
       "123  Técnicas como plantio direto, rotação de cultu...   \n",
       "124  Técnicas como plantio direto, rotação de cultu...   \n",
       "125  O monitoramento da qualidade do solo é feito m...   \n",
       "126  O monitoramento da qualidade do solo é feito a...   \n",
       "127  As fazendas adotam boas práticas agrícolas, re...   \n",
       "\n",
       "                                          5_4_criteria  \\\n",
       "0    As quatro fazendas não possuem um plano de Man...   \n",
       "1    As fazenda não possuem documentado de MIC – Ma...   \n",
       "2    Evidenciado através de avaliação documental, o...   \n",
       "3    Indicador não aplicável para a auditoria inici...   \n",
       "4    As quatro fazendas não possuem um plano de Man...   \n",
       "..                                                 ...   \n",
       "123  É realizado monitoramento integrado de pragas ...   \n",
       "124  As aplicações de defensivos agrícolas são feit...   \n",
       "125  As fazendas possuem plano MIC – Manejo Integra...   \n",
       "126  A fazenda possui um plano MIC – Manejo Integra...   \n",
       "127  As fazendas utilizam produtos adequados para c...   \n",
       "\n",
       "                                          5_5_criteria  \\\n",
       "0    Verificado que a propriedade auditadas utiliza...   \n",
       "1    O setor de planejamento das fazendas realiza a...   \n",
       "2    Evidenciado através de avaliação documental qu...   \n",
       "3    Os registros de uso dos agroquímicos são reali...   \n",
       "4    Verificado que as quatro propriedades auditada...   \n",
       "..                                                 ...   \n",
       "123  As aplicações de agroquímicos contêm informaçõ...   \n",
       "124  O armazenamento, coleta e descarte de embalage...   \n",
       "125  Todas as fazendas auditadas registram o uso de...   \n",
       "126  O setor de planejamento da empresa realiza as ...   \n",
       "127  Armazenamento e transporte de agroquímicos e s...   \n",
       "\n",
       "                                          5_6_criteria  \\\n",
       "0    As fazendas não utilizam nenhum agroquímico li...   \n",
       "1    As fazendas não utilizam nenhum agroquímico li...   \n",
       "2    Evidenciado através de avaliação documental da...   \n",
       "3    A fazenda não utiliza produtos listados nas Co...   \n",
       "4    As fazendas não utilizam nenhum agroquímico li...   \n",
       "..                                                 ...   \n",
       "123  Nenhuma evidência do uso de agroquímicos lista...   \n",
       "124  Nenhuma evidência do uso de agroquímicos lista...   \n",
       "125  As fazendas não utilizam nenhum agroquímico li...   \n",
       "126  A fazenda não utiliza nenhum agroquímico lista...   \n",
       "127  Foram verificados os registros de aplicação re...   \n",
       "\n",
       "                                          5_7_criteria  \\\n",
       "0    Nas propriedades auditadas são utilizados prod...   \n",
       "1    Verificado nas fazendas auditadas que o uso de...   \n",
       "2    Evidenciado através de avaliação documental Pr...   \n",
       "3    Indicador não aplicável para a auditoria inici...   \n",
       "4    Nas propriedades auditadas são utilizados prod...   \n",
       "..                                                 ...   \n",
       "123  Produtos para controle biológicos são utilizad...   \n",
       "124  Informação disponível sobre as exigências para...   \n",
       "125  Nem todas as fazendas utilizam agentes de cont...   \n",
       "126  Verificado que há o conhecimento sobre uso de ...   \n",
       "127  Existe o uso de agentes de controle biológico ...   \n",
       "\n",
       "                                          5_8_criteria  \\\n",
       "0    Verificado que caso ocorra algum surto de nova...   \n",
       "1    De acordo com relatos dos responsáveis pelas f...   \n",
       "2    Não há evidencias de surtos de pragas nas regi...   \n",
       "3    Indicador não aplicável para a auditoria inici...   \n",
       "4    Verificado que caso ocorra algum surto de nova...   \n",
       "..                                                 ...   \n",
       "123  Foi apresentado procedimento escrito para um e...   \n",
       "124  Para identificar e monitorar as novas espécies...   \n",
       "125  Caso ocorra algum surto de novas pragas, as fa...   \n",
       "126  Caso ocorra algum surto de novas pragas, as fa...   \n",
       "127  Apresentado metodologia destinadas a identific...   \n",
       "\n",
       "                                          5_9_criteria  \\\n",
       "0    As fazendas seguem o documento Uso e Aplicação...   \n",
       "1    As fazendas auditadas possuem procedimento doc...   \n",
       "2    Evidenciado através de avaliação documental o ...   \n",
       "3    São realizados registros das condições meteoro...   \n",
       "4    As fazendas seguem o documento Uso e Aplicação...   \n",
       "..                                                 ...   \n",
       "123  São utilizadas medidas que analisam as condiçõ...   \n",
       "124  As condições atmosféricas como vento, umidade ...   \n",
       "125  As medidas implementadas pelas fazendas para p...   \n",
       "126  As medidas implementadas pela fazenda para pre...   \n",
       "127  Foram apresentados procedimentos de controle d...   \n",
       "\n",
       "                                         5_10_criteria  \\\n",
       "0    As áreas vizinhas possuem o mesmo tipo de prod...   \n",
       "1    O sistema de produção adotado pelas fazendas é...   \n",
       "2    Apesar de evidenciado através de avaliação doc...   \n",
       "3    Fazenda realiza integração agricultura, pecuária.   \n",
       "4    As áreas vizinhas possuem o mesmo tipo de prod...   \n",
       "..                                                 ...   \n",
       "123  Todas as áreas vizinhas têm o mesmo tipo de si...   \n",
       "124  Todas as áreas vizinhas têm o mesmo tipo de si...   \n",
       "125  Os sistemas de produção adotados pelas fazenda...   \n",
       "126  O sistema de produção adotado pelas fazendas é...   \n",
       "127  Todas as áreas vizinhas utilizam o mesmo tipo ...   \n",
       "\n",
       "                                         5_11_criteria    Income  \n",
       "0    Verificado que as sementes adquiridas pelas fa...  1.817497  \n",
       "1    Verificado que todas as sementes utilizadas na...  4.739570  \n",
       "2    Conforme evidencias apresentadas, todas as sem...  2.822034  \n",
       "3    Indicador não aplicável para a auditoria inici...  3.600000  \n",
       "4    Verificado que as sementes adquiridas pelas fa...  3.778279  \n",
       "..                                                 ...       ...  \n",
       "123  A origem das sementes pode ser comprovada atra...  3.838263  \n",
       "124  As sementes compradas são oriundas de fontes l...  3.655403  \n",
       "125  Nenhuma das fazendas produz suas próprias seme...  3.306964  \n",
       "126  A fazenda adquire sementes de fontes legalment...  3.355145  \n",
       "127  As sementes compradas são oriundas de fontes l...  3.509413  \n",
       "\n",
       "[128 rows x 41 columns]"
      ]
     },
     "execution_count": 13,
     "metadata": {},
     "output_type": "execute_result"
    }
   ],
   "source": [
    "brazil_database"
   ]
  },
  {
   "cell_type": "code",
   "execution_count": null,
   "metadata": {},
   "outputs": [],
   "source": []
  }
 ],
 "metadata": {
  "kernelspec": {
   "display_name": "venv",
   "language": "python",
   "name": "python3"
  },
  "language_info": {
   "codemirror_mode": {
    "name": "ipython",
    "version": 3
   },
   "file_extension": ".py",
   "mimetype": "text/x-python",
   "name": "python",
   "nbconvert_exporter": "python",
   "pygments_lexer": "ipython3",
   "version": "3.11.0"
  },
  "orig_nbformat": 4
 },
 "nbformat": 4,
 "nbformat_minor": 2
}
